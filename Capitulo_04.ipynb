{
  "nbformat": 4,
  "nbformat_minor": 0,
  "metadata": {
    "colab": {
      "provenance": [],
      "authorship_tag": "ABX9TyOzsWsbTfRItGIr8b5JmH/g",
      "include_colab_link": true
    },
    "kernelspec": {
      "name": "python3",
      "display_name": "Python 3"
    },
    "language_info": {
      "name": "python"
    }
  },
  "cells": [
    {
      "cell_type": "markdown",
      "metadata": {
        "id": "view-in-github",
        "colab_type": "text"
      },
      "source": [
        "<a href=\"https://colab.research.google.com/github/nobrelu/Python-Bootcamp-IGTI/blob/master/Capitulo_04.ipynb\" target=\"_parent\"><img src=\"https://colab.research.google.com/assets/colab-badge.svg\" alt=\"Open In Colab\"/></a>"
      ]
    },
    {
      "cell_type": "code",
      "metadata": {
        "id": "ZnVV5FPf49pY",
        "colab": {
          "base_uri": "https://localhost:8080/"
        },
        "outputId": "e4d698f3-555c-4268-8799-7d110d9879bc"
      },
      "source": [
        "#def nome_funcao():\n",
        "def somar(num1,num2):\n",
        "  return num1+num2\n",
        "\n",
        "print(somar(1,2)) \n",
        "print(somar(3,2)) \n",
        "\n"
      ],
      "execution_count": null,
      "outputs": [
        {
          "output_type": "stream",
          "text": [
            "3\n",
            "5\n"
          ],
          "name": "stdout"
        }
      ]
    },
    {
      "cell_type": "code",
      "metadata": {
        "colab": {
          "base_uri": "https://localhost:8080/"
        },
        "id": "zEPzP9SFOn1O",
        "outputId": "0251fd92-9594-4a14-96a2-884abb430442"
      },
      "source": [
        "#só o python tem\n",
        "def buscar_informacao(informacao):\n",
        "  return input(\"Digite {} \".format(informacao))\n",
        " \n",
        "nome = buscar_informacao(\"nome\") \n",
        "print(nome)"
      ],
      "execution_count": null,
      "outputs": [
        {
          "output_type": "stream",
          "text": [
            "Digite nome luciana\n",
            "luciana\n"
          ],
          "name": "stdout"
        }
      ]
    },
    {
      "cell_type": "code",
      "metadata": {
        "colab": {
          "base_uri": "https://localhost:8080/"
        },
        "id": "YE5mxmAgP5s2",
        "outputId": "0625baee-c7a4-4490-878b-a2a383d0e51b"
      },
      "source": [
        "#MELHORANDO O CODIGO  DO CAPITULO 03\n",
        "#COLOCANDO FUNCOES\n",
        "\n",
        "def ler_quantidade():\n",
        "  informacao = input(\"Qual quantidade consumida?\")\n",
        "  while (not informacao.isdigit()):\n",
        "    informacao = input('A quantidade deve ser um número. Digite novamente')\n",
        "  return int(informacao)\n",
        "\n",
        "def ler_item_compra(produtos):\n",
        "  nome = input(\"Digite o nome do produto. Para SAIR digite ENTER\")\n",
        "  indice = -1\n",
        "  if (nome==\"\"):\n",
        "    return -1\n",
        "  for i,produto in enumerate(produtos):\n",
        "    if ( nome.upper() in produto.upper() ):\n",
        "      indice = i\n",
        "      break\n",
        "  return indice\n",
        "\n",
        "def processar_compra(itens_comprados):\n",
        "  item_compra = ler_item_compra(produtos)\n",
        "  if(item_compra==-1):\n",
        "    return -1,0\n",
        "  itens_comprados.append(produtos[item_compra])\n",
        "  quantidade = ler_quantidade()  \n",
        "  return item_compra,quantidade\n",
        "\n",
        "produtos = ['Hamburger', 'Batatas Fritas', 'Combo n.1', 'Refrigerante']\n",
        "precos = [15, 10.5, 20, 5]\n",
        "itens_comprados = []\n",
        "#qtd_comprados = []\n",
        "valor_compra = 0\n",
        "\n",
        "item_compra,quantidade = processar_compra(itens_comprados)\n",
        "#qtd_comprados.append(informacao)\n",
        "#item_compra = int(input('Qual o identificador do item da compra?'))\n",
        "#52quantidade = int(input('Qual quantidade consumida?'))\n",
        "\n",
        "\n",
        "while item_compra != -1:\n",
        "  valor_compra = valor_compra + (precos[item_compra]*quantidade)\n",
        "  item_compra,quantidade = processar_compra(itens_comprados)\n",
        "\n",
        "\n",
        "\n",
        "print('****')\n",
        "print('O total da compra {}'.format(valor_compra))  \n",
        "print('****')\n",
        "for item in itens_comprados:\n",
        "  print('Comprado: {}'.format(item))\n",
        "  "
      ],
      "execution_count": null,
      "outputs": [
        {
          "output_type": "stream",
          "text": [
            "Digite o nome do produto. Para SAIR digite ENTERham\n",
            "Qual quantidade consumida?1\n",
            "Digite o nome do produto. Para SAIR digite ENTER\n",
            "****\n",
            "O total da compra 15\n",
            "****\n",
            "Comprado: Hamburger\n"
          ],
          "name": "stdout"
        }
      ]
    },
    {
      "cell_type": "code",
      "metadata": {
        "colab": {
          "base_uri": "https://localhost:8080/"
        },
        "id": "yxE3vdcRK-z9",
        "outputId": "b6723bc9-940d-4897-f5fb-078437ac5eea"
      },
      "source": [
        "nome = \"Teste\"\n",
        "idade = 18\n",
        "print(f\"A idade de {nome} é de {idade}\")"
      ],
      "execution_count": null,
      "outputs": [
        {
          "output_type": "stream",
          "text": [
            "A idade de Teste é de 18\n"
          ],
          "name": "stdout"
        }
      ]
    },
    {
      "cell_type": "code",
      "metadata": {
        "colab": {
          "base_uri": "https://localhost:8080/"
        },
        "id": "_-SuB2gfkwB6",
        "outputId": "8883bf01-1e47-4bea-a907-2246eb4f214d"
      },
      "source": [
        "\n",
        "\n",
        "print(round(3.9858645646, 3))"
      ],
      "execution_count": null,
      "outputs": [
        {
          "output_type": "stream",
          "text": [
            "3.986\n"
          ],
          "name": "stdout"
        }
      ]
    }
  ]
}