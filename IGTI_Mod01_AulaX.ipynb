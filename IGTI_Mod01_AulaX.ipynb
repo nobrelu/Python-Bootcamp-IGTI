{
  "nbformat": 4,
  "nbformat_minor": 0,
  "metadata": {
    "colab": {
      "name": "IGTI_Mod01_AulaX.ipynb",
      "provenance": [],
      "authorship_tag": "ABX9TyM8Bywy+Zs6Gx4kcOQAfS9I",
      "include_colab_link": true
    },
    "kernelspec": {
      "name": "python3",
      "display_name": "Python 3"
    },
    "language_info": {
      "name": "python"
    }
  },
  "cells": [
    {
      "cell_type": "markdown",
      "metadata": {
        "id": "view-in-github",
        "colab_type": "text"
      },
      "source": [
        "<a href=\"https://colab.research.google.com/github/nobrelu/Python-Bootcamp-IGTI/blob/master/IGTI_Mod01_AulaX.ipynb\" target=\"_parent\"><img src=\"https://colab.research.google.com/assets/colab-badge.svg\" alt=\"Open In Colab\"/></a>"
      ]
    },
    {
      "cell_type": "code",
      "metadata": {
        "colab": {
          "base_uri": "https://localhost:8080/"
        },
        "id": "Fj9poNGy-lvs",
        "outputId": "01a1f793-c0fe-48e1-f066-a2de9b6d6c8a"
      },
      "source": [
        "print(\"Teste Colab\")"
      ],
      "execution_count": 1,
      "outputs": [
        {
          "output_type": "stream",
          "text": [
            "Teste Colab\n"
          ],
          "name": "stdout"
        }
      ]
    }
  ]
}