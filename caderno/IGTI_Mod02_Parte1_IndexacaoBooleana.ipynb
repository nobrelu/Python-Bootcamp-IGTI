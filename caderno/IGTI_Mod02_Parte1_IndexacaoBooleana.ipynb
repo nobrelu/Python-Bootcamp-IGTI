{
  "nbformat": 4,
  "nbformat_minor": 0,
  "metadata": {
    "colab": {
      "provenance": []
    },
    "kernelspec": {
      "name": "python3",
      "display_name": "Python 3"
    },
    "language_info": {
      "name": "python"
    }
  },
  "cells": [
    {
      "cell_type": "code",
      "metadata": {
        "id": "vtDPUdGuzUKC"
      },
      "source": [
        "import numpy as np\n",
        "import pandas as pd"
      ],
      "execution_count": null,
      "outputs": []
    },
    {
      "cell_type": "markdown",
      "metadata": {
        "id": "RC9vGLK7zYU4"
      },
      "source": [
        "# Comparações e Indexação booleana\n",
        "\n"
      ]
    },
    {
      "cell_type": "code",
      "metadata": {
        "colab": {
          "base_uri": "https://localhost:8080/"
        },
        "id": "SFzinXYXDGje",
        "outputId": "334e7613-576d-4af3-a835-1dc1191dc7d6"
      },
      "source": [
        "# criação dos arrays \n",
        "x = np.array([[1, 2], [3, 4]])\n",
        "y = np.array([1.5, 3.5])\n",
        "print(\"x: \\n\", x)\n",
        "print(\"y: \\n\", y)"
      ],
      "execution_count": null,
      "outputs": [
        {
          "output_type": "stream",
          "text": [
            "x: \n",
            " [[1 2]\n",
            " [3 4]]\n",
            "y: \n",
            " [1.5 3.5]\n"
          ],
          "name": "stdout"
        }
      ]
    },
    {
      "cell_type": "code",
      "metadata": {
        "colab": {
          "base_uri": "https://localhost:8080/"
        },
        "id": "GEbYzNtaEI8g",
        "outputId": "bab14dee-7de8-4749-def4-003aa1ca5944"
      },
      "source": [
        "#comparações ponto a ponto\n",
        "print(\"Comparação de um array com um esalar (>): \\n\", x > 2)\n",
        "print(\"Comparação de um array com um esalar (>=): \\n\", x >= 2)\n",
        "print(\"Comparação de um array com um esalar (<): \\n\", x < 2)\n",
        "print(\"Comparação de um array com um esalar (<=): \\n\", x <= 2)\n",
        "print(\"Comparação entre arrays (==): \\n\", x == x)\n",
        "print(\"Comparação entre arrays (>): \\n\", x > x)\n",
        "print(\"Comparação entre arrays (>): \\n\", x > y) #broadcasting\n"
      ],
      "execution_count": null,
      "outputs": [
        {
          "output_type": "stream",
          "text": [
            "Comparação de um array com um esalar (>): \n",
            " [[False False]\n",
            " [ True  True]]\n",
            "Comparação de um array com um esalar (>=): \n",
            " [[False  True]\n",
            " [ True  True]]\n",
            "Comparação de um array com um esalar (<): \n",
            " [[ True False]\n",
            " [False False]]\n",
            "Comparação de um array com um esalar (<=): \n",
            " [[ True  True]\n",
            " [False False]]\n",
            "Comparação entre arrays (==): \n",
            " [[ True  True]\n",
            " [ True  True]]\n",
            "Comparação entre arrays (>): \n",
            " [[False False]\n",
            " [False False]]\n",
            "Comparação entre arrays (>): \n",
            " [[False False]\n",
            " [ True  True]]\n"
          ],
          "name": "stdout"
        }
      ]
    },
    {
      "cell_type": "markdown",
      "metadata": {
        "id": "wqzOhQtBGHFt"
      },
      "source": [
        "## Indexação booleana\n"
      ]
    },
    {
      "cell_type": "code",
      "metadata": {
        "colab": {
          "base_uri": "https://localhost:8080/"
        },
        "id": "94A_wVbIGJnD",
        "outputId": "6dc8065f-6e00-43cb-f81c-4cc526148d40"
      },
      "source": [
        "# indexação booleana\n",
        "\n",
        "x = np.array([[1, 3, 7], [4, 11, 21], [42, 8, 9]])\n",
        "print(\"x: \\n\", x)"
      ],
      "execution_count": null,
      "outputs": [
        {
          "output_type": "stream",
          "text": [
            "x: \n",
            " [[ 1  3  7]\n",
            " [ 4 11 21]\n",
            " [42  8  9]]\n"
          ],
          "name": "stdout"
        }
      ]
    },
    {
      "cell_type": "code",
      "metadata": {
        "colab": {
          "base_uri": "https://localhost:8080/"
        },
        "id": "qyisv4wtHGHU",
        "outputId": "9f981105-816d-49bd-a3ba-8c745ae8eb71"
      },
      "source": [
        "#indexação booleana: retornar o numero de elementos maiores que k\n",
        "k = 10\n",
        "cond = x > k\n",
        "print(\"condição: \\n\", cond)\n",
        "print(f\"elementos maiores que {k}: \", len(x[cond]))"
      ],
      "execution_count": null,
      "outputs": [
        {
          "output_type": "stream",
          "text": [
            "condição: \n",
            " [[False False False]\n",
            " [False  True  True]\n",
            " [ True False False]]\n",
            "elementos maiores que 10:  3\n"
          ],
          "name": "stdout"
        }
      ]
    },
    {
      "cell_type": "code",
      "metadata": {
        "colab": {
          "base_uri": "https://localhost:8080/"
        },
        "id": "jRVLAH6qHXWc",
        "outputId": "6a233f1b-fb99-4707-cf69-69bdc906e5fa"
      },
      "source": [
        "#indeção booleana: extração de números pares\n",
        "cond = x % 2 == 0 #numeros pares\n",
        "print(\"condição: \\n\", cond)\n",
        "print(\"numeros pares\", x[cond])"
      ],
      "execution_count": null,
      "outputs": [
        {
          "output_type": "stream",
          "text": [
            "condição: \n",
            " [[False False False]\n",
            " [ True False False]\n",
            " [ True  True False]]\n",
            "numeros pares [ 4 42  8]\n"
          ],
          "name": "stdout"
        }
      ]
    },
    {
      "cell_type": "code",
      "metadata": {
        "colab": {
          "base_uri": "https://localhost:8080/"
        },
        "id": "XLGyAnTfJUzi",
        "outputId": "409a70fd-5462-4b11-baef-089a8d8c1ef0"
      },
      "source": [
        "# indexacao boolena extracao de numeros impares\n",
        "cond = x % 2 == 1 #numeros impares\n",
        "print(\"condição: \\n\", cond)\n",
        "print(\"numeros impares\", x[cond])"
      ],
      "execution_count": null,
      "outputs": [
        {
          "output_type": "stream",
          "text": [
            "condição: \n",
            " [[ True  True  True]\n",
            " [False  True  True]\n",
            " [False False  True]]\n",
            "numeros impares [ 1  3  7 11 21  9]\n"
          ],
          "name": "stdout"
        }
      ]
    },
    {
      "cell_type": "markdown",
      "metadata": {
        "id": "fS1jJgQ0NkxB"
      },
      "source": [
        "# Numpy"
      ]
    },
    {
      "cell_type": "code",
      "metadata": {
        "colab": {
          "base_uri": "https://localhost:8080/"
        },
        "id": "7JPiWrtkOgep",
        "outputId": "6f0b0d6f-7418-4f78-f976-7bd431b9142c"
      },
      "source": [
        "\n",
        "x = np.array([[1, 3, 7], [4, 11, 21], [42, 8, 9]])\n",
        "print(\"x: \\n\", x)"
      ],
      "execution_count": null,
      "outputs": [
        {
          "output_type": "stream",
          "text": [
            "x: \n",
            " [[ 1  3  7]\n",
            " [ 4 11 21]\n",
            " [42  8  9]]\n"
          ],
          "name": "stdout"
        }
      ]
    },
    {
      "cell_type": "code",
      "metadata": {
        "colab": {
          "base_uri": "https://localhost:8080/"
        },
        "id": "utVQr-I1NivV",
        "outputId": "a757073c-5958-4722-c94a-0e615b766032"
      },
      "source": [
        "# reshape: transforma a matriz em um vetor coluna\n",
        "# (3, 3) vira (9, 1): 3*3 = 9*1 = 9\n",
        "print(\"transformação de em um vetor coluna: \\n\", x.reshape(1, 9))\n",
        "print(\"transformação de em um vetor coluna: \\n\", x.reshape(9, 1))"
      ],
      "execution_count": null,
      "outputs": [
        {
          "output_type": "stream",
          "text": [
            "transformação de em um vetor coluna: \n",
            " [[ 1  3  7  4 11 21 42  8  9]]\n",
            "transformação de em um vetor coluna: \n",
            " [[ 1]\n",
            " [ 3]\n",
            " [ 7]\n",
            " [ 4]\n",
            " [11]\n",
            " [21]\n",
            " [42]\n",
            " [ 8]\n",
            " [ 9]]\n"
          ],
          "name": "stdout"
        }
      ]
    },
    {
      "cell_type": "code",
      "metadata": {
        "colab": {
          "base_uri": "https://localhost:8080/"
        },
        "id": "DLNGJLUHOixI",
        "outputId": "89664dd7-0da7-43ec-c9f6-f58469244b0d"
      },
      "source": [
        "#transposição de coluna\n",
        "print(\"x transposta: \\n\", x.T)"
      ],
      "execution_count": null,
      "outputs": [
        {
          "output_type": "stream",
          "text": [
            "x transposta: \n",
            " [[ 1  4 42]\n",
            " [ 3 11  8]\n",
            " [ 7 21  9]]\n"
          ],
          "name": "stdout"
        }
      ]
    },
    {
      "cell_type": "code",
      "metadata": {
        "colab": {
          "base_uri": "https://localhost:8080/"
        },
        "id": "RRfiQx6nPgzi",
        "outputId": "b7716f6a-e90a-4096-cf8d-e6a677e8e002"
      },
      "source": [
        "# np.sum : soma em um dado eixo, axis = {0: linha, 1: coluna}\n",
        "x = np.array([[1, 3, 7], [4, 11, 21], [42, 8, 9]])\n",
        "print(\"x: \\n\", x)\n",
        "print(\"soma te todos os elementos do x: \\n\", np.sum(x))\n",
        "print(\"soma te todos os elementos das linhas x: \\n\", np.sum(x, axis=0))\n",
        "print(\"soma te todos os elementos das colunas x: \\n\", np.sum(x, axis=1))"
      ],
      "execution_count": null,
      "outputs": [
        {
          "output_type": "stream",
          "text": [
            "x: \n",
            " [[ 1  3  7]\n",
            " [ 4 11 21]\n",
            " [42  8  9]]\n",
            "soma te todos os elementos do x: \n",
            " 106\n",
            "soma te todos os elementos das linhas x: \n",
            " [47 22 37]\n",
            "soma te todos os elementos das colunas x: \n",
            " [11 36 59]\n"
          ],
          "name": "stdout"
        }
      ]
    },
    {
      "cell_type": "code",
      "metadata": {
        "colab": {
          "base_uri": "https://localhost:8080/"
        },
        "id": "LIpVtx-FSpxN",
        "outputId": "7bcfb703-519e-42a5-ef1a-1463580f0ca4"
      },
      "source": [
        "#np.mean: mpeda em um dado eixo, axis = {0: linha, 1:coluna}\n",
        "print(\"x: \\n\", x)\n",
        "print(\"média de todos elementos de x: \", np.mean(x))\n",
        "print(\"média de x ao longo das linhas: \", np.mean(x, axis=0))\n",
        "print(\"média de x ao longo das colunas: \", np.mean(x, axis=1))\n",
        "# np.median (retorna a mediana)"
      ],
      "execution_count": null,
      "outputs": [
        {
          "output_type": "stream",
          "text": [
            "x: \n",
            " [[ 1  3  7]\n",
            " [ 4 11 21]\n",
            " [42  8  9]]\n",
            "média de todos elementos de x:  11.777777777777779\n",
            "média de x ao longo das linhas:  [15.66666667  7.33333333 12.33333333]\n",
            "média de x ao longo das colunas:  [ 3.66666667 12.         19.66666667]\n"
          ],
          "name": "stdout"
        }
      ]
    },
    {
      "cell_type": "code",
      "metadata": {
        "colab": {
          "base_uri": "https://localhost:8080/"
        },
        "id": "V0A0Z7Bawx_O",
        "outputId": "8d13dd52-5c25-43bf-9f4a-0631bf7e8edb"
      },
      "source": [
        "#np.where, identificacao dos indices de uma dada condicao é atendida. uso conjunto com indexao booleana.\n",
        "cond = x % 2== 0 #numeros pares\n",
        "print(\"condicao: \\n\", cond)\n",
        "i, j = np.where(cond) #indices x[i,j] = x[cond]\n",
        "print(\"indice i (linhas): \",  i )\n",
        "print(\"indice j (colunas): \",  j )\n",
        "\n"
      ],
      "execution_count": null,
      "outputs": [
        {
          "output_type": "stream",
          "text": [
            "condicao: \n",
            " [[False False False]\n",
            " [ True False False]\n",
            " [ True  True False]]\n",
            "indice i (linhas):  [1 2 2]\n",
            "indice j (colunas):  [0 0 1]\n"
          ],
          "name": "stdout"
        }
      ]
    },
    {
      "cell_type": "code",
      "metadata": {
        "colab": {
          "base_uri": "https://localhost:8080/"
        },
        "id": "a05UVBRox6uo",
        "outputId": "80715a4d-31d3-42cd-cedb-24cb37679323"
      },
      "source": [
        "#indexacao booleana e slicing: selecionar linhas de x que possuem algum numero par\n",
        "print(\"x: \\n\", x)\n",
        "cond = x % 2== 0 #numeros pares\n",
        "print(\"condicao: \\n\", cond)\n",
        "\n",
        "#se houver alguma condico True na linha, a soma será > 0\n",
        "i_row = np.where(np.sum(cond, axis=1))[0]\n",
        "print(\"indice das linhas que possuem numeros pares: \", i_row)\n",
        "print(\"linhas que possuem numeros pares: \", x[i_row])"
      ],
      "execution_count": null,
      "outputs": [
        {
          "output_type": "stream",
          "text": [
            "x: \n",
            " [[ 1  3  7]\n",
            " [ 4 11 21]\n",
            " [42  8  9]]\n",
            "condicao: \n",
            " [[False False False]\n",
            " [ True False False]\n",
            " [ True  True False]]\n",
            "indice das linhas que possuem numeros pares:  [1 2]\n",
            "linhas que possuem numeros pares:  [[ 4 11 21]\n",
            " [42  8  9]]\n"
          ],
          "name": "stdout"
        }
      ]
    },
    {
      "cell_type": "markdown",
      "metadata": {
        "id": "OO2yJmXH3vOR"
      },
      "source": [
        "# Regressão Linear\n",
        "\n",
        "### Erro quadrático: \n",
        "### y = f(x) = ax + b"
      ]
    },
    {
      "cell_type": "code",
      "metadata": {
        "id": "n6lilaE46EWT"
      },
      "source": [
        "#regressão linear com numpy\n",
        "\n",
        "import matplotlib.pyplot as plt\n"
      ],
      "execution_count": null,
      "outputs": []
    },
    {
      "cell_type": "code",
      "metadata": {
        "id": "hemv7bWx6e3O"
      },
      "source": [
        "#aff mto mal feito o igti , sem base , cruzes"
      ],
      "execution_count": null,
      "outputs": []
    }
  ]
}