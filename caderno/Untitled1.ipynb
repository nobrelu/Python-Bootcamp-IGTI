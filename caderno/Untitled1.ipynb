{
  "nbformat": 4,
  "nbformat_minor": 0,
  "metadata": {
    "colab": {
      "provenance": []
    },
    "kernelspec": {
      "name": "python3",
      "display_name": "Python 3"
    },
    "language_info": {
      "name": "python"
    }
  },
  "cells": [
    {
      "cell_type": "code",
      "metadata": {
        "colab": {
          "base_uri": "https://localhost:8080/"
        },
        "id": "kiMUBAQgDJ0y",
        "outputId": "ee052c40-3642-4ccf-e8f6-7bc8206fa5e8"
      },
      "source": [
        "aliquota = {'aliquota': 1, 'valor': 100}\n",
        "print(aliquota)\n",
        "print(type(aliquota))\n",
        "print(aliquota['valor'])\n",
        "\n",
        "aliquota2 = [{'aliquota': 0, 'valor': 100}, {'aliquota': 2, 'valor': (3000 - 1000) * 7.5 / 100}]\n",
        "print(aliquota2)\n",
        "print(type(aliquota2))\n",
        "\n",
        "\n",
        "aliquota3 = (3000 - 1000) * 7.5 / 100\n",
        "print(aliquota3)\n",
        "print(type(aliquota3))"
      ],
      "execution_count": null,
      "outputs": [
        {
          "output_type": "stream",
          "text": [
            "{'aliquota': 0, 'valor': 100}\n",
            "<class 'dict'>\n",
            "100\n",
            "[{'aliquota': 0, 'valor': 100}, {'aliquota': 2, 'valor': 150.0}]\n",
            "<class 'list'>\n",
            "150.0\n",
            "<class 'float'>\n"
          ],
          "name": "stdout"
        }
      ]
    }
  ]
}