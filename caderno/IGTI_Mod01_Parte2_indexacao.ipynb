{
  "nbformat": 4,
  "nbformat_minor": 0,
  "metadata": {
    "colab": {
      "provenance": []
    },
    "kernelspec": {
      "name": "python3",
      "display_name": "Python 3"
    },
    "language_info": {
      "name": "python"
    }
  },
  "cells": [
    {
      "cell_type": "markdown",
      "metadata": {
        "id": "oOUJbsvw64ih"
      },
      "source": [
        "# indexacao de arrays\n"
      ]
    },
    {
      "cell_type": "code",
      "metadata": {
        "id": "2jArrTh57Ga_"
      },
      "source": [
        "import numpy as np\n"
      ],
      "execution_count": null,
      "outputs": []
    },
    {
      "cell_type": "code",
      "metadata": {
        "colab": {
          "base_uri": "https://localhost:8080/"
        },
        "id": "xSldX-8u614F",
        "outputId": "fdc17328-beb8-48db-a3a1-55ad188ffaf4"
      },
      "source": [
        "# os indice no python vao de 0 a n-1\n",
        "# onde n é o tamanho da dimensao\n",
        "x = np.linspace(start=10, stop=100, num=10)\n",
        "print('x: ', x)\n",
        "print(\"shape: \", x.shape)"
      ],
      "execution_count": null,
      "outputs": [
        {
          "output_type": "stream",
          "text": [
            "x:  [ 10.  20.  30.  40.  50.  60.  70.  80.  90. 100.]\n",
            "shape:  (10,)\n"
          ],
          "name": "stdout"
        }
      ]
    },
    {
      "cell_type": "code",
      "metadata": {
        "colab": {
          "base_uri": "https://localhost:8080/"
        },
        "id": "N-HudBrA7qh5",
        "outputId": "8518bccd-36d2-4988-a770-a220ff8b4982"
      },
      "source": [
        "# extracao de elementos\n",
        "print('x: ', x)\n",
        "print('primeiro elemento: ', x[0])\n",
        "print('ultimo elemento: ', x[-1])"
      ],
      "execution_count": null,
      "outputs": [
        {
          "output_type": "stream",
          "text": [
            "x:  [ 10.  20.  30.  40.  50.  60.  70.  80.  90. 100.]\n",
            "primeiro elemento:  10.0\n",
            "ultimo elemento:  100.0\n"
          ],
          "name": "stdout"
        }
      ]
    },
    {
      "cell_type": "code",
      "metadata": {
        "colab": {
          "base_uri": "https://localhost:8080/"
        },
        "id": "g2TKvNCH70yR",
        "outputId": "69b3373c-f80c-4bed-c128-43e4f6daa851"
      },
      "source": [
        "#slicing = extracao de subarrays\n",
        "print('x: ', x)\n",
        "print('dois primeiros elementos: ', x[0:2])\n",
        "print('dois primeiros elementos: ', x[:2])\n",
        "print('dois ultimos elementos: ', x[-2:])"
      ],
      "execution_count": null,
      "outputs": [
        {
          "output_type": "stream",
          "text": [
            "x:  [ 10.  20.  30.  40.  50.  60.  70.  80.  90. 100.]\n",
            "dois primeiros elementos:  [10. 20.]\n",
            "dois primeiros elementos:  [10. 20.]\n",
            "dois ultimos elementos:  [ 90. 100.]\n"
          ],
          "name": "stdout"
        }
      ]
    },
    {
      "cell_type": "code",
      "metadata": {
        "colab": {
          "base_uri": "https://localhost:8080/"
        },
        "id": "v_l5TlHa8I_8",
        "outputId": "e7a882f7-1b73-43f9-9dba-b5d9b2e91dd9"
      },
      "source": [
        "# slicing em array @D (matrizes)\n",
        "x = x.reshape(2,5) # reshape de x para 2 linhas e 5 colunas\n",
        "print(\"x: \\n\", x)"
      ],
      "execution_count": null,
      "outputs": [
        {
          "output_type": "stream",
          "text": [
            "x: \n",
            " [[ 10.  20.  30.  40.  50.]\n",
            " [ 60.  70.  80.  90. 100.]]\n"
          ],
          "name": "stdout"
        }
      ]
    },
    {
      "cell_type": "code",
      "metadata": {
        "colab": {
          "base_uri": "https://localhost:8080/"
        },
        "id": "l9tqlfeF8WAT",
        "outputId": "760e0fcf-5f16-4ce7-d192-d3552969f3f1"
      },
      "source": [
        "#extracao de elementos\n",
        "print(\"primeira linha, segunda coluna: \", x[0, 1])\n",
        "print(\"ultima linha, ultima coluna: \", x[-1, -1])\n",
        "print(\"ultima linha, ultima coluna: \", x[1, 4])"
      ],
      "execution_count": null,
      "outputs": [
        {
          "output_type": "stream",
          "text": [
            "primeira linha, segunda coluna:  20.0\n",
            "ultima linha, ultima coluna:  100.0\n",
            "ultima linha, ultima coluna:  100.0\n"
          ],
          "name": "stdout"
        }
      ]
    },
    {
      "cell_type": "code",
      "metadata": {
        "colab": {
          "base_uri": "https://localhost:8080/"
        },
        "id": "evwAa1Mz-dCd",
        "outputId": "8c0f8ab8-0c0f-4ea8-8d59-60b733e103f6"
      },
      "source": [
        "#slicing: extracao de subarrays\n",
        "print(\"x: \\n\", x)\n",
        "print(\"primeira linha inteira: \", x[0, :])\n",
        "print(\"primeira linha, segunda a quarta coluna: \", x[0, 1:4])\n",
        "print(\"ultima linha inteira: \\n\", x [: , [-1]])"
      ],
      "execution_count": null,
      "outputs": [
        {
          "output_type": "stream",
          "text": [
            "x: \n",
            " [[ 10.  20.  30.  40.  50.]\n",
            " [ 60.  70.  80.  90. 100.]]\n",
            "primeira linha inteira:  [10. 20. 30. 40. 50.]\n",
            "primeira linha, segunda a quarta coluna:  [20. 30. 40.]\n",
            "ultima linha inteira: \n",
            " [[ 50.]\n",
            " [100.]]\n"
          ],
          "name": "stdout"
        }
      ]
    },
    {
      "cell_type": "code",
      "metadata": {
        "colab": {
          "base_uri": "https://localhost:8080/"
        },
        "id": "AzXu_e3QFYxN",
        "outputId": "9f73df55-f5ca-4706-93e1-295730786c72"
      },
      "source": [
        "#atencao com compartilhamento de memoria em subarrays!!\n",
        "x = np.array([1,2,3])\n",
        "print(\"x antes: \", x)\n",
        "y = x[:2]\n",
        "y[0] = -100 #alterao do valor y altera o valor de x\n",
        "print(\"x depois: \", x)"
      ],
      "execution_count": null,
      "outputs": [
        {
          "output_type": "stream",
          "text": [
            "x antes:  [1 2 3]\n",
            "x depois:  [-100    2    3]\n"
          ],
          "name": "stdout"
        }
      ]
    },
    {
      "cell_type": "code",
      "metadata": {
        "colab": {
          "base_uri": "https://localhost:8080/"
        },
        "id": "Je15r4FOGa5s",
        "outputId": "669ae238-392b-44c1-ef94-1f4742e8fbb1"
      },
      "source": [
        "#caso queira q nao seja alterado\n",
        "x = np.array([1,2,3])\n",
        "print(\"x antes: \", x)\n",
        "y = x[:2].copy() # use o copy\n",
        "y[0] = -100 #alterao do valor y altera o valor de x\n",
        "print(\"x depois: \", x)\n",
        "print(\"y : \", y)"
      ],
      "execution_count": null,
      "outputs": [
        {
          "output_type": "stream",
          "text": [
            "x antes:  [1 2 3]\n",
            "x depois:  [1 2 3]\n",
            "y :  [-100    2]\n"
          ],
          "name": "stdout"
        }
      ]
    }
  ]
}