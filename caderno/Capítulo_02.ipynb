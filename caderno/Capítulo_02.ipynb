{
  "nbformat": 4,
  "nbformat_minor": 0,
  "metadata": {
    "colab": {
      "provenance": []
    },
    "kernelspec": {
      "name": "python3",
      "display_name": "Python 3"
    },
    "language_info": {
      "name": "python"
    }
  },
  "cells": [
    {
      "cell_type": "code",
      "metadata": {
        "colab": {
          "base_uri": "https://localhost:8080/"
        },
        "id": "IrUAq30_cxQp",
        "outputId": "9b948ad1-c416-4332-a4b0-59d905aa31db"
      },
      "source": [
        "# True ou False\n",
        "nome = input(\"Digite o seu nome: \")\n",
        "print(len(nome))\n",
        "if len(nome) > 20:\n",
        "  print(\"Error\")\n",
        "  nome = input(\"Digite o seu nome: \")\n",
        "print(\"Nome digitado: {}\".format(nome))"
      ],
      "execution_count": null,
      "outputs": [
        {
          "output_type": "stream",
          "text": [
            "Digite o seu nome: dsdkjsad asdas d sandkjlsadsad\n",
            "30\n",
            "Error\n",
            "Digite o seu nome: sad ash dusjk hsak hdsaljkd sjads a\n",
            "Nome digitado: sad ash dusjk hsak hdsaljkd sjads a\n"
          ],
          "name": "stdout"
        }
      ]
    },
    {
      "cell_type": "code",
      "metadata": {
        "colab": {
          "base_uri": "https://localhost:8080/"
        },
        "id": "n2bC1cMEf1Og",
        "outputId": "bc0f5613-27da-499e-82fc-7fcc5a70abb1"
      },
      "source": [
        "usuario = input(\"Digite o seu usuario: \")\n",
        "senha = input(\"Digite a sua senha: \")\n",
        "if (usuario == \"marcelo\")and(senha==\"secreto\"):\n",
        "  print(\"Usuario logado\")\n",
        "else:\n",
        "  print(\"Dados incorretos ou inválidos\")"
      ],
      "execution_count": null,
      "outputs": [
        {
          "output_type": "stream",
          "text": [
            "Digite o seu usuario: luciana\n",
            "Digite a sua senha: 123456\n",
            "Dados incorretos ou inválidos\n"
          ],
          "name": "stdout"
        }
      ]
    },
    {
      "cell_type": "code",
      "metadata": {
        "colab": {
          "base_uri": "https://localhost:8080/"
        },
        "id": "_H_wz5CQo1TG",
        "outputId": "9a9a8259-dd77-42ee-c11d-3896b81610e1"
      },
      "source": [
        "#tem carteira de moto\n",
        "#tem carteira de carro\n",
        "questao = input(\"Você tem carteira de moto? (S/N) \")\n",
        "carteira_moto = (questao.upper()==\"S\")or(questao.upper()==\"SIM\")\n",
        "questao = input(\"Você tem carteira de carro? (S/N) \")\n",
        "carteira_carro = (questao.upper()==\"S\")or(questao.upper()==\"SIM\")\n",
        "\n",
        "if (carteira_carro)and(not(carteira_moto)):\n",
        "  print(\"Você está no nível 1\")\n",
        "elif (not(carteira_carro))and(carteira_moto):\n",
        "  print(\"Você está no nível 2\")\n",
        "elif (carteira_carro)and(carteira_moto):  \n",
        "  print(\"Você está no nível 3\")\n",
        "else:\n",
        "  print(\"Você não tem carteira\")\n"
      ],
      "execution_count": null,
      "outputs": [
        {
          "output_type": "stream",
          "text": [
            "Você tem carteira de moto? (S/N) n\n",
            "Você tem carteira de carro? (S/N) \n",
            "Você não tem carteira\n"
          ],
          "name": "stdout"
        }
      ]
    },
    {
      "cell_type": "code",
      "metadata": {
        "id": "9W-xp3VdxaV6"
      },
      "source": [
        "#primeiro emprego?\n",
        "#tem alguma carteira?\n",
        "#quero saber se ele tem vaga ou nao na empresa\n",
        "#tem vaga se é primeiro empregou ou se tem carteira de habilitacao\n",
        "primeiro_emprego = True\n",
        "habilitacao = True\n",
        "if(primeiro_emprego)or(habilitacao):\n",
        "  print(\"Você pode trabalhar na nossa empresa\")\n",
        "else:\n",
        "  print(\"Desculpe, não há vagas para você\") "
      ],
      "execution_count": null,
      "outputs": []
    },
    {
      "cell_type": "code",
      "metadata": {
        "colab": {
          "base_uri": "https://localhost:8080/"
        },
        "id": "IVUi1oU-NlDN",
        "outputId": "187a23f5-ba73-4bee-f288-f4d6841ae20d"
      },
      "source": [
        "#JOGO DE DADOS\n",
        "#Escolho o valor entre 1 e 6\n",
        "#Escolho quanto quero apostar Máximo 100 (valor que tenho no bolso)\n",
        "#Jogo dois dados\n",
        "#Se 1 dado igual, ganho 2 vezes o apostado\n",
        "#Se os 2 dados derem iguais, ganho 10x o valor o apostado\n",
        "\n",
        "#importar o randrange\n",
        "from random import randrange\n",
        "\n",
        "bolso = 100\n",
        "numero_apostado = int(input(\"Qual número você aposta? \")) #converte a string do input em inteiro\n",
        "print(numero_apostado)\n",
        "valor_aposta = float(input(\"Qual o valor da aposta? \"))\n",
        "if valor_aposta>bolso:\n",
        "  print(\"Você não tem esse dinheiro\")\n",
        "else: \n",
        "  bolso = bolso - valor_aposta\n",
        "  # randrange(1,6) #numero aleatorio entre 1 e 6\n",
        "  dado1 = randrange(1,6)\n",
        "  dado2 = randrange(1,6)\n",
        "  mensagem_ganho = \"Você ganhou: {}. E agora está com {}.\"\n",
        "  print(\"Sorteio dado 1: {}\".format(dado1))\n",
        "  print(\"Sorteio dado 2: {}\".format(dado2))\n",
        "  resultado = 0\n",
        "  if (dado1==numero_apostado)and(dado2==numero_apostado):\n",
        "    resultado = valor_aposta * 10\n",
        "    bolso = bolso + resultado\n",
        "    print(mensagem_ganho.format(resultado, bolso))\n",
        "  elif (dado1==numero_apostado)or(dado2==numero_apostado):\n",
        "    resultado = valor_aposta * 2\n",
        "    bolso = bolso + resultado\n",
        "    print(mensagem_ganho.format(resultado, bolso))\n",
        "  else:\n",
        "    print(\"Você não ganhou nada! E ainda tem {} para apostar\".format(bolso))   \n"
      ],
      "execution_count": null,
      "outputs": [
        {
          "output_type": "stream",
          "text": [
            "Qual número você aposta? 2\n",
            "2\n",
            "Qual o valor da aposta? 10\n",
            "Sorteio dado 1: 5\n",
            "Sorteio dado 2: 2\n",
            "Você ganhou: 20.0. E agora está com 110.0.\n"
          ],
          "name": "stdout"
        }
      ]
    },
    {
      "cell_type": "code",
      "metadata": {
        "colab": {
          "base_uri": "https://localhost:8080/",
          "height": 129
        },
        "id": "-D71LoByY6b_",
        "outputId": "638b7b4b-74a0-4c98-ffea-c459f8ce20c9"
      },
      "source": [
        "#CALCULO IMC\n",
        "# FORMULA IMC = PESO / (ALTURA²)\n",
        "#ABAIXO 17 = MUITO ABAIXO DO PESO\n",
        "#ENTRE 17 E 18.5 = ABAIXO DO PESO\n",
        "#ENTRE 18.5 E 25 = PESO NORMAL\n",
        "#ENTRE 25 E 30 = ACIMA DO PESO\n",
        "#ENTRE 30 E 35 = OBESIDADE GRAU I\n",
        "#ENTRE 35 E 40 = OBESIDADE GRAU II\n",
        "#ACIMA DE 40 = OBESIDADE MÓRBIDA\n",
        "\n",
        "print(\"Olá, vamos ajudar você a ficar saúdavél. Vamos descobrir seu IMC\")\n",
        "peso = float(input(\"Digite o seu peso: \"))\n",
        "altura = float(input(\"Digite a sua altura: \"))\n",
        "imc = peso / (altura**2)\n",
        "print(\"Sei IMC é {}.\".format(imc))3,\n",
        "\n",
        "if imc < 17:\n",
        "  print(\"Você está muito abaixo do peso.\")\n",
        "elif (imc>=17)and(imc<18.5):\n",
        "  print(\"Você está abaixo do peso.\")\n",
        "elif (imc>=18.5)and(imc<25):\n",
        "  print(\"Você está no seu peso normal.\")\n",
        "elif (imc>=25)and(imc<30):\n",
        "  print(\"Você está acima do peso.\")\n",
        "elif (imc>=30)and(imc<35):\n",
        "  print(\"Você está no grau I da obesidade.\")\n",
        "elif (imc>=35)and(imc<40):\n",
        "  print(\"Você está no grau II da obesidade.\")\n",
        "elif (imc>=40):\n",
        "  print(\"Você está com obesidade mórbida\")\n",
        "else:\n",
        "  print(\"Houve algum erro de cálculo\")"
      ],
      "execution_count": null,
      "outputs": [
        {
          "output_type": "error",
          "ename": "SyntaxError",
          "evalue": "ignored",
          "traceback": [
            "\u001b[0;36m  File \u001b[0;32m\"<ipython-input-20-d26935cefcee>\"\u001b[0;36m, line \u001b[0;32m15\u001b[0m\n\u001b[0;31m    print(\"Sei IMC é {}.\".format(imc))3,\u001b[0m\n\u001b[0m                                      ^\u001b[0m\n\u001b[0;31mSyntaxError\u001b[0m\u001b[0;31m:\u001b[0m invalid syntax\n"
          ]
        }
      ]
    },
    {
      "cell_type": "code",
      "metadata": {
        "colab": {
          "base_uri": "https://localhost:8080/"
        },
        "id": "EKONkh1CNsRl",
        "outputId": "5f78fa6f-b924-4818-ae91-39b0371faad8"
      },
      "source": [
        "print('maçã' + 'uva' + 'banana')\n",
        "a = 4\n",
        "\n",
        "b = 5\n",
        "\n",
        "c = a < b\n",
        "\n",
        "d = a > b\n",
        "\n",
        "e = a != b\n",
        "\n",
        "print(c)\n",
        "\n",
        "print(d)\n",
        "\n",
        "print(e)\n",
        "\n",
        "print('-----')\n",
        "\n",
        "print (3 > 4)\n",
        "\n",
        "print ( 7 <= 10)\n",
        "\n",
        "print ( 4 >= 4)\n",
        "print (6 != 6)"
      ],
      "execution_count": null,
      "outputs": [
        {
          "output_type": "stream",
          "text": [
            "maçãuvabanana\n",
            "True\n",
            "False\n",
            "True\n",
            "-----\n",
            "False\n",
            "True\n",
            "True\n",
            "False\n"
          ],
          "name": "stdout"
        }
      ]
    }
  ]
}