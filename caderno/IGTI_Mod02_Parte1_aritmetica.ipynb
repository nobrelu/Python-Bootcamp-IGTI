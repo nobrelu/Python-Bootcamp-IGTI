{
  "nbformat": 4,
  "nbformat_minor": 0,
  "metadata": {
    "colab": {
      "provenance": []
    },
    "kernelspec": {
      "name": "python3",
      "display_name": "Python 3"
    },
    "language_info": {
      "name": "python"
    }
  },
  "cells": [
    {
      "cell_type": "markdown",
      "metadata": {
        "id": "GhjSMwoWKLy1"
      },
      "source": [
        "# Operações elemento a elemento\n",
        "\n",
        "### Soma:\n",
        "\n",
        "Sobrecarga operador \"+\"\n",
        "\n",
        "\n",
        "np.add\n",
        "\n",
        "\n",
        "### Subtração:\n",
        "\n",
        "Sobrecarga operador \"-\"\n",
        "\n",
        "\n",
        "np.subtract\n",
        "\n",
        "\n",
        "### Divisão:\n",
        "\n",
        "Sobrecarga operador \"/\"\n",
        "\n",
        "\n",
        "np.divide\n",
        "\n",
        "\n",
        "### Multiplicação:\n",
        "\n",
        "Sobrecarga operador \"*\"\n",
        "\n",
        "\n",
        "np.multiply\n",
        "\n"
      ]
    },
    {
      "cell_type": "markdown",
      "metadata": {
        "id": "tgsLP4wiSTXG"
      },
      "source": [
        "## Multiplicação de matrizes\n",
        "\n",
        "Python puro: A @ B\n",
        "\n",
        "\n",
        "Numpy:\n",
        "\n",
        "\n",
        "np.dot(a, B)\n",
        "\n",
        "A.dot(B)"
      ]
    },
    {
      "cell_type": "code",
      "metadata": {
        "id": "evCgy9kiWH69"
      },
      "source": [
        "import numpy as np\n"
      ],
      "execution_count": null,
      "outputs": []
    },
    {
      "cell_type": "code",
      "metadata": {
        "colab": {
          "base_uri": "https://localhost:8080/"
        },
        "id": "djAI7mYlSjhD",
        "outputId": "bf74bc11-2f10-4ca8-8ac1-c0a09faefcaa"
      },
      "source": [
        "# Funções aritmeticas\n",
        "\n",
        "x = np.ones((2,2)) #uns\n",
        "y = np.eye(2) # identidade\n",
        "print(\"x: \\n\", x)\n",
        "print(\"y: \\n\", y)"
      ],
      "execution_count": null,
      "outputs": [
        {
          "output_type": "stream",
          "text": [
            "x: \n",
            " [[1. 1.]\n",
            " [1. 1.]]\n",
            "y: \n",
            " [[1. 0.]\n",
            " [0. 1.]]\n"
          ],
          "name": "stdout"
        }
      ]
    },
    {
      "cell_type": "code",
      "metadata": {
        "colab": {
          "base_uri": "https://localhost:8080/"
        },
        "id": "1JYe_PEKWNkB",
        "outputId": "6bcaed6d-25fd-4d42-f277-c6de86019c29"
      },
      "source": [
        "#soma \n",
        "\n",
        "print(\"soma de dois arrays: \\n \", x + y)\n",
        "print(\"soma com float/int: \\n \", x + 2) #broadcasting"
      ],
      "execution_count": null,
      "outputs": [
        {
          "output_type": "stream",
          "text": [
            "soma de dois arrays: \n",
            "  [[2. 1.]\n",
            " [1. 2.]]\n",
            "soma com float/int: \n",
            "  [[3. 3.]\n",
            " [3. 3.]]\n"
          ],
          "name": "stdout"
        }
      ]
    },
    {
      "cell_type": "code",
      "metadata": {
        "colab": {
          "base_uri": "https://localhost:8080/"
        },
        "id": "Nj3FFZx9YuFn",
        "outputId": "27c49e7d-9d3b-41e4-9215-53394814da38"
      },
      "source": [
        "#subtracao\n",
        "print(\"subtracao de dois arrays: \\n\", x - y)\n",
        "print(\"subtracao com float/int: \\n\", x-2)"
      ],
      "execution_count": null,
      "outputs": [
        {
          "output_type": "stream",
          "text": [
            "subtracao de dois arrays: \n",
            " [[0. 1.]\n",
            " [1. 0.]]\n",
            "subtracao com float/int: \n",
            " [[-1. -1.]\n",
            " [-1. -1.]]\n"
          ],
          "name": "stdout"
        }
      ]
    },
    {
      "cell_type": "code",
      "metadata": {
        "colab": {
          "base_uri": "https://localhost:8080/"
        },
        "id": "7FpKTj0AY5iz",
        "outputId": "14e94b22-4e6f-4e96-b17f-4d227d71bf93"
      },
      "source": [
        "#divisao\n",
        "print(\"divisao de dois arrays: \\n\", x /y)\n",
        "print(\"divisao com float/int: \\n\", x/2)"
      ],
      "execution_count": null,
      "outputs": [
        {
          "output_type": "stream",
          "text": [
            "divisao de dois arrays: \n",
            " [[ 1. inf]\n",
            " [inf  1.]]\n",
            "divisao com float/int: \n",
            " [[0.5 0.5]\n",
            " [0.5 0.5]]\n"
          ],
          "name": "stdout"
        },
        {
          "output_type": "stream",
          "text": [
            "/usr/local/lib/python3.7/dist-packages/ipykernel_launcher.py:2: RuntimeWarning: divide by zero encountered in true_divide\n",
            "  \n"
          ],
          "name": "stderr"
        }
      ]
    },
    {
      "cell_type": "code",
      "metadata": {
        "colab": {
          "base_uri": "https://localhost:8080/"
        },
        "id": "mZk5L1o0ZAwl",
        "outputId": "9f425f02-59a5-48a9-8b91-99c01e2f6073"
      },
      "source": [
        "#multiplicacao\n",
        "print(\"divisao de dois arrays: \\n\", x *y)\n",
        "print(\"divisao com float/int: \\n\", x*2)"
      ],
      "execution_count": null,
      "outputs": [
        {
          "output_type": "stream",
          "text": [
            "divisao de dois arrays: \n",
            " [[1. 0.]\n",
            " [0. 1.]]\n",
            "divisao com float/int: \n",
            " [[2. 2.]\n",
            " [2. 2.]]\n"
          ],
          "name": "stdout"
        }
      ]
    },
    {
      "cell_type": "code",
      "metadata": {
        "colab": {
          "base_uri": "https://localhost:8080/"
        },
        "id": "mwzUb7JcaCG8",
        "outputId": "3650c066-eeb9-47f3-a076-62235fe1776b"
      },
      "source": [
        "#quando o broadcastgin nao funciona\n",
        "#np.array([1, 2, 3]) + np.array([1, 2])\n",
        "\n",
        "#pq o shape nao é igual funciona com 1\n",
        "np.array([1, 2, 3]) + np.array([1])"
      ],
      "execution_count": null,
      "outputs": [
        {
          "output_type": "execute_result",
          "data": {
            "text/plain": [
              "array([2, 3, 4])"
            ]
          },
          "metadata": {
            "tags": []
          },
          "execution_count": 12
        }
      ]
    },
    {
      "cell_type": "code",
      "metadata": {
        "colab": {
          "base_uri": "https://localhost:8080/"
        },
        "id": "NpBXkqJUacyD",
        "outputId": "12c6f535-ac7a-435f-bed1-189373b4609c"
      },
      "source": [
        "#combinacao\n",
        "print(\"combinacao de operacoes: \\n\", (x+y)/(x/2) )"
      ],
      "execution_count": null,
      "outputs": [
        {
          "output_type": "stream",
          "text": [
            "combinacao de operacoes: \n",
            " [[4. 2.]\n",
            " [2. 4.]]\n"
          ],
          "name": "stdout"
        }
      ]
    },
    {
      "cell_type": "code",
      "metadata": {
        "colab": {
          "base_uri": "https://localhost:8080/"
        },
        "id": "uGhQrx1HbAe2",
        "outputId": "6072046d-9b39-46fb-81f2-2a696750e3e7"
      },
      "source": [
        "#multiplicacao matricial\n",
        "print(\"multiplicacao matriciail (np.dot): \\n:\", np.dot(x,y))\n",
        "print(\"multiplicacao matriciail (@): \\n:\", x @ y)\n",
        "print(\"multiplicacao matriciail (.dot): \\n:\", x.dot(y))\n"
      ],
      "execution_count": null,
      "outputs": [
        {
          "output_type": "stream",
          "text": [
            "multiplicacao matriciail (np.dot): \n",
            ": [[1. 1.]\n",
            " [1. 1.]]\n",
            "multiplicacao matriciail (@): \n",
            ": [[1. 1.]\n",
            " [1. 1.]]\n",
            "multiplicacao matriciail (.dot): \n",
            ": [[1. 1.]\n",
            " [1. 1.]]\n"
          ],
          "name": "stdout"
        }
      ]
    },
    {
      "cell_type": "code",
      "metadata": {
        "colab": {
          "base_uri": "https://localhost:8080/"
        },
        "id": "aPh79wGIboq0",
        "outputId": "237b42c2-7184-4ad7-cec8-e646746b49f2"
      },
      "source": [
        "5 * np.ones((10,10))"
      ],
      "execution_count": null,
      "outputs": [
        {
          "output_type": "execute_result",
          "data": {
            "text/plain": [
              "array([[5., 5., 5., 5., 5., 5., 5., 5., 5., 5.],\n",
              "       [5., 5., 5., 5., 5., 5., 5., 5., 5., 5.],\n",
              "       [5., 5., 5., 5., 5., 5., 5., 5., 5., 5.],\n",
              "       [5., 5., 5., 5., 5., 5., 5., 5., 5., 5.],\n",
              "       [5., 5., 5., 5., 5., 5., 5., 5., 5., 5.],\n",
              "       [5., 5., 5., 5., 5., 5., 5., 5., 5., 5.],\n",
              "       [5., 5., 5., 5., 5., 5., 5., 5., 5., 5.],\n",
              "       [5., 5., 5., 5., 5., 5., 5., 5., 5., 5.],\n",
              "       [5., 5., 5., 5., 5., 5., 5., 5., 5., 5.],\n",
              "       [5., 5., 5., 5., 5., 5., 5., 5., 5., 5.]])"
            ]
          },
          "metadata": {
            "tags": []
          },
          "execution_count": 16
        }
      ]
    },
    {
      "cell_type": "code",
      "metadata": {
        "colab": {
          "base_uri": "https://localhost:8080/"
        },
        "id": "QIeVCnhkcOMk",
        "outputId": "86a77085-3a01-4301-ad09-74b3b84b26ba"
      },
      "source": [
        "\"\"\"\n",
        "Exemplo:\n",
        "\n",
        "Solução de um sistema de equações:\n",
        "a + 2*b=7\n",
        "3*a = 2*b = -11\n",
        "solução analítica: (a,b) = (-1, 4)\n",
        "Matricialmente, este problema tem a seguinte forma:\n",
        "AX = C, onde:\n",
        "-X = [a,b]\n",
        "-A = [[1,2], [3,-2]]\n",
        "-C = [7, -11]\n",
        "solução numérica: x = inv(A) @ C,\n",
        "\"\"\"\n",
        "\n",
        "\n",
        "#definicicao do problema\n",
        "A = np.array([[1,2], [3,-2]])\n",
        "C = np.array([[7], [-11]])\n",
        "print(\"A: \\n\", A)\n",
        "print(\"C: \\n\", C)\n",
        "\n"
      ],
      "execution_count": null,
      "outputs": [
        {
          "output_type": "stream",
          "text": [
            "A: \n",
            " [[ 1  2]\n",
            " [ 3 -2]]\n",
            "C: \n",
            " [[  7]\n",
            " [-11]]\n"
          ],
          "name": "stdout"
        }
      ]
    },
    {
      "cell_type": "code",
      "metadata": {
        "colab": {
          "base_uri": "https://localhost:8080/"
        },
        "id": "XNkgZZisdl4-",
        "outputId": "96ad8b66-6579-4c10-fbd6-74646a601c41"
      },
      "source": [
        "#solucao\n",
        "x = np.dot(np.linalg.inv(A), C) #linalg faz diversas funcoes matematicas, um deles é o inv, inverte a matriz\n",
        "#x=np.linalg.inv(A) @ C\n",
        "print(\"(a,b):\", x.ravel()) #ravel faz "
      ],
      "execution_count": null,
      "outputs": [
        {
          "output_type": "stream",
          "text": [
            "(a,b): [-1.  4.]\n"
          ],
          "name": "stdout"
        }
      ]
    }
  ]
}