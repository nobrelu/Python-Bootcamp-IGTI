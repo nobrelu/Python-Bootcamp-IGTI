{
  "nbformat": 4,
  "nbformat_minor": 0,
  "metadata": {
    "colab": {
      "provenance": []
    },
    "kernelspec": {
      "name": "python3",
      "display_name": "Python 3"
    },
    "language_info": {
      "name": "python"
    }
  },
  "cells": [
    {
      "cell_type": "code",
      "metadata": {
        "id": "hoBNFhWaYQSz"
      },
      "source": [
        "def linha(tam=42):\n",
        "  return '-' * tam\n",
        "\n",
        "def item(txt):\n",
        "  print(linha())\n",
        "  print(txt.center(42))\n",
        "  print(linha())\n",
        "\n",
        "#item('seu texto')    \n",
        "\n",
        "def separador():\n",
        "  print(\"\\n\")"
      ],
      "execution_count": null,
      "outputs": []
    },
    {
      "cell_type": "markdown",
      "metadata": {
        "id": "nmr0EtchYXa9"
      },
      "source": [
        "# DESAFIO\n",
        "\n",
        "# PYTHON PARA ANÁLISE DE DADOS\n",
        "\n",
        "## OBJETIVOS\n",
        "\n",
        "Realizar a análise de uma base de dados real em Python\n",
        "\n",
        "## Enunciado\n",
        "\n",
        "O uso de bicicletas como meio de transporte ganhou muita força nos últimos anos, seja por questões ambientais, de saúde ou até mesmo de infraestrutura de trânsito. Para incentivar seu uso, cidades em todo o mundo têm implementado programas de compartilhamento de bicicleta. Nesses sistemas, elas são retiradas e devolvidas em quiosques automatizados que ficam espalhados por diversos pontos da cidade.\n",
        "\n",
        "\n",
        "\n",
        "As plataformas de compartilhamento de bicicletas costumam coletar diversos tipos de dados, como a duração da viagem, as localizações iniciais e finais dos percursos, entre outros. Esses dados, em conjunto com informações sobre o clima, o trânsito e o relevo, por exemplo, possibilitam uma análise mais robusta do compartilhamento de bicicletas.\n",
        "\n",
        "**Segue um descritivo dos dadados coletados:**\n",
        "\n",
        "*  rec_id: índice do registro de locação\n",
        "*  datetima: data;\n",
        "*  season: estação do ano (1: inverno, 2: primavera, 3: verão, 4: outono). Relativo ao hemisfério norte.\n",
        "*  year: ano(0: 2011, 1:2012)\n",
        "*  month: mês(1 a 12)\n",
        "*  hour: hora do dia ( 0  a 23)\n",
        "*  is_holiday: booleano indicando feriado\n",
        "*  weekday: dia da semana(0: domingo, 1: segunda-feria,...,6:sábado);\n",
        "*  is_workingday: booleano indicando dia útil;\n",
        "*   weather_condition: (1: limpo, 2: nublado, 3: chuva leve, 4: chuva forte);\n",
        "*  temp: Temperatura escalada entre 0 e 1. Valor original em graus Celsius: -8 a 39;\n",
        "*  atemp: Sensação térmica escalada entre 0 e 1. Valor original em graus Celsius: -16 \n",
        "a 50;\n",
        "*  humidity: Humidade relativa (0 a 1);\n",
        "*  windspeed: Velocidade do vento escalada entre 0 e 1 (máximo original: 67);\n",
        "*  casual: número de locações para usuários casuais;\n",
        "*  registered: número de locações para usuários registrados;\n",
        "*  total_count: contador total de aluguéis (casual+registered).\n",
        "\n",
        "\n",
        "Esta atividade tem como objetivo analisar os dados de compartilhamento de bicicletas em  uma cidade, coletados pela Universidade do Porto.\n",
        "\n",
        "## ATIVIDADES\n",
        "\n",
        "\n",
        "Os alunos deverão desempenhar as seguintes atividades:\n",
        "\n",
        "\n",
        "1. Acessar o ambiente Google Colaboratory (recomendado) ou qualquer ambiente de \n",
        "desenvolvimento em Python.\n",
        "2. Importar as bibliotecas do numpy e pandas conforme:\n",
        "\n",
        "~~~\n",
        "# importando as bibliotecas \n",
        "import numpy as np\n",
        "import pandas as pd\n",
        "~~~\n",
        "\n",
        "3. Carregar o dataset  https://pycourse.s3.amazonaws.com/bike-sharing.csv para análise utilizando o pandas. Exemplo:\n",
        "\n",
        "\n",
        "~~~\n",
        "df = pd.read_csv(\"https://pycourse.s3.amazonaws.com/bike-sharing.csv\")\n",
        "~~~\n",
        "\n",
        "4. Responder as seguintes perguntas:\n",
        "\n",
        "\n",
        "    a. Qual o tamanho desse dataset?\n",
        "    b. Qual a média da coluna windspeed?\n",
        "    c. Qual a média da coluna temp?\n",
        "    d. Quantos registros existem para o ano de 2011?\n",
        "    e. Quantos registros existem para o ano de 2012?\n",
        "    f. Quantas locações de bicicletas foram efetuadas em 2011?\n",
        "    g. Quantas locações de bicicletas foram efetuadas em 2012?\n",
        "    h. Qual estação do ano contém a maior média de locações de bicicletas?\n",
        "    i. Qual estação do ano contém a menor média de locações de bicicletas?\n",
        "    j. Qual horário do dia contém a maior média de locações de bicicletas?\n",
        "    k. Qual horário do dia contém a menor média de locações de bicicletas?\n",
        "    l. Que dia da semana contém a maior média de locações de bicicletas?\n",
        "    m. Que dia da semana contém a menor média de locações de bicicletas?\n",
        "    n. Às quartas-feiras (weekday = 3), qual o horário do dia contém a maior média \n",
        "    de locações de bicicletas?\n",
        "    o. Aos sábados (weekday = 6), qual o horário do dia contém a maior média de \n",
        "    locações de bicicletas?\n",
        "\n",
        "## RESPOSTAS FINAIS\n",
        "\n",
        "Os alunos deverão desenvolver a prática e, depois, responder às seguintes questões objetivas:\n",
        "\n",
        "\n",
        "\n"
      ]
    },
    {
      "cell_type": "code",
      "metadata": {
        "id": "u7mCuU3EbzD-"
      },
      "source": [
        "# importando as bibliotecas \n",
        "import numpy as np\n",
        "import pandas as pd"
      ],
      "execution_count": null,
      "outputs": []
    },
    {
      "cell_type": "markdown",
      "metadata": {
        "id": "OQp_06nMbvtw"
      },
      "source": []
    },
    {
      "cell_type": "code",
      "metadata": {
        "id": "dK551OSLb0c-"
      },
      "source": [
        "df = pd.read_csv(\"https://pycourse.s3.amazonaws.com/bike-sharing.csv\")"
      ],
      "execution_count": null,
      "outputs": []
    },
    {
      "cell_type": "code",
      "metadata": {
        "colab": {
          "base_uri": "https://localhost:8080/",
          "height": 660
        },
        "id": "Yl28BwqfcBYE",
        "outputId": "7f74140f-1590-49a4-d86e-9a0bc1ccda50"
      },
      "source": [
        "item('O DataFrame')    \n",
        "df"
      ],
      "execution_count": null,
      "outputs": [
        {
          "output_type": "stream",
          "text": [
            "------------------------------------------\n",
            "               O DataFrame                \n",
            "------------------------------------------\n"
          ],
          "name": "stdout"
        },
        {
          "output_type": "execute_result",
          "data": {
            "text/html": [
              "<div>\n",
              "<style scoped>\n",
              "    .dataframe tbody tr th:only-of-type {\n",
              "        vertical-align: middle;\n",
              "    }\n",
              "\n",
              "    .dataframe tbody tr th {\n",
              "        vertical-align: top;\n",
              "    }\n",
              "\n",
              "    .dataframe thead th {\n",
              "        text-align: right;\n",
              "    }\n",
              "</style>\n",
              "<table border=\"1\" class=\"dataframe\">\n",
              "  <thead>\n",
              "    <tr style=\"text-align: right;\">\n",
              "      <th></th>\n",
              "      <th>datetime</th>\n",
              "      <th>rec_id</th>\n",
              "      <th>season</th>\n",
              "      <th>year</th>\n",
              "      <th>month</th>\n",
              "      <th>hour</th>\n",
              "      <th>is_holiday</th>\n",
              "      <th>weekday</th>\n",
              "      <th>is_workingday</th>\n",
              "      <th>weather_condition</th>\n",
              "      <th>temp</th>\n",
              "      <th>atemp</th>\n",
              "      <th>humidity</th>\n",
              "      <th>windspeed</th>\n",
              "      <th>casual</th>\n",
              "      <th>registered</th>\n",
              "      <th>total_count</th>\n",
              "    </tr>\n",
              "  </thead>\n",
              "  <tbody>\n",
              "    <tr>\n",
              "      <th>0</th>\n",
              "      <td>2011-01-01</td>\n",
              "      <td>1</td>\n",
              "      <td>1</td>\n",
              "      <td>0</td>\n",
              "      <td>1</td>\n",
              "      <td>0</td>\n",
              "      <td>0</td>\n",
              "      <td>6</td>\n",
              "      <td>0</td>\n",
              "      <td>1</td>\n",
              "      <td>0.24</td>\n",
              "      <td>0.2879</td>\n",
              "      <td>0.81</td>\n",
              "      <td>0.0000</td>\n",
              "      <td>3</td>\n",
              "      <td>13</td>\n",
              "      <td>16</td>\n",
              "    </tr>\n",
              "    <tr>\n",
              "      <th>1</th>\n",
              "      <td>2011-01-01</td>\n",
              "      <td>2</td>\n",
              "      <td>1</td>\n",
              "      <td>0</td>\n",
              "      <td>1</td>\n",
              "      <td>1</td>\n",
              "      <td>0</td>\n",
              "      <td>6</td>\n",
              "      <td>0</td>\n",
              "      <td>1</td>\n",
              "      <td>0.22</td>\n",
              "      <td>0.2727</td>\n",
              "      <td>0.80</td>\n",
              "      <td>0.0000</td>\n",
              "      <td>8</td>\n",
              "      <td>32</td>\n",
              "      <td>40</td>\n",
              "    </tr>\n",
              "    <tr>\n",
              "      <th>2</th>\n",
              "      <td>2011-01-01</td>\n",
              "      <td>3</td>\n",
              "      <td>1</td>\n",
              "      <td>0</td>\n",
              "      <td>1</td>\n",
              "      <td>2</td>\n",
              "      <td>0</td>\n",
              "      <td>6</td>\n",
              "      <td>0</td>\n",
              "      <td>1</td>\n",
              "      <td>0.22</td>\n",
              "      <td>0.2727</td>\n",
              "      <td>0.80</td>\n",
              "      <td>0.0000</td>\n",
              "      <td>5</td>\n",
              "      <td>27</td>\n",
              "      <td>32</td>\n",
              "    </tr>\n",
              "    <tr>\n",
              "      <th>3</th>\n",
              "      <td>2011-01-01</td>\n",
              "      <td>4</td>\n",
              "      <td>1</td>\n",
              "      <td>0</td>\n",
              "      <td>1</td>\n",
              "      <td>3</td>\n",
              "      <td>0</td>\n",
              "      <td>6</td>\n",
              "      <td>0</td>\n",
              "      <td>1</td>\n",
              "      <td>0.24</td>\n",
              "      <td>0.2879</td>\n",
              "      <td>0.75</td>\n",
              "      <td>0.0000</td>\n",
              "      <td>3</td>\n",
              "      <td>10</td>\n",
              "      <td>13</td>\n",
              "    </tr>\n",
              "    <tr>\n",
              "      <th>4</th>\n",
              "      <td>2011-01-01</td>\n",
              "      <td>5</td>\n",
              "      <td>1</td>\n",
              "      <td>0</td>\n",
              "      <td>1</td>\n",
              "      <td>4</td>\n",
              "      <td>0</td>\n",
              "      <td>6</td>\n",
              "      <td>0</td>\n",
              "      <td>1</td>\n",
              "      <td>0.24</td>\n",
              "      <td>0.2879</td>\n",
              "      <td>0.75</td>\n",
              "      <td>0.0000</td>\n",
              "      <td>0</td>\n",
              "      <td>1</td>\n",
              "      <td>1</td>\n",
              "    </tr>\n",
              "    <tr>\n",
              "      <th>...</th>\n",
              "      <td>...</td>\n",
              "      <td>...</td>\n",
              "      <td>...</td>\n",
              "      <td>...</td>\n",
              "      <td>...</td>\n",
              "      <td>...</td>\n",
              "      <td>...</td>\n",
              "      <td>...</td>\n",
              "      <td>...</td>\n",
              "      <td>...</td>\n",
              "      <td>...</td>\n",
              "      <td>...</td>\n",
              "      <td>...</td>\n",
              "      <td>...</td>\n",
              "      <td>...</td>\n",
              "      <td>...</td>\n",
              "      <td>...</td>\n",
              "    </tr>\n",
              "    <tr>\n",
              "      <th>17374</th>\n",
              "      <td>2012-12-31</td>\n",
              "      <td>17375</td>\n",
              "      <td>1</td>\n",
              "      <td>1</td>\n",
              "      <td>12</td>\n",
              "      <td>19</td>\n",
              "      <td>0</td>\n",
              "      <td>1</td>\n",
              "      <td>1</td>\n",
              "      <td>2</td>\n",
              "      <td>0.26</td>\n",
              "      <td>0.2576</td>\n",
              "      <td>0.60</td>\n",
              "      <td>0.1642</td>\n",
              "      <td>11</td>\n",
              "      <td>108</td>\n",
              "      <td>119</td>\n",
              "    </tr>\n",
              "    <tr>\n",
              "      <th>17375</th>\n",
              "      <td>2012-12-31</td>\n",
              "      <td>17376</td>\n",
              "      <td>1</td>\n",
              "      <td>1</td>\n",
              "      <td>12</td>\n",
              "      <td>20</td>\n",
              "      <td>0</td>\n",
              "      <td>1</td>\n",
              "      <td>1</td>\n",
              "      <td>2</td>\n",
              "      <td>0.26</td>\n",
              "      <td>0.2576</td>\n",
              "      <td>0.60</td>\n",
              "      <td>0.1642</td>\n",
              "      <td>8</td>\n",
              "      <td>81</td>\n",
              "      <td>89</td>\n",
              "    </tr>\n",
              "    <tr>\n",
              "      <th>17376</th>\n",
              "      <td>2012-12-31</td>\n",
              "      <td>17377</td>\n",
              "      <td>1</td>\n",
              "      <td>1</td>\n",
              "      <td>12</td>\n",
              "      <td>21</td>\n",
              "      <td>0</td>\n",
              "      <td>1</td>\n",
              "      <td>1</td>\n",
              "      <td>1</td>\n",
              "      <td>0.26</td>\n",
              "      <td>0.2576</td>\n",
              "      <td>0.60</td>\n",
              "      <td>0.1642</td>\n",
              "      <td>7</td>\n",
              "      <td>83</td>\n",
              "      <td>90</td>\n",
              "    </tr>\n",
              "    <tr>\n",
              "      <th>17377</th>\n",
              "      <td>2012-12-31</td>\n",
              "      <td>17378</td>\n",
              "      <td>1</td>\n",
              "      <td>1</td>\n",
              "      <td>12</td>\n",
              "      <td>22</td>\n",
              "      <td>0</td>\n",
              "      <td>1</td>\n",
              "      <td>1</td>\n",
              "      <td>1</td>\n",
              "      <td>0.26</td>\n",
              "      <td>0.2727</td>\n",
              "      <td>0.56</td>\n",
              "      <td>0.1343</td>\n",
              "      <td>13</td>\n",
              "      <td>48</td>\n",
              "      <td>61</td>\n",
              "    </tr>\n",
              "    <tr>\n",
              "      <th>17378</th>\n",
              "      <td>2012-12-31</td>\n",
              "      <td>17379</td>\n",
              "      <td>1</td>\n",
              "      <td>1</td>\n",
              "      <td>12</td>\n",
              "      <td>23</td>\n",
              "      <td>0</td>\n",
              "      <td>1</td>\n",
              "      <td>1</td>\n",
              "      <td>1</td>\n",
              "      <td>0.26</td>\n",
              "      <td>0.2727</td>\n",
              "      <td>0.65</td>\n",
              "      <td>0.1343</td>\n",
              "      <td>12</td>\n",
              "      <td>37</td>\n",
              "      <td>49</td>\n",
              "    </tr>\n",
              "  </tbody>\n",
              "</table>\n",
              "<p>17379 rows × 17 columns</p>\n",
              "</div>"
            ],
            "text/plain": [
              "         datetime  rec_id  season  ...  casual  registered  total_count\n",
              "0      2011-01-01       1       1  ...       3          13           16\n",
              "1      2011-01-01       2       1  ...       8          32           40\n",
              "2      2011-01-01       3       1  ...       5          27           32\n",
              "3      2011-01-01       4       1  ...       3          10           13\n",
              "4      2011-01-01       5       1  ...       0           1            1\n",
              "...           ...     ...     ...  ...     ...         ...          ...\n",
              "17374  2012-12-31   17375       1  ...      11         108          119\n",
              "17375  2012-12-31   17376       1  ...       8          81           89\n",
              "17376  2012-12-31   17377       1  ...       7          83           90\n",
              "17377  2012-12-31   17378       1  ...      13          48           61\n",
              "17378  2012-12-31   17379       1  ...      12          37           49\n",
              "\n",
              "[17379 rows x 17 columns]"
            ]
          },
          "metadata": {
            "tags": []
          },
          "execution_count": 4
        }
      ]
    },
    {
      "cell_type": "markdown",
      "metadata": {
        "id": "s_8Z9x-Jb6vp"
      },
      "source": [
        "# PERGUNTAS E RESPOSTAS: ✔\n",
        "\n",
        "---\n",
        "\n"
      ]
    },
    {
      "cell_type": "markdown",
      "metadata": {
        "id": "Svd5Ay0LeTHS"
      },
      "source": [
        "\n",
        "### Pergunta 1\n",
        "\n",
        "- [X] a. Qual o tamanho desse dataset?\n",
        "\n",
        "\n",
        "\n",
        "\n",
        "\n",
        "\n"
      ]
    },
    {
      "cell_type": "code",
      "metadata": {
        "colab": {
          "base_uri": "https://localhost:8080/"
        },
        "id": "axo0mIl3eaNr",
        "outputId": "4367f4ae-5e74-46fa-b29e-d0571a136dd2"
      },
      "source": [
        "item('Detalhes do INFO para o DataFrame')    \n",
        "df.info()\n",
        "separador()\n",
        "item('Detalhes específicos')  \n",
        "print(\"Números de linhas: \", len(df))\n",
        "print(\"Números de colunas: \", len(df.columns))\n",
        "print(\"Números de linhas e  colunas: \", df.shape) #tamanho\n",
        "print(\"Números elementos: \", df.size)"
      ],
      "execution_count": null,
      "outputs": [
        {
          "output_type": "stream",
          "text": [
            "------------------------------------------\n",
            "    Detalhes do INFO para o DataFrame     \n",
            "------------------------------------------\n",
            "<class 'pandas.core.frame.DataFrame'>\n",
            "RangeIndex: 17379 entries, 0 to 17378\n",
            "Data columns (total 17 columns):\n",
            " #   Column             Non-Null Count  Dtype  \n",
            "---  ------             --------------  -----  \n",
            " 0   datetime           17379 non-null  object \n",
            " 1   rec_id             17379 non-null  int64  \n",
            " 2   season             17379 non-null  int64  \n",
            " 3   year               17379 non-null  int64  \n",
            " 4   month              17379 non-null  int64  \n",
            " 5   hour               17379 non-null  int64  \n",
            " 6   is_holiday         17379 non-null  int64  \n",
            " 7   weekday            17379 non-null  int64  \n",
            " 8   is_workingday      17379 non-null  int64  \n",
            " 9   weather_condition  17379 non-null  int64  \n",
            " 10  temp               17379 non-null  float64\n",
            " 11  atemp              17379 non-null  float64\n",
            " 12  humidity           17379 non-null  float64\n",
            " 13  windspeed          17379 non-null  float64\n",
            " 14  casual             17379 non-null  int64  \n",
            " 15  registered         17379 non-null  int64  \n",
            " 16  total_count        17379 non-null  int64  \n",
            "dtypes: float64(4), int64(12), object(1)\n",
            "memory usage: 2.3+ MB\n",
            "\n",
            "\n",
            "------------------------------------------\n",
            "           Detalhes específicos           \n",
            "------------------------------------------\n",
            "Números de linhas:  17379\n",
            "Números de colunas:  17\n",
            "Números de linhas e  colunas:  (17379, 17)\n",
            "Números elementos:  295443\n"
          ],
          "name": "stdout"
        }
      ]
    },
    {
      "cell_type": "markdown",
      "metadata": {
        "id": "kv29x_T-fFKJ"
      },
      "source": [
        "\n",
        "\n",
        "---\n",
        "\n"
      ]
    },
    {
      "cell_type": "markdown",
      "metadata": {
        "id": "e63ZXl1qfCFn"
      },
      "source": [
        "\n",
        "### Pergunta 2\n",
        "\n",
        "- [X] b. Qual a média da coluna windspeed?\n",
        "\n",
        "\n",
        "\n",
        "\n",
        "\n",
        "\n"
      ]
    },
    {
      "cell_type": "code",
      "metadata": {
        "colab": {
          "base_uri": "https://localhost:8080/"
        },
        "id": "qefJ2eK1pPuZ",
        "outputId": "758e1319-0f4c-4285-9152-557155b33556"
      },
      "source": [
        "#média mean\n",
        "item('Média da coluna windspeed')    \n",
        "\n",
        "print(\"A média da coluna windspeed é de: \", df['windspeed'].mean())"
      ],
      "execution_count": null,
      "outputs": [
        {
          "output_type": "stream",
          "text": [
            "------------------------------------------\n",
            "        Média da coluna windspeed         \n",
            "------------------------------------------\n",
            "A média da coluna windspeed é de:  0.1900976063064631\n"
          ],
          "name": "stdout"
        }
      ]
    },
    {
      "cell_type": "code",
      "metadata": {
        "colab": {
          "base_uri": "https://localhost:8080/"
        },
        "id": "9RRBKc2ppSNe",
        "outputId": "9f89f589-e5ef-43a7-d8b5-80d9fbc33e62"
      },
      "source": [
        "item('Tipo de uma coluna')    \n",
        "type(df['windspeed'])"
      ],
      "execution_count": null,
      "outputs": [
        {
          "output_type": "stream",
          "text": [
            "------------------------------------------\n",
            "            Tipo de uma coluna            \n",
            "------------------------------------------\n"
          ],
          "name": "stdout"
        },
        {
          "output_type": "execute_result",
          "data": {
            "text/plain": [
              "pandas.core.series.Series"
            ]
          },
          "metadata": {
            "tags": []
          },
          "execution_count": 7
        }
      ]
    },
    {
      "cell_type": "code",
      "metadata": {
        "colab": {
          "base_uri": "https://localhost:8080/"
        },
        "id": "0pnRxaVGfIBK",
        "outputId": "360aa8c9-3a0f-4b3e-c561-a981b0e47216"
      },
      "source": [
        "#média mean\n",
        "item('Média de uma coluna')    \n",
        "df['windspeed']\n",
        "\n",
        "\n",
        "    "
      ],
      "execution_count": null,
      "outputs": [
        {
          "output_type": "stream",
          "text": [
            "------------------------------------------\n",
            "           Média de uma coluna            \n",
            "------------------------------------------\n"
          ],
          "name": "stdout"
        },
        {
          "output_type": "execute_result",
          "data": {
            "text/plain": [
              "0        0.0000\n",
              "1        0.0000\n",
              "2        0.0000\n",
              "3        0.0000\n",
              "4        0.0000\n",
              "          ...  \n",
              "17374    0.1642\n",
              "17375    0.1642\n",
              "17376    0.1642\n",
              "17377    0.1343\n",
              "17378    0.1343\n",
              "Name: windspeed, Length: 17379, dtype: float64"
            ]
          },
          "metadata": {
            "tags": []
          },
          "execution_count": 8
        }
      ]
    },
    {
      "cell_type": "markdown",
      "metadata": {
        "id": "VqblQt1Ggugp"
      },
      "source": [
        "\n",
        "\n",
        "---\n",
        "\n"
      ]
    },
    {
      "cell_type": "markdown",
      "metadata": {
        "id": "aBfAYXIzgF9g"
      },
      "source": [
        "\n",
        "### Pergunta 3\n",
        "\n",
        "- [X] c. Qual a média da coluna temp?\n",
        "\n",
        "\n",
        "\n",
        "\n",
        "\n"
      ]
    },
    {
      "cell_type": "code",
      "metadata": {
        "colab": {
          "base_uri": "https://localhost:8080/"
        },
        "id": "0IVDuZlehG0I",
        "outputId": "5e4149aa-2cee-417e-9255-fe32249d7fbe"
      },
      "source": [
        "#média mean\n",
        "item('Média da coluna temp')    \n",
        "#df.groupby(by='temp').mean()\n",
        "print(\"A média da coluna temp é de: \", df['temp'].mean())"
      ],
      "execution_count": null,
      "outputs": [
        {
          "output_type": "stream",
          "text": [
            "------------------------------------------\n",
            "           Média da coluna temp           \n",
            "------------------------------------------\n",
            "A média da coluna temp é de:  0.4969871684216586\n"
          ],
          "name": "stdout"
        }
      ]
    },
    {
      "cell_type": "markdown",
      "metadata": {
        "id": "sTdQW9cYhCgz"
      },
      "source": [
        "\n",
        "\n",
        "---\n",
        "\n"
      ]
    },
    {
      "cell_type": "markdown",
      "metadata": {
        "id": "jJBRn_vUgGlQ"
      },
      "source": [
        "\n",
        "### Pergunta 4\n",
        "\n",
        "- [X] d. Quantos registros existem para o ano de 2011?\n",
        "\n",
        "\n",
        "\n",
        "\n"
      ]
    },
    {
      "cell_type": "code",
      "metadata": {
        "colab": {
          "base_uri": "https://localhost:8080/"
        },
        "id": "xnPu-BgxhHUQ",
        "outputId": "6a4bebfc-1d98-4970-fb42-efea09b12eb8"
      },
      "source": [
        "#cond\n",
        "cond = df.year == 0 # 0 é 2011\n",
        "df2 = df[cond]\n",
        "print(\"O números de registros 'rec_id' no ano de 2011 foi de: \", df2['rec_id'].count())"
      ],
      "execution_count": null,
      "outputs": [
        {
          "output_type": "stream",
          "text": [
            "O números de registros 'rec_id' no ano de 2011 foi de:  8645\n"
          ],
          "name": "stdout"
        }
      ]
    },
    {
      "cell_type": "markdown",
      "metadata": {
        "id": "8-JxzzQghCoi"
      },
      "source": [
        "\n",
        "\n",
        "---\n",
        "\n"
      ]
    },
    {
      "cell_type": "markdown",
      "metadata": {
        "id": "mxu45lcegGvW"
      },
      "source": [
        "\n",
        "### Pergunta 5\n",
        "\n",
        "- [X] e. Quantos registros existem para o ano de 2012?\n",
        "\n",
        "\n",
        "\n",
        "\n",
        "\n",
        "\n"
      ]
    },
    {
      "cell_type": "code",
      "metadata": {
        "colab": {
          "base_uri": "https://localhost:8080/"
        },
        "id": "WPkmyrkBhIEZ",
        "outputId": "383662bf-13ec-4cf4-9895-276d18406909"
      },
      "source": [
        "#cond\n",
        "cond = df.year == 1 # 0 é 2012\n",
        "df3 = df[cond]\n",
        "print(\"O números de registros 'rec_id' no ano de 2012 foi de: \", df3['rec_id'].count())"
      ],
      "execution_count": null,
      "outputs": [
        {
          "output_type": "stream",
          "text": [
            "O números de registros 'rec_id' no ano de 2012 foi de:  8734\n"
          ],
          "name": "stdout"
        }
      ]
    },
    {
      "cell_type": "markdown",
      "metadata": {
        "id": "isVjYL9ygus7"
      },
      "source": [
        "\n",
        "\n",
        "---\n",
        "\n"
      ]
    },
    {
      "cell_type": "markdown",
      "metadata": {
        "id": "UbdLre9fgG3h"
      },
      "source": [
        "\n",
        "### Pergunta 6\n",
        "\n",
        "- [X] f. Quantas locações de bicicletas foram efetuadas em 2011?\n",
        "\n",
        "\n",
        "\n",
        "\n",
        "\n",
        "\n"
      ]
    },
    {
      "cell_type": "code",
      "metadata": {
        "colab": {
          "base_uri": "https://localhost:8080/"
        },
        "id": "Bw_4dQHThIjC",
        "outputId": "7f093952-d91a-4d21-afbd-f483941e0a12"
      },
      "source": [
        "#sum\n",
        "#cond\n",
        "cond = df.year == 0 # 0 é 2011\n",
        "df2 = df[cond]\n",
        "print(\"Total de locações efetuadas em 2011: \", df2['total_count'].sum())\n",
        "#df2.groupby(by='total_count').sum()"
      ],
      "execution_count": null,
      "outputs": [
        {
          "output_type": "stream",
          "text": [
            "Total de locações efetuadas em 2011:  1243103\n"
          ],
          "name": "stdout"
        }
      ]
    },
    {
      "cell_type": "markdown",
      "metadata": {
        "id": "kgC2J1RqguwY"
      },
      "source": [
        "\n",
        "\n",
        "---\n",
        "\n"
      ]
    },
    {
      "cell_type": "markdown",
      "metadata": {
        "id": "t37tkPkLgG-h"
      },
      "source": [
        "\n",
        "### Pergunta 7\n",
        "\n",
        "- [x] g. Quantas locações de bicicletas foram efetuadas em 2012?\n",
        "\n",
        "\n",
        "\n",
        "\n",
        "\n",
        "\n"
      ]
    },
    {
      "cell_type": "code",
      "metadata": {
        "colab": {
          "base_uri": "https://localhost:8080/"
        },
        "id": "J_NXQvhxhJNZ",
        "outputId": "5dcae40a-f204-4ba7-9108-768bf62f6560"
      },
      "source": [
        "#sum\n",
        "#cond\n",
        "cond = df.year == 1 # 1 é 2012\n",
        "df3 = df[cond]\n",
        "print(\"Total de locações efetuadas em 2011: \", df3['total_count'].sum())\n",
        "#df2.groupby(by='total_count').sum()"
      ],
      "execution_count": null,
      "outputs": [
        {
          "output_type": "stream",
          "text": [
            "Total de locações efetuadas em 2011:  2049576\n"
          ],
          "name": "stdout"
        }
      ]
    },
    {
      "cell_type": "markdown",
      "metadata": {
        "id": "9Zt_RJFYguzD"
      },
      "source": [
        "\n",
        "\n",
        "---\n",
        "\n"
      ]
    },
    {
      "cell_type": "markdown",
      "metadata": {
        "id": "prRZhE3XgHGg"
      },
      "source": [
        "\n",
        "### Pergunta 8\n",
        "\n",
        "- [ ] h. Qual estação do ano contém a maior média de locações de bicicletas?\n",
        "\n",
        "\n",
        "\n",
        "\n",
        "\n",
        "\n"
      ]
    },
    {
      "cell_type": "code",
      "metadata": {
        "id": "TIFBDcYnU7an"
      },
      "source": [],
      "execution_count": null,
      "outputs": []
    },
    {
      "cell_type": "code",
      "metadata": {
        "colab": {
          "base_uri": "https://localhost:8080/"
        },
        "id": "jzAtsbp0TohN",
        "outputId": "1fd172f1-c708-4f2f-f5b8-8f87c557c6b8"
      },
      "source": [
        "item('Médias por estações')  \n",
        "df['season']\n"
      ],
      "execution_count": null,
      "outputs": [
        {
          "output_type": "stream",
          "text": [
            "------------------------------------------\n",
            "           Médias por estações            \n",
            "------------------------------------------\n"
          ],
          "name": "stdout"
        },
        {
          "output_type": "execute_result",
          "data": {
            "text/plain": [
              "0        1\n",
              "1        1\n",
              "2        1\n",
              "3        1\n",
              "4        1\n",
              "        ..\n",
              "17374    1\n",
              "17375    1\n",
              "17376    1\n",
              "17377    1\n",
              "17378    1\n",
              "Name: season, Length: 17379, dtype: int64"
            ]
          },
          "metadata": {
            "tags": []
          },
          "execution_count": 14
        }
      ]
    },
    {
      "cell_type": "code",
      "metadata": {
        "colab": {
          "base_uri": "https://localhost:8080/",
          "height": 224
        },
        "id": "BYudXKirU8y5",
        "outputId": "b246ea68-6aaa-4d01-fc18-77fb51085db4"
      },
      "source": [
        "coluna_seasons = df['season']\n",
        "df_estacao = df.groupby(coluna_seasons)\n",
        "df_estacao.mean()"
      ],
      "execution_count": null,
      "outputs": [
        {
          "output_type": "execute_result",
          "data": {
            "text/html": [
              "<div>\n",
              "<style scoped>\n",
              "    .dataframe tbody tr th:only-of-type {\n",
              "        vertical-align: middle;\n",
              "    }\n",
              "\n",
              "    .dataframe tbody tr th {\n",
              "        vertical-align: top;\n",
              "    }\n",
              "\n",
              "    .dataframe thead th {\n",
              "        text-align: right;\n",
              "    }\n",
              "</style>\n",
              "<table border=\"1\" class=\"dataframe\">\n",
              "  <thead>\n",
              "    <tr style=\"text-align: right;\">\n",
              "      <th></th>\n",
              "      <th>rec_id</th>\n",
              "      <th>year</th>\n",
              "      <th>month</th>\n",
              "      <th>hour</th>\n",
              "      <th>is_holiday</th>\n",
              "      <th>weekday</th>\n",
              "      <th>is_workingday</th>\n",
              "      <th>weather_condition</th>\n",
              "      <th>temp</th>\n",
              "      <th>atemp</th>\n",
              "      <th>humidity</th>\n",
              "      <th>windspeed</th>\n",
              "      <th>casual</th>\n",
              "      <th>registered</th>\n",
              "      <th>total_count</th>\n",
              "    </tr>\n",
              "    <tr>\n",
              "      <th>season</th>\n",
              "      <th></th>\n",
              "      <th></th>\n",
              "      <th></th>\n",
              "      <th></th>\n",
              "      <th></th>\n",
              "      <th></th>\n",
              "      <th></th>\n",
              "      <th></th>\n",
              "      <th></th>\n",
              "      <th></th>\n",
              "      <th></th>\n",
              "      <th></th>\n",
              "      <th></th>\n",
              "      <th></th>\n",
              "      <th></th>\n",
              "    </tr>\n",
              "  </thead>\n",
              "  <tbody>\n",
              "    <tr>\n",
              "      <th>1</th>\n",
              "      <td>6302.008015</td>\n",
              "      <td>0.512494</td>\n",
              "      <td>3.119755</td>\n",
              "      <td>11.648515</td>\n",
              "      <td>0.038661</td>\n",
              "      <td>3.008722</td>\n",
              "      <td>0.658652</td>\n",
              "      <td>1.460160</td>\n",
              "      <td>0.299147</td>\n",
              "      <td>0.298116</td>\n",
              "      <td>0.581348</td>\n",
              "      <td>0.215107</td>\n",
              "      <td>14.290901</td>\n",
              "      <td>96.823668</td>\n",
              "      <td>111.114569</td>\n",
              "    </tr>\n",
              "    <tr>\n",
              "      <th>2</th>\n",
              "      <td>7287.727376</td>\n",
              "      <td>0.500340</td>\n",
              "      <td>4.654117</td>\n",
              "      <td>11.512134</td>\n",
              "      <td>0.021774</td>\n",
              "      <td>2.991608</td>\n",
              "      <td>0.695396</td>\n",
              "      <td>1.443638</td>\n",
              "      <td>0.544663</td>\n",
              "      <td>0.520547</td>\n",
              "      <td>0.627022</td>\n",
              "      <td>0.203410</td>\n",
              "      <td>46.160581</td>\n",
              "      <td>162.183488</td>\n",
              "      <td>208.344069</td>\n",
              "    </tr>\n",
              "    <tr>\n",
              "      <th>3</th>\n",
              "      <td>9526.588968</td>\n",
              "      <td>0.501779</td>\n",
              "      <td>7.689724</td>\n",
              "      <td>11.507562</td>\n",
              "      <td>0.021352</td>\n",
              "      <td>3.033141</td>\n",
              "      <td>0.698621</td>\n",
              "      <td>1.330294</td>\n",
              "      <td>0.706410</td>\n",
              "      <td>0.656004</td>\n",
              "      <td>0.633167</td>\n",
              "      <td>0.171593</td>\n",
              "      <td>50.287144</td>\n",
              "      <td>185.729093</td>\n",
              "      <td>236.016237</td>\n",
              "    </tr>\n",
              "    <tr>\n",
              "      <th>4</th>\n",
              "      <td>11655.779301</td>\n",
              "      <td>0.495747</td>\n",
              "      <td>10.702505</td>\n",
              "      <td>11.522448</td>\n",
              "      <td>0.034026</td>\n",
              "      <td>2.979915</td>\n",
              "      <td>0.676749</td>\n",
              "      <td>1.472117</td>\n",
              "      <td>0.423138</td>\n",
              "      <td>0.415738</td>\n",
              "      <td>0.667124</td>\n",
              "      <td>0.170819</td>\n",
              "      <td>30.666824</td>\n",
              "      <td>168.202032</td>\n",
              "      <td>198.868856</td>\n",
              "    </tr>\n",
              "  </tbody>\n",
              "</table>\n",
              "</div>"
            ],
            "text/plain": [
              "              rec_id      year      month  ...     casual  registered  total_count\n",
              "season                                     ...                                    \n",
              "1        6302.008015  0.512494   3.119755  ...  14.290901   96.823668   111.114569\n",
              "2        7287.727376  0.500340   4.654117  ...  46.160581  162.183488   208.344069\n",
              "3        9526.588968  0.501779   7.689724  ...  50.287144  185.729093   236.016237\n",
              "4       11655.779301  0.495747  10.702505  ...  30.666824  168.202032   198.868856\n",
              "\n",
              "[4 rows x 15 columns]"
            ]
          },
          "metadata": {
            "tags": []
          },
          "execution_count": 15
        }
      ]
    },
    {
      "cell_type": "code",
      "metadata": {
        "colab": {
          "base_uri": "https://localhost:8080/"
        },
        "id": "h0afKr4YUux6",
        "outputId": "ceda8a9a-440d-48e4-c2ff-f8c05d924f0e"
      },
      "source": [
        "df_estacao['total_count'].mean()"
      ],
      "execution_count": null,
      "outputs": [
        {
          "output_type": "execute_result",
          "data": {
            "text/plain": [
              "season\n",
              "1    111.114569\n",
              "2    208.344069\n",
              "3    236.016237\n",
              "4    198.868856\n",
              "Name: total_count, dtype: float64"
            ]
          },
          "metadata": {
            "tags": []
          },
          "execution_count": 24
        }
      ]
    },
    {
      "cell_type": "markdown",
      "metadata": {
        "id": "8JMMCQ88gu1J"
      },
      "source": [
        "\n",
        "\n",
        "---\n",
        "\n"
      ]
    },
    {
      "cell_type": "markdown",
      "metadata": {
        "id": "Wp8WaDFbgHMY"
      },
      "source": [
        "\n",
        "### Pergunta 9\n",
        "\n",
        "- [ ] i. Qual estação do ano contém a menor média de locações de bicicletas?\n",
        "\n",
        "\n",
        "\n",
        "\n",
        "\n"
      ]
    },
    {
      "cell_type": "code",
      "metadata": {
        "colab": {
          "base_uri": "https://localhost:8080/"
        },
        "id": "l0NV8QC5hKMC",
        "outputId": "1db6b368-68cf-4da5-9cb1-37b7a246d46d"
      },
      "source": [
        "df_estacao['total_count'].mean().min()"
      ],
      "execution_count": null,
      "outputs": [
        {
          "output_type": "execute_result",
          "data": {
            "text/plain": [
              "111.11456859971712"
            ]
          },
          "metadata": {
            "tags": []
          },
          "execution_count": 17
        }
      ]
    },
    {
      "cell_type": "markdown",
      "metadata": {
        "id": "uVd97vwLgu3Y"
      },
      "source": [
        "\n",
        "\n",
        "---\n",
        "\n"
      ]
    },
    {
      "cell_type": "markdown",
      "metadata": {
        "id": "i0sE3xHQgHSr"
      },
      "source": [
        "\n",
        "### Pergunta 10\n",
        "\n",
        "- [ ] j. Qual horário do dia contém a maior média de locações de bicicletas?\n",
        "\n",
        "\n",
        "\n",
        "\n",
        "\n",
        "\n"
      ]
    },
    {
      "cell_type": "code",
      "metadata": {
        "colab": {
          "base_uri": "https://localhost:8080/"
        },
        "id": "Ds2w7IOphK-R",
        "outputId": "215b3bee-2e80-453c-f7ad-1657fb78d8b6"
      },
      "source": [
        "item('Médias por horário')  \n",
        "df['hour']\n",
        "coluna_horas = df['hour']\n",
        "df_horas = df.groupby(coluna_horas)\n",
        "df_horas.mean()\n",
        "df_horas['total_count'].mean()"
      ],
      "execution_count": null,
      "outputs": [
        {
          "output_type": "stream",
          "text": [
            "------------------------------------------\n",
            "            Médias por horário            \n",
            "------------------------------------------\n"
          ],
          "name": "stdout"
        },
        {
          "output_type": "execute_result",
          "data": {
            "text/plain": [
              "hour\n",
              "0      53.898072\n",
              "1      33.375691\n",
              "2      22.869930\n",
              "3      11.727403\n",
              "4       6.352941\n",
              "5      19.889819\n",
              "6      76.044138\n",
              "7     212.064649\n",
              "8     359.011004\n",
              "9     219.309491\n",
              "10    173.668501\n",
              "11    208.143054\n",
              "12    253.315934\n",
              "13    253.661180\n",
              "14    240.949246\n",
              "15    251.233196\n",
              "16    311.983562\n",
              "17    461.452055\n",
              "18    425.510989\n",
              "19    311.523352\n",
              "20    226.030220\n",
              "21    172.314560\n",
              "22    131.335165\n",
              "23     87.831044\n",
              "Name: total_count, dtype: float64"
            ]
          },
          "metadata": {
            "tags": []
          },
          "execution_count": 18
        }
      ]
    },
    {
      "cell_type": "code",
      "metadata": {
        "colab": {
          "base_uri": "https://localhost:8080/"
        },
        "id": "q5DHBSBXWJpp",
        "outputId": "085f30b9-9d6e-437a-a9b7-0d8f61da7407"
      },
      "source": [
        "df_horas['total_count'].mean().min()"
      ],
      "execution_count": null,
      "outputs": [
        {
          "output_type": "execute_result",
          "data": {
            "text/plain": [
              "6.352941176470588"
            ]
          },
          "metadata": {
            "tags": []
          },
          "execution_count": 25
        }
      ]
    },
    {
      "cell_type": "markdown",
      "metadata": {
        "id": "htzl9RNagu5g"
      },
      "source": [
        "\n",
        "\n",
        "---\n",
        "\n"
      ]
    },
    {
      "cell_type": "markdown",
      "metadata": {
        "id": "gtXZDc0qgeeR"
      },
      "source": [
        "\n",
        "### Pergunta 11\n",
        "\n",
        "- [ ] l. Que dia da semana contém a maior média de locações de bicicletas?\n",
        "\n",
        "\n",
        "\n",
        "\n",
        "\n",
        "\n"
      ]
    },
    {
      "cell_type": "code",
      "metadata": {
        "colab": {
          "base_uri": "https://localhost:8080/",
          "height": 297
        },
        "id": "lBAyeQUqhLYK",
        "outputId": "10d76032-2f62-4c78-d367-49525ffb0b92"
      },
      "source": [
        "df[['weekday', 'total_count']].groupby(by='weekday').mean()"
      ],
      "execution_count": null,
      "outputs": [
        {
          "output_type": "execute_result",
          "data": {
            "text/html": [
              "<div>\n",
              "<style scoped>\n",
              "    .dataframe tbody tr th:only-of-type {\n",
              "        vertical-align: middle;\n",
              "    }\n",
              "\n",
              "    .dataframe tbody tr th {\n",
              "        vertical-align: top;\n",
              "    }\n",
              "\n",
              "    .dataframe thead th {\n",
              "        text-align: right;\n",
              "    }\n",
              "</style>\n",
              "<table border=\"1\" class=\"dataframe\">\n",
              "  <thead>\n",
              "    <tr style=\"text-align: right;\">\n",
              "      <th></th>\n",
              "      <th>total_count</th>\n",
              "    </tr>\n",
              "    <tr>\n",
              "      <th>weekday</th>\n",
              "      <th></th>\n",
              "    </tr>\n",
              "  </thead>\n",
              "  <tbody>\n",
              "    <tr>\n",
              "      <th>0</th>\n",
              "      <td>177.468825</td>\n",
              "    </tr>\n",
              "    <tr>\n",
              "      <th>1</th>\n",
              "      <td>183.744655</td>\n",
              "    </tr>\n",
              "    <tr>\n",
              "      <th>2</th>\n",
              "      <td>191.238891</td>\n",
              "    </tr>\n",
              "    <tr>\n",
              "      <th>3</th>\n",
              "      <td>191.130505</td>\n",
              "    </tr>\n",
              "    <tr>\n",
              "      <th>4</th>\n",
              "      <td>196.436665</td>\n",
              "    </tr>\n",
              "    <tr>\n",
              "      <th>5</th>\n",
              "      <td>196.135907</td>\n",
              "    </tr>\n",
              "    <tr>\n",
              "      <th>6</th>\n",
              "      <td>190.209793</td>\n",
              "    </tr>\n",
              "  </tbody>\n",
              "</table>\n",
              "</div>"
            ],
            "text/plain": [
              "         total_count\n",
              "weekday             \n",
              "0         177.468825\n",
              "1         183.744655\n",
              "2         191.238891\n",
              "3         191.130505\n",
              "4         196.436665\n",
              "5         196.135907\n",
              "6         190.209793"
            ]
          },
          "metadata": {
            "tags": []
          },
          "execution_count": 20
        }
      ]
    },
    {
      "cell_type": "code",
      "metadata": {
        "colab": {
          "base_uri": "https://localhost:8080/"
        },
        "id": "2TkXnugg2SVh",
        "outputId": "88c200f8-392b-46bb-ce2e-412acb935fc6"
      },
      "source": [
        "df[['weekday', 'total_count']].groupby(by='weekday').mean().min()"
      ],
      "execution_count": null,
      "outputs": [
        {
          "output_type": "execute_result",
          "data": {
            "text/plain": [
              "total_count    177.468825\n",
              "dtype: float64"
            ]
          },
          "metadata": {
            "tags": []
          },
          "execution_count": 27
        }
      ]
    },
    {
      "cell_type": "markdown",
      "metadata": {
        "id": "NEL07PBZgu7g"
      },
      "source": [
        "\n",
        "\n",
        "---\n",
        "\n"
      ]
    },
    {
      "cell_type": "markdown",
      "metadata": {
        "id": "cMSgN8Fogeks"
      },
      "source": [
        "\n",
        "### Pergunta 12\n",
        "\n",
        "- [ ] m. Que dia da semana contém a menor média de locações de bicicletas?\n",
        "\n",
        "\n",
        "\n",
        "\n",
        "\n",
        "\n"
      ]
    },
    {
      "cell_type": "code",
      "metadata": {
        "colab": {
          "base_uri": "https://localhost:8080/",
          "height": 297
        },
        "id": "SBTQejvUhL8C",
        "outputId": "a7ad9540-91e4-4d3e-b53d-3caa9040b800"
      },
      "source": [
        "#df[['hour', 'weekday', 'total_count']].groupby(by='weekday').mean()\n",
        "df[['weekday', 'total_count']].groupby(by='weekday').mean()"
      ],
      "execution_count": null,
      "outputs": [
        {
          "output_type": "execute_result",
          "data": {
            "text/html": [
              "<div>\n",
              "<style scoped>\n",
              "    .dataframe tbody tr th:only-of-type {\n",
              "        vertical-align: middle;\n",
              "    }\n",
              "\n",
              "    .dataframe tbody tr th {\n",
              "        vertical-align: top;\n",
              "    }\n",
              "\n",
              "    .dataframe thead th {\n",
              "        text-align: right;\n",
              "    }\n",
              "</style>\n",
              "<table border=\"1\" class=\"dataframe\">\n",
              "  <thead>\n",
              "    <tr style=\"text-align: right;\">\n",
              "      <th></th>\n",
              "      <th>total_count</th>\n",
              "    </tr>\n",
              "    <tr>\n",
              "      <th>weekday</th>\n",
              "      <th></th>\n",
              "    </tr>\n",
              "  </thead>\n",
              "  <tbody>\n",
              "    <tr>\n",
              "      <th>0</th>\n",
              "      <td>177.468825</td>\n",
              "    </tr>\n",
              "    <tr>\n",
              "      <th>1</th>\n",
              "      <td>183.744655</td>\n",
              "    </tr>\n",
              "    <tr>\n",
              "      <th>2</th>\n",
              "      <td>191.238891</td>\n",
              "    </tr>\n",
              "    <tr>\n",
              "      <th>3</th>\n",
              "      <td>191.130505</td>\n",
              "    </tr>\n",
              "    <tr>\n",
              "      <th>4</th>\n",
              "      <td>196.436665</td>\n",
              "    </tr>\n",
              "    <tr>\n",
              "      <th>5</th>\n",
              "      <td>196.135907</td>\n",
              "    </tr>\n",
              "    <tr>\n",
              "      <th>6</th>\n",
              "      <td>190.209793</td>\n",
              "    </tr>\n",
              "  </tbody>\n",
              "</table>\n",
              "</div>"
            ],
            "text/plain": [
              "         total_count\n",
              "weekday             \n",
              "0         177.468825\n",
              "1         183.744655\n",
              "2         191.238891\n",
              "3         191.130505\n",
              "4         196.436665\n",
              "5         196.135907\n",
              "6         190.209793"
            ]
          },
          "metadata": {
            "tags": []
          },
          "execution_count": 21
        }
      ]
    },
    {
      "cell_type": "markdown",
      "metadata": {
        "id": "jVHlVC24gu-E"
      },
      "source": [
        "\n",
        "\n",
        "---\n",
        "\n"
      ]
    },
    {
      "cell_type": "markdown",
      "metadata": {
        "id": "FrgVK44Dgena"
      },
      "source": [
        "\n",
        "### Pergunta 13\n",
        "\n",
        "- [ ] n. Às quartas-feiras (weekday = 3), qual o horário do dia contém a maior média \n",
        "de locações de bicicletas?\n",
        "\n",
        "\n",
        "\n",
        "\n",
        "\n",
        "\n"
      ]
    },
    {
      "cell_type": "code",
      "metadata": {
        "colab": {
          "base_uri": "https://localhost:8080/",
          "height": 824
        },
        "id": "4alSRtphhMS6",
        "outputId": "03b733fd-6c05-4c9c-9613-64a369954af3"
      },
      "source": [
        "cond = df.weekday == 3\n",
        "df2 = df[cond]\n",
        "df2[['weekday', 'hour', 'total_count']].groupby(by='hour').mean()\n",
        "#df2[['weekday', 'hour', 'total_count']].groupby(by='hour').mean().max()"
      ],
      "execution_count": null,
      "outputs": [
        {
          "output_type": "execute_result",
          "data": {
            "text/html": [
              "<div>\n",
              "<style scoped>\n",
              "    .dataframe tbody tr th:only-of-type {\n",
              "        vertical-align: middle;\n",
              "    }\n",
              "\n",
              "    .dataframe tbody tr th {\n",
              "        vertical-align: top;\n",
              "    }\n",
              "\n",
              "    .dataframe thead th {\n",
              "        text-align: right;\n",
              "    }\n",
              "</style>\n",
              "<table border=\"1\" class=\"dataframe\">\n",
              "  <thead>\n",
              "    <tr style=\"text-align: right;\">\n",
              "      <th></th>\n",
              "      <th>weekday</th>\n",
              "      <th>total_count</th>\n",
              "    </tr>\n",
              "    <tr>\n",
              "      <th>hour</th>\n",
              "      <th></th>\n",
              "      <th></th>\n",
              "    </tr>\n",
              "  </thead>\n",
              "  <tbody>\n",
              "    <tr>\n",
              "      <th>0</th>\n",
              "      <td>3.0</td>\n",
              "      <td>34.557692</td>\n",
              "    </tr>\n",
              "    <tr>\n",
              "      <th>1</th>\n",
              "      <td>3.0</td>\n",
              "      <td>15.336538</td>\n",
              "    </tr>\n",
              "    <tr>\n",
              "      <th>2</th>\n",
              "      <td>3.0</td>\n",
              "      <td>7.813725</td>\n",
              "    </tr>\n",
              "    <tr>\n",
              "      <th>3</th>\n",
              "      <td>3.0</td>\n",
              "      <td>4.888889</td>\n",
              "    </tr>\n",
              "    <tr>\n",
              "      <th>4</th>\n",
              "      <td>3.0</td>\n",
              "      <td>4.968750</td>\n",
              "    </tr>\n",
              "    <tr>\n",
              "      <th>5</th>\n",
              "      <td>3.0</td>\n",
              "      <td>25.750000</td>\n",
              "    </tr>\n",
              "    <tr>\n",
              "      <th>6</th>\n",
              "      <td>3.0</td>\n",
              "      <td>107.807692</td>\n",
              "    </tr>\n",
              "    <tr>\n",
              "      <th>7</th>\n",
              "      <td>3.0</td>\n",
              "      <td>303.980769</td>\n",
              "    </tr>\n",
              "    <tr>\n",
              "      <th>8</th>\n",
              "      <td>3.0</td>\n",
              "      <td>488.326923</td>\n",
              "    </tr>\n",
              "    <tr>\n",
              "      <th>9</th>\n",
              "      <td>3.0</td>\n",
              "      <td>238.528846</td>\n",
              "    </tr>\n",
              "    <tr>\n",
              "      <th>10</th>\n",
              "      <td>3.0</td>\n",
              "      <td>131.894231</td>\n",
              "    </tr>\n",
              "    <tr>\n",
              "      <th>11</th>\n",
              "      <td>3.0</td>\n",
              "      <td>152.201923</td>\n",
              "    </tr>\n",
              "    <tr>\n",
              "      <th>12</th>\n",
              "      <td>3.0</td>\n",
              "      <td>193.903846</td>\n",
              "    </tr>\n",
              "    <tr>\n",
              "      <th>13</th>\n",
              "      <td>3.0</td>\n",
              "      <td>185.826923</td>\n",
              "    </tr>\n",
              "    <tr>\n",
              "      <th>14</th>\n",
              "      <td>3.0</td>\n",
              "      <td>170.548077</td>\n",
              "    </tr>\n",
              "    <tr>\n",
              "      <th>15</th>\n",
              "      <td>3.0</td>\n",
              "      <td>181.288462</td>\n",
              "    </tr>\n",
              "    <tr>\n",
              "      <th>16</th>\n",
              "      <td>3.0</td>\n",
              "      <td>272.961538</td>\n",
              "    </tr>\n",
              "    <tr>\n",
              "      <th>17</th>\n",
              "      <td>3.0</td>\n",
              "      <td>513.144231</td>\n",
              "    </tr>\n",
              "    <tr>\n",
              "      <th>18</th>\n",
              "      <td>3.0</td>\n",
              "      <td>494.029126</td>\n",
              "    </tr>\n",
              "    <tr>\n",
              "      <th>19</th>\n",
              "      <td>3.0</td>\n",
              "      <td>357.504854</td>\n",
              "    </tr>\n",
              "    <tr>\n",
              "      <th>20</th>\n",
              "      <td>3.0</td>\n",
              "      <td>256.660194</td>\n",
              "    </tr>\n",
              "    <tr>\n",
              "      <th>21</th>\n",
              "      <td>3.0</td>\n",
              "      <td>194.669903</td>\n",
              "    </tr>\n",
              "    <tr>\n",
              "      <th>22</th>\n",
              "      <td>3.0</td>\n",
              "      <td>143.689320</td>\n",
              "    </tr>\n",
              "    <tr>\n",
              "      <th>23</th>\n",
              "      <td>3.0</td>\n",
              "      <td>83.737864</td>\n",
              "    </tr>\n",
              "  </tbody>\n",
              "</table>\n",
              "</div>"
            ],
            "text/plain": [
              "      weekday  total_count\n",
              "hour                      \n",
              "0         3.0    34.557692\n",
              "1         3.0    15.336538\n",
              "2         3.0     7.813725\n",
              "3         3.0     4.888889\n",
              "4         3.0     4.968750\n",
              "5         3.0    25.750000\n",
              "6         3.0   107.807692\n",
              "7         3.0   303.980769\n",
              "8         3.0   488.326923\n",
              "9         3.0   238.528846\n",
              "10        3.0   131.894231\n",
              "11        3.0   152.201923\n",
              "12        3.0   193.903846\n",
              "13        3.0   185.826923\n",
              "14        3.0   170.548077\n",
              "15        3.0   181.288462\n",
              "16        3.0   272.961538\n",
              "17        3.0   513.144231\n",
              "18        3.0   494.029126\n",
              "19        3.0   357.504854\n",
              "20        3.0   256.660194\n",
              "21        3.0   194.669903\n",
              "22        3.0   143.689320\n",
              "23        3.0    83.737864"
            ]
          },
          "metadata": {
            "tags": []
          },
          "execution_count": 22
        }
      ]
    },
    {
      "cell_type": "code",
      "metadata": {
        "colab": {
          "base_uri": "https://localhost:8080/"
        },
        "id": "Yr2JfzIW2eE2",
        "outputId": "046ae4e4-e0de-4d4a-9f2f-a5eb00b07a5c"
      },
      "source": [
        "df2[['weekday', 'hour', 'total_count']].groupby(by='hour').mean().max()"
      ],
      "execution_count": null,
      "outputs": [
        {
          "output_type": "execute_result",
          "data": {
            "text/plain": [
              "weekday          3.000000\n",
              "total_count    513.144231\n",
              "dtype: float64"
            ]
          },
          "metadata": {
            "tags": []
          },
          "execution_count": 28
        }
      ]
    },
    {
      "cell_type": "markdown",
      "metadata": {
        "id": "sKtu51GHe8hR"
      },
      "source": [
        "\n",
        "\n",
        "---\n",
        "\n"
      ]
    },
    {
      "cell_type": "markdown",
      "metadata": {
        "id": "oigWeY4lgep7"
      },
      "source": [
        "\n",
        "### Pergunta 14\n",
        "\n",
        "- [ ] o. Aos sábados (weekday = 6), qual o horário do dia contém a maior média de locações de bicicletas?\n",
        "\n",
        "\n",
        "\n",
        "\n",
        "\n",
        "\n"
      ]
    },
    {
      "cell_type": "code",
      "metadata": {
        "colab": {
          "base_uri": "https://localhost:8080/",
          "height": 824
        },
        "id": "RpZPuzNihMxS",
        "outputId": "25e48e62-d1b1-421f-da3a-d924eb14ed74"
      },
      "source": [
        "cond = df.weekday == 6\n",
        "df2 = df[cond]\n",
        "df2[['weekday', 'hour', 'total_count']].groupby(by='hour').mean()"
      ],
      "execution_count": null,
      "outputs": [
        {
          "output_type": "execute_result",
          "data": {
            "text/html": [
              "<div>\n",
              "<style scoped>\n",
              "    .dataframe tbody tr th:only-of-type {\n",
              "        vertical-align: middle;\n",
              "    }\n",
              "\n",
              "    .dataframe tbody tr th {\n",
              "        vertical-align: top;\n",
              "    }\n",
              "\n",
              "    .dataframe thead th {\n",
              "        text-align: right;\n",
              "    }\n",
              "</style>\n",
              "<table border=\"1\" class=\"dataframe\">\n",
              "  <thead>\n",
              "    <tr style=\"text-align: right;\">\n",
              "      <th></th>\n",
              "      <th>weekday</th>\n",
              "      <th>total_count</th>\n",
              "    </tr>\n",
              "    <tr>\n",
              "      <th>hour</th>\n",
              "      <th></th>\n",
              "      <th></th>\n",
              "    </tr>\n",
              "  </thead>\n",
              "  <tbody>\n",
              "    <tr>\n",
              "      <th>0</th>\n",
              "      <td>6.0</td>\n",
              "      <td>94.304762</td>\n",
              "    </tr>\n",
              "    <tr>\n",
              "      <th>1</th>\n",
              "      <td>6.0</td>\n",
              "      <td>67.780952</td>\n",
              "    </tr>\n",
              "    <tr>\n",
              "      <th>2</th>\n",
              "      <td>6.0</td>\n",
              "      <td>50.495238</td>\n",
              "    </tr>\n",
              "    <tr>\n",
              "      <th>3</th>\n",
              "      <td>6.0</td>\n",
              "      <td>22.885714</td>\n",
              "    </tr>\n",
              "    <tr>\n",
              "      <th>4</th>\n",
              "      <td>6.0</td>\n",
              "      <td>7.657143</td>\n",
              "    </tr>\n",
              "    <tr>\n",
              "      <th>5</th>\n",
              "      <td>6.0</td>\n",
              "      <td>8.291262</td>\n",
              "    </tr>\n",
              "    <tr>\n",
              "      <th>6</th>\n",
              "      <td>6.0</td>\n",
              "      <td>21.000000</td>\n",
              "    </tr>\n",
              "    <tr>\n",
              "      <th>7</th>\n",
              "      <td>6.0</td>\n",
              "      <td>45.961905</td>\n",
              "    </tr>\n",
              "    <tr>\n",
              "      <th>8</th>\n",
              "      <td>6.0</td>\n",
              "      <td>114.476190</td>\n",
              "    </tr>\n",
              "    <tr>\n",
              "      <th>9</th>\n",
              "      <td>6.0</td>\n",
              "      <td>186.790476</td>\n",
              "    </tr>\n",
              "    <tr>\n",
              "      <th>10</th>\n",
              "      <td>6.0</td>\n",
              "      <td>263.723810</td>\n",
              "    </tr>\n",
              "    <tr>\n",
              "      <th>11</th>\n",
              "      <td>6.0</td>\n",
              "      <td>328.609524</td>\n",
              "    </tr>\n",
              "    <tr>\n",
              "      <th>12</th>\n",
              "      <td>6.0</td>\n",
              "      <td>375.380952</td>\n",
              "    </tr>\n",
              "    <tr>\n",
              "      <th>13</th>\n",
              "      <td>6.0</td>\n",
              "      <td>385.371429</td>\n",
              "    </tr>\n",
              "    <tr>\n",
              "      <th>14</th>\n",
              "      <td>6.0</td>\n",
              "      <td>381.333333</td>\n",
              "    </tr>\n",
              "    <tr>\n",
              "      <th>15</th>\n",
              "      <td>6.0</td>\n",
              "      <td>382.428571</td>\n",
              "    </tr>\n",
              "    <tr>\n",
              "      <th>16</th>\n",
              "      <td>6.0</td>\n",
              "      <td>366.142857</td>\n",
              "    </tr>\n",
              "    <tr>\n",
              "      <th>17</th>\n",
              "      <td>6.0</td>\n",
              "      <td>334.409524</td>\n",
              "    </tr>\n",
              "    <tr>\n",
              "      <th>18</th>\n",
              "      <td>6.0</td>\n",
              "      <td>292.048077</td>\n",
              "    </tr>\n",
              "    <tr>\n",
              "      <th>19</th>\n",
              "      <td>6.0</td>\n",
              "      <td>239.932692</td>\n",
              "    </tr>\n",
              "    <tr>\n",
              "      <th>20</th>\n",
              "      <td>6.0</td>\n",
              "      <td>180.865385</td>\n",
              "    </tr>\n",
              "    <tr>\n",
              "      <th>21</th>\n",
              "      <td>6.0</td>\n",
              "      <td>156.000000</td>\n",
              "    </tr>\n",
              "    <tr>\n",
              "      <th>22</th>\n",
              "      <td>6.0</td>\n",
              "      <td>139.663462</td>\n",
              "    </tr>\n",
              "    <tr>\n",
              "      <th>23</th>\n",
              "      <td>6.0</td>\n",
              "      <td>115.855769</td>\n",
              "    </tr>\n",
              "  </tbody>\n",
              "</table>\n",
              "</div>"
            ],
            "text/plain": [
              "      weekday  total_count\n",
              "hour                      \n",
              "0         6.0    94.304762\n",
              "1         6.0    67.780952\n",
              "2         6.0    50.495238\n",
              "3         6.0    22.885714\n",
              "4         6.0     7.657143\n",
              "5         6.0     8.291262\n",
              "6         6.0    21.000000\n",
              "7         6.0    45.961905\n",
              "8         6.0   114.476190\n",
              "9         6.0   186.790476\n",
              "10        6.0   263.723810\n",
              "11        6.0   328.609524\n",
              "12        6.0   375.380952\n",
              "13        6.0   385.371429\n",
              "14        6.0   381.333333\n",
              "15        6.0   382.428571\n",
              "16        6.0   366.142857\n",
              "17        6.0   334.409524\n",
              "18        6.0   292.048077\n",
              "19        6.0   239.932692\n",
              "20        6.0   180.865385\n",
              "21        6.0   156.000000\n",
              "22        6.0   139.663462\n",
              "23        6.0   115.855769"
            ]
          },
          "metadata": {
            "tags": []
          },
          "execution_count": 29
        }
      ]
    },
    {
      "cell_type": "code",
      "metadata": {
        "id": "jc7ox3ii2r_s",
        "outputId": "820fcebb-5f7f-46bc-f9cd-dc9a30cff68e",
        "colab": {
          "base_uri": "https://localhost:8080/"
        }
      },
      "source": [
        "df2[['weekday', 'hour', 'total_count']].groupby(by='hour').mean().max()"
      ],
      "execution_count": null,
      "outputs": [
        {
          "output_type": "execute_result",
          "data": {
            "text/plain": [
              "weekday          6.000000\n",
              "total_count    385.371429\n",
              "dtype: float64"
            ]
          },
          "metadata": {
            "tags": []
          },
          "execution_count": 30
        }
      ]
    },
    {
      "cell_type": "markdown",
      "metadata": {
        "id": "CN2A7u7EgvBA"
      },
      "source": [
        "\n",
        "\n",
        "---\n",
        "\n"
      ]
    }
  ]
}