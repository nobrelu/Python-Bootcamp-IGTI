{
  "nbformat": 4,
  "nbformat_minor": 0,
  "metadata": {
    "colab": {
      "provenance": []
    },
    "kernelspec": {
      "name": "python3",
      "display_name": "Python 3"
    },
    "language_info": {
      "name": "python"
    }
  },
  "cells": [
    {
      "cell_type": "code",
      "metadata": {
        "colab": {
          "base_uri": "https://localhost:8080/"
        },
        "id": "Fj9poNGy-lvs",
        "outputId": "96aa17d9-f25d-48ae-eb26-3b060109cbf8"
      },
      "source": [
        "print(\"Teste Colab\")\n",
        "\n",
        "\n",
        "\"\"\"\n",
        "Boas Práticas em Python:\n",
        "    - Identação \n",
        "    \n",
        "\n",
        "\n",
        "\"\"\" \n",
        "\n",
        "print('aaa')\n",
        "\n",
        "#Verificar tipo da variavel\n",
        "variavel = 15\n",
        "print(type(variavel))\n",
        "\n",
        "#integer dividido por integer = float\n",
        "\n",
        "a= 15\n",
        "b = 20\n",
        "divisao = a / b\n",
        "print(type(divisao))\n",
        "\n",
        "#converter inteiro para string\n",
        "v = 12\n",
        "z = str(v)\n",
        "print(type(z))\n",
        "y = int(z)\n",
        "print(type(y))"
      ],
      "execution_count": null,
      "outputs": [
        {
          "output_type": "stream",
          "text": [
            "Teste Colab\n",
            "aaa\n",
            "<class 'int'>\n",
            "<class 'float'>\n",
            "<class 'str'>\n",
            "<class 'int'>\n"
          ],
          "name": "stdout"
        }
      ]
    },
    {
      "cell_type": "markdown",
      "metadata": {
        "id": "ADpqZxMTqBtx"
      },
      "source": [
        "#TRABALHO PRATICO - MODULO 1\n",
        "\n",
        "##**Enunciado:**\n",
        "\n",
        "#### **Objetivos**\n",
        "\n",
        "Praticar e reforçar os conceitos aprendidos até o momento:\n",
        "* ✓ Variáveis em python.\n",
        "* ✓ Dados primitivos em Python (String, Float, Integer, Boolean).\n",
        "* ✓ Armazenamento de dados em python (List, Tuple, Sets, Dictionary).\n",
        "\n",
        "#### **Enunciado**\n",
        "\n",
        "Chegou o momento de praticar e consolidar os conceitos que nós aprendemos até o \n",
        "momento. Neste simples exercício, vamos criar algumas variáveis com informações sobre uma pessoa. As variáveis contêm informações da pessoa e sobre algumas viagens que ela fez. \n",
        "\n",
        "A partir da criação das variáveis, você deve responder as perguntas referentes a cada uma delas e sobre outros conceitos fundamentais que vimos até o momento. \n",
        "\n",
        "\n",
        "**Preste atenção em cada enunciado.**\n",
        "\n",
        "\n",
        "\n",
        "\n",
        "#### **Atividades**\n",
        "\n",
        "\n",
        "\n",
        "Os alunos(as) deverão desempenhar as seguintes atividades:\n",
        "1. Crie as seguintes variáveis e responda as questões referentes a elas e sobre os \n",
        "demais conceitos aprendidos.\n",
        "\n",
        "```\n",
        "nome = 'Roberto'\n",
        "idade = 35\n",
        "altura = 1.88\n",
        "cidades_visitadas = ['Paris', 'Barcelona', 'Chicago', 'Berlim']\n",
        "paises_visitados = ('França', 'Espanha', 'Estados Unidos', 'Alemanha')\n",
        "notas_cidades = {'Paris':5,\n",
        " 'Barcelona':4,\n",
        " 'Chicago':5,\n",
        " 'Berlim':3}\n",
        "dinheiro_gasto = {1.000}\n",
        "dinheiro_guardado = 'R$ 500,00'\n",
        "proximas_viagens = ['Moscou', 'Londres', 'Lisboa]\n",
        "```\n"
      ]
    },
    {
      "cell_type": "code",
      "metadata": {
        "id": "7nNx7MP9qBNs"
      },
      "source": [
        "nome = 'Roberto' #String\n",
        "idade = 35  #Integer\n",
        "altura = 1.88 #float\n",
        "cidades_visitadas = ['Paris', 'Barcelona', 'Chicago', 'Berlim'] # Lista\n",
        "paises_visitados = ('França', 'Espanha', 'Estados Unidos', 'Alemanha') #Tupla\n",
        "notas_cidades = {'Paris':5,\n",
        " 'Barcelona':4,\n",
        " 'Chicago':5,\n",
        " 'Berlim':3}  #dicionário\n",
        "dinheiro_gasto = {1.000} #SET?\n",
        "dinheiro_guardado = 'R$ 500,00' #String\n",
        "proximas_viagens = ['Moscou', 'Londres', 'Lisboa]  \n",
        "# Falta um ' acima"
      ],
      "execution_count": null,
      "outputs": []
    },
    {
      "cell_type": "code",
      "metadata": {
        "colab": {
          "base_uri": "https://localhost:8080/"
        },
        "id": "C-oBWkKYsATq",
        "outputId": "6de2c094-647f-4245-bac8-affac1b0404c"
      },
      "source": [
        "nome = 'Roberto' #String\n",
        "idade = 35  #Integer\n",
        "altura = 1.88 #float\n",
        "cidades_visitadas = ['Paris', 'Barcelona', 'Chicago', 'Berlim'] # Lista\n",
        "paises_visitados = ('França', 'Espanha', 'Estados Unidos', 'Alemanha') #Tupla\n",
        "notas_cidades = {'Paris':5,\n",
        " 'Barcelona':4,\n",
        " 'Chicago':5,\n",
        " 'Berlim':3}  #dicionário\n",
        "dinheiro_gasto = {1.000} #SET\n",
        "dinheiro_guardado = 'R$ 500,00' #String\n",
        "proximas_viagens = ['Moscou', 'Londres', 'Lisboa']  \n",
        "# Falta um ' acima\n",
        "\n",
        "print(\"O tipo da variavel nome é: \", type(nome))\n",
        "print(\"O tipo da variavel idade é: \", type(idade))\n",
        "print(\"O tipo da variavel altura é: \", type(altura))\n",
        "print(\"O tipo da variavel cidades_visitadas é: \", type(cidades_visitadas))\n",
        "print(\"O tipo da variavel paises_visitados é: \", type(paises_visitados))\n",
        "print(\"O tipo da variavel notas_cidades é: \", type(notas_cidades))\n",
        "print(\"O tipo da variavel dinheiro_gasto é: \", type(dinheiro_gasto))\n",
        "print(\"O tipo da variavel dinheiro_guardado é: \", type(dinheiro_guardado))\n",
        "print(\"O tipo da variavel proximas_viagens é: \", type(proximas_viagens))\n"
      ],
      "execution_count": null,
      "outputs": [
        {
          "output_type": "stream",
          "text": [
            "O tipo da variavel nome é:  <class 'str'>\n",
            "O tipo da variavel idade é:  <class 'int'>\n",
            "O tipo da variavel altura é:  <class 'float'>\n",
            "O tipo da variavel cidades_visitadas é:  <class 'list'>\n",
            "O tipo da variavel paises_visitados é:  <class 'tuple'>\n",
            "O tipo da variavel notas_cidades é:  <class 'dict'>\n",
            "O tipo da variavel dinheiro_gasto é:  <class 'set'>\n",
            "O tipo da variavel dinheiro_guardado é:  <class 'str'>\n",
            "O tipo da variavel proximas_viagens é:  <class 'list'>\n"
          ],
          "name": "stdout"
        }
      ]
    },
    {
      "cell_type": "code",
      "metadata": {
        "colab": {
          "base_uri": "https://localhost:8080/",
          "height": 180
        },
        "id": "D1wG1X67uJdY",
        "outputId": "b8285556-4ae8-4494-d741-0c1d629980d0"
      },
      "source": [
        "print = '5'\n",
        "print(print)"
      ],
      "execution_count": null,
      "outputs": [
        {
          "output_type": "error",
          "ename": "TypeError",
          "evalue": "ignored",
          "traceback": [
            "\u001b[0;31m---------------------------------------------------------------------------\u001b[0m",
            "\u001b[0;31mTypeError\u001b[0m                                 Traceback (most recent call last)",
            "\u001b[0;32m<ipython-input-8-5753dfaa1574>\u001b[0m in \u001b[0;36m<module>\u001b[0;34m()\u001b[0m\n\u001b[1;32m      1\u001b[0m \u001b[0mprint\u001b[0m \u001b[0;34m=\u001b[0m \u001b[0;34m'5'\u001b[0m\u001b[0;34m\u001b[0m\u001b[0;34m\u001b[0m\u001b[0m\n\u001b[0;32m----> 2\u001b[0;31m \u001b[0mprint\u001b[0m\u001b[0;34m(\u001b[0m\u001b[0mprint\u001b[0m\u001b[0;34m)\u001b[0m\u001b[0;34m\u001b[0m\u001b[0;34m\u001b[0m\u001b[0m\n\u001b[0m",
            "\u001b[0;31mTypeError\u001b[0m: 'str' object is not callable"
          ]
        }
      ]
    },
    {
      "cell_type": "markdown",
      "metadata": {
        "id": "4cX_Qd-rexuS"
      },
      "source": [
        "# DESAFIO PRÁTICO - MÓDULO 1  - PARTE 2\n",
        "\n",
        "## OBJETIVOS\n",
        "\n",
        "\n",
        "Exercitar os seguintes conceitos trabalhados no Módulo:\n",
        "\n",
        "\n",
        "     ✓ Laços de repetições.\n",
        "     ✓ Função range().\n",
        "     ✓ Funções.\n",
        "     ✓ Instalação, importação de módulos e pacotes\n",
        "\n",
        "\n",
        "## ENUNCIADO\n",
        "\n",
        "\n",
        "Como desenvolvedor python você deve ser capaz de criar soluções que automatizem \n",
        "trabalhos maçantes. Para automatização, utilizamos funções e laços de repetição que são  verdadeiros aliados no cotidiano de um(a) desenvolvedor(a). Neste desafio, vamos praticar um pouco sobre o que estudamos no nosso módulo.\n",
        "\n",
        "**Leia cada questão com atenção!**\n",
        "\n",
        "\n",
        "## ATIVIDADES\n",
        "\n",
        "Os alunos deverão desempenhar as seguintes atividades:\n",
        "\n",
        "\n",
        "*   Observe cada código a seguir e responda as perguntas correspondes. Preste \n",
        "atenção no nome de cada código. Fique atento(a) aos detalhes.\n",
        "\n",
        "\n",
        "\n",
        "Abaixo:\n",
        "\n",
        "\n",
        "\n",
        "*   FUNÇÃO 1:\n",
        "\n",
        "        def saudacao(nome):\n",
        "          print('Olá', nome, 'tudo bem?')\n",
        "\n",
        "*   FUNÇÃO 2:            \n",
        "        def imc(peso, altura):\n",
        "          print(peso / altura ** 2)\n",
        "\n",
        "*   FUNÇÃO 3:  \n",
        "        soma = lambda x, y: x + y\n",
        "\n",
        "*   FUNÇÃO 4:  \n",
        "        def soma(x, y)\n",
        "          print(x + y)\n",
        "\n",
        "*   Laço de repetição 1:  \n",
        "        num = 0\n",
        "        while num < 20:\n",
        "          print(num)\n",
        "          num += 1\n",
        "\n",
        "*   Laço de repetição 2:  \n",
        "        for i in range(0, 10, 2):\n",
        "          print(i)\n",
        "\n",
        "\n",
        "*   Laço de repetição 3:  \n",
        "        \n",
        "        numeros = [1,2,3,4,5,6,7,8,9,10]\n",
        "        for x in numeros:\n",
        "          print(x)\n",
        "          if x == 3:\n",
        "            break\n",
        "\n",
        "\n",
        "*   Laço de repetição 4:  \n",
        "\n",
        "        num = 0\n",
        "        while num < 10:\n",
        "          num += 1\n",
        "          if num == 6:\n",
        "            continue\n",
        "          print(num)\n",
        "\n",
        "\n",
        "### **Nenhum código precisa ser entregue!**"
      ]
    },
    {
      "cell_type": "code",
      "metadata": {
        "colab": {
          "base_uri": "https://localhost:8080/"
        },
        "id": "IIrJS8RegU3k",
        "outputId": "9af5623a-b926-47dd-8743-4688ba00b118"
      },
      "source": [
        "\n",
        "def saudacao(nome):\n",
        " print('Olá', nome, 'tudo bem?')\n",
        "\n",
        "\n",
        "\n",
        "saudacao('Luciana')"
      ],
      "execution_count": null,
      "outputs": [
        {
          "output_type": "stream",
          "text": [
            "Olá Luciana tudo bem?\n"
          ],
          "name": "stdout"
        }
      ]
    },
    {
      "cell_type": "code",
      "metadata": {
        "colab": {
          "base_uri": "https://localhost:8080/"
        },
        "id": "K0_ElI9pgYIi",
        "outputId": "db7e7570-dae2-4d5e-8244-5d15b76c08e6"
      },
      "source": [
        "def imc(peso, altura):\n",
        " print(peso / altura ** 2)\n",
        "\n",
        "\n",
        "imc(80, 1.65)"
      ],
      "execution_count": null,
      "outputs": [
        {
          "output_type": "stream",
          "text": [
            "29.384756657483933\n"
          ],
          "name": "stdout"
        }
      ]
    },
    {
      "cell_type": "code",
      "metadata": {
        "colab": {
          "base_uri": "https://localhost:8080/"
        },
        "id": "F01fgWx6gbIa",
        "outputId": "1998c238-f2a5-4afd-9b99-9685752f5cf6"
      },
      "source": [
        "soma = lambda x, y: x + y\n",
        "\n",
        "\n",
        "print(soma(5,5))"
      ],
      "execution_count": null,
      "outputs": [
        {
          "output_type": "stream",
          "text": [
            "10\n"
          ],
          "name": "stdout"
        }
      ]
    },
    {
      "cell_type": "code",
      "metadata": {
        "colab": {
          "base_uri": "https://localhost:8080/"
        },
        "id": "M7rIB9-agcjw",
        "outputId": "d8b4e951-8bd7-4688-ad89-f4b7fb70a0ea"
      },
      "source": [
        "def soma(x, y): #faltou dois pontos\n",
        " print(x + y)\n",
        "\n",
        "soma(5,5)\n"
      ],
      "execution_count": null,
      "outputs": [
        {
          "output_type": "stream",
          "text": [
            "10\n"
          ],
          "name": "stdout"
        }
      ]
    },
    {
      "cell_type": "code",
      "metadata": {
        "colab": {
          "base_uri": "https://localhost:8080/"
        },
        "id": "wtS6G1StgeX5",
        "outputId": "542da7c2-6426-4d37-c00e-008f06245b18"
      },
      "source": [
        "num = 0\n",
        "while num < 20:\n",
        " print(num)\n",
        " num += 1\n"
      ],
      "execution_count": null,
      "outputs": [
        {
          "output_type": "stream",
          "text": [
            "0\n",
            "1\n",
            "2\n",
            "3\n",
            "4\n",
            "5\n",
            "6\n",
            "7\n",
            "8\n",
            "9\n",
            "10\n",
            "11\n",
            "12\n",
            "13\n",
            "14\n",
            "15\n",
            "16\n",
            "17\n",
            "18\n",
            "19\n"
          ],
          "name": "stdout"
        }
      ]
    },
    {
      "cell_type": "code",
      "metadata": {
        "colab": {
          "base_uri": "https://localhost:8080/"
        },
        "id": "6eA9nVwhggfZ",
        "outputId": "fbfbf6da-68f7-45fd-f3fd-a51299214577"
      },
      "source": [
        "for i in range(0, 10, 2):\n",
        " print(i)"
      ],
      "execution_count": null,
      "outputs": [
        {
          "output_type": "stream",
          "text": [
            "0\n",
            "2\n",
            "4\n",
            "6\n",
            "8\n"
          ],
          "name": "stdout"
        }
      ]
    },
    {
      "cell_type": "code",
      "metadata": {
        "colab": {
          "base_uri": "https://localhost:8080/"
        },
        "id": "84aftlZwgiHg",
        "outputId": "1c4658ba-86d7-4a69-c82f-5f40b5ec0547"
      },
      "source": [
        "numeros = [1,2,3,4,5,6,7,8,9,10]\n",
        "for x in numeros:\n",
        " print(x)\n",
        " if x == 3:\n",
        "  break"
      ],
      "execution_count": null,
      "outputs": [
        {
          "output_type": "stream",
          "text": [
            "1\n",
            "2\n",
            "3\n"
          ],
          "name": "stdout"
        }
      ]
    },
    {
      "cell_type": "code",
      "metadata": {
        "colab": {
          "base_uri": "https://localhost:8080/"
        },
        "id": "pDZg5YXlgiBo",
        "outputId": "512534ba-2ea6-42e1-be9e-f111932dec1a"
      },
      "source": [
        "num = 0\n",
        "while num < 10:\n",
        " num += 1\n",
        " if num == 6:\n",
        "  continue\n",
        " print(num)\n"
      ],
      "execution_count": null,
      "outputs": [
        {
          "output_type": "stream",
          "text": [
            "1\n",
            "2\n",
            "3\n",
            "4\n",
            "5\n",
            "7\n",
            "8\n",
            "9\n",
            "10\n"
          ],
          "name": "stdout"
        }
      ]
    },
    {
      "cell_type": "code",
      "metadata": {
        "id": "hhXuZwlPm_mS",
        "outputId": "45c5b912-d618-4fa9-9920-88448a835f28",
        "colab": {
          "base_uri": "https://localhost:8080/"
        }
      },
      "source": [
        "num = 0\n",
        "while num < 10:\n",
        " num += 1\n",
        " print(num)\n",
        " "
      ],
      "execution_count": null,
      "outputs": [
        {
          "output_type": "stream",
          "text": [
            "1\n",
            "2\n",
            "3\n",
            "4\n",
            "5\n",
            "6\n",
            "7\n",
            "8\n",
            "9\n",
            "10\n"
          ],
          "name": "stdout"
        }
      ]
    }
  ]
}