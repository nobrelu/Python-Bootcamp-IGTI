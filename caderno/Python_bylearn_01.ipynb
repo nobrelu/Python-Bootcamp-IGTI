{
  "nbformat": 4,
  "nbformat_minor": 0,
  "metadata": {
    "colab": {
      "provenance": []
    },
    "kernelspec": {
      "name": "python3",
      "display_name": "Python 3"
    },
    "language_info": {
      "name": "python"
    }
  },
  "cells": [
    {
      "cell_type": "markdown",
      "metadata": {
        "id": "uCqx0ujir62V"
      },
      "source": [
        "# **JORNADA PYTHON FAIXA PRETA POR BYLEARN Nº3**"
      ]
    },
    {
      "cell_type": "markdown",
      "metadata": {
        "id": "dBuodhWdr06z"
      },
      "source": [
        "# Operadores Lógicos\n",
        "\n",
        "O objetivo é criar condições compostas.\n",
        "\n",
        "Ex:\n",
        "\n",
        "* Se estiver calor **E** está de dia\n",
        "* Se for sábado **OU** se for domingo\n",
        "\n",
        "\n",
        "\n",
        "!=          é igual        is not"
      ]
    },
    {
      "cell_type": "code",
      "metadata": {
        "colab": {
          "base_uri": "https://localhost:8080/"
        },
        "id": "HRJzN7TXqa7V",
        "outputId": "7ebdbfb1-9154-4bfc-df5a-fe152218e6d9"
      },
      "source": [
        "temperatuda = 'calor'\n",
        "horario = 'dia'\n",
        "\n",
        "if temperatuda == 'calor' and horario == 'dia':\n",
        "  print('Hora do sorvete!')\n",
        "elif temperatura == 'calor' and horario == 'noite':\n",
        "  print('Tomar banho')\n",
        "elif temperatura == 'frio' or temperatura == 'congelando':    \n",
        "  print('Ficar debaixo do cobertor')\n",
        "else:\n",
        "  print('Ligar a TV')  "
      ],
      "execution_count": null,
      "outputs": [
        {
          "output_type": "stream",
          "text": [
            "Hora do sorvete!\n"
          ],
          "name": "stdout"
        }
      ]
    },
    {
      "cell_type": "code",
      "metadata": {
        "colab": {
          "base_uri": "https://localhost:8080/"
        },
        "id": "YemfRmmHw5v-",
        "outputId": "5f2d5bf9-cdf1-4193-c8a6-85e7c94cb0e3"
      },
      "source": [
        "for numero in range(10):\n",
        "  print(numero)"
      ],
      "execution_count": null,
      "outputs": [
        {
          "output_type": "stream",
          "text": [
            "0\n",
            "1\n",
            "2\n",
            "3\n",
            "4\n",
            "5\n",
            "6\n",
            "7\n",
            "8\n",
            "9\n"
          ],
          "name": "stdout"
        }
      ]
    },
    {
      "cell_type": "code",
      "metadata": {
        "colab": {
          "base_uri": "https://localhost:8080/"
        },
        "id": "hcXouHvew_JC",
        "outputId": "009b4da4-cdaf-44c4-f07a-67f87f12e486"
      },
      "source": [
        "for numero in range(10):\n",
        "  print(numero+1)"
      ],
      "execution_count": null,
      "outputs": [
        {
          "output_type": "stream",
          "text": [
            "1\n",
            "2\n",
            "3\n",
            "4\n",
            "5\n",
            "6\n",
            "7\n",
            "8\n",
            "9\n",
            "10\n"
          ],
          "name": "stdout"
        }
      ]
    },
    {
      "cell_type": "markdown",
      "metadata": {
        "id": "1UUZ14xJxH-D"
      },
      "source": [
        "limite inferior é inclusivo\n",
        "\n",
        "limite superior é exclusivo\n"
      ]
    },
    {
      "cell_type": "code",
      "metadata": {
        "colab": {
          "base_uri": "https://localhost:8080/"
        },
        "id": "eKLZ_n7ZxRuD",
        "outputId": "46613248-8f91-4b66-f038-b4f36ccb5765"
      },
      "source": [
        "for numero in range(1,11):\n",
        "  print(numero)"
      ],
      "execution_count": null,
      "outputs": [
        {
          "output_type": "stream",
          "text": [
            "1\n",
            "2\n",
            "3\n",
            "4\n",
            "5\n",
            "6\n",
            "7\n",
            "8\n",
            "9\n",
            "10\n"
          ],
          "name": "stdout"
        }
      ]
    },
    {
      "cell_type": "code",
      "metadata": {
        "id": "FInQR3BWxuiM"
      },
      "source": [
        "for numero in range(1,11,2):\n",
        "  print(numero)"
      ],
      "execution_count": null,
      "outputs": []
    },
    {
      "cell_type": "code",
      "metadata": {
        "colab": {
          "base_uri": "https://localhost:8080/"
        },
        "id": "wi_Q_JEix26D",
        "outputId": "8062bc15-d14a-4b13-ed67-92a30d773f7c"
      },
      "source": [
        "for numero in range(10,0,-1):\n",
        "  print(numero)"
      ],
      "execution_count": null,
      "outputs": [
        {
          "output_type": "stream",
          "text": [
            "10\n",
            "9\n",
            "8\n",
            "7\n",
            "6\n",
            "5\n",
            "4\n",
            "3\n",
            "2\n",
            "1\n"
          ],
          "name": "stdout"
        }
      ]
    },
    {
      "cell_type": "code",
      "metadata": {
        "colab": {
          "base_uri": "https://localhost:8080/"
        },
        "id": "5guFl_taxYMj",
        "outputId": "3d0128b8-aaeb-44a0-b4ad-a476b9d0901f"
      },
      "source": [
        "for i in range(11):\n",
        "  if i == 5:\n",
        "    print(i*2)"
      ],
      "execution_count": null,
      "outputs": [
        {
          "output_type": "stream",
          "text": [
            "10\n"
          ],
          "name": "stdout"
        }
      ]
    },
    {
      "cell_type": "markdown",
      "metadata": {
        "id": "LWz2ej2XyUwm"
      },
      "source": [
        "Listas"
      ]
    },
    {
      "cell_type": "code",
      "metadata": {
        "colab": {
          "base_uri": "https://localhost:8080/"
        },
        "id": "r_NS_iwXyn2D",
        "outputId": "80ea3de0-3b5d-4a05-dfbd-2f39401f5da7"
      },
      "source": [
        "numeros_validos = [1, 3, 5, 7, 9]\n",
        "numero_escolhido = 3\n",
        "for numero in numeros_validos:\n",
        "  if numero == numero_escolhido:\n",
        "    print('acertou')\n"
      ],
      "execution_count": null,
      "outputs": [
        {
          "output_type": "stream",
          "text": [
            "acertou\n"
          ],
          "name": "stdout"
        }
      ]
    },
    {
      "cell_type": "code",
      "metadata": {
        "colab": {
          "base_uri": "https://localhost:8080/"
        },
        "id": "a3vErW-XzQFF",
        "outputId": "f3f82042-6868-404d-f22d-1afbba3208ba"
      },
      "source": [
        "nomes = ['Flash', 'Greg', 'Kratos', 'Batman', 'Pooky', 'Felix', 'Doctor', 'Gohan', 'Robin']\n",
        "\n",
        "for nome in nomes:\n",
        "  print('O gato se chama', nome)"
      ],
      "execution_count": null,
      "outputs": [
        {
          "output_type": "stream",
          "text": [
            "O gato se chama Flash\n",
            "O gato se chama Greg\n",
            "O gato se chama Kratos\n",
            "O gato se chama Batman\n",
            "O gato se chama Pooky\n",
            "O gato se chama Felix\n",
            "O gato se chama Doctor\n",
            "O gato se chama Gohan\n",
            "O gato se chama Robin\n"
          ],
          "name": "stdout"
        }
      ]
    },
    {
      "cell_type": "code",
      "metadata": {
        "colab": {
          "base_uri": "https://localhost:8080/"
        },
        "id": "QcVp78RTzmUz",
        "outputId": "743ba920-4212-405f-d6b6-ee355ef42c16"
      },
      "source": [
        "notas = [10, 7, 9 , 10, 5]\n",
        "soma = 0\n",
        "for nota in notas:\n",
        "  soma = soma + nota\n",
        "\n",
        "media = soma / len(notas)\n",
        "print(f'O tamanho da lista é {len(notas)}')\n",
        "print(f'A média é {media:.3f}')"
      ],
      "execution_count": null,
      "outputs": [
        {
          "output_type": "stream",
          "text": [
            "O tamanho da lista é 5\n",
            "A média é 8.200\n"
          ],
          "name": "stdout"
        }
      ]
    },
    {
      "cell_type": "code",
      "metadata": {
        "colab": {
          "base_uri": "https://localhost:8080/"
        },
        "id": "lJ4k-XjP7qZA",
        "outputId": "aef6a059-ce19-46e1-f6a0-00f8df360959"
      },
      "source": [
        "#retorno\n",
        "def funcao_retorno():\n",
        "  return 'luciana', 25, 'smart'\n",
        "\n",
        "\n",
        "nome, idade, perfil = funcao_retorno()\n",
        "print(nome)\n",
        "print(idade)\n",
        "print(perfil)"
      ],
      "execution_count": null,
      "outputs": [
        {
          "output_type": "stream",
          "text": [
            "luciana\n",
            "25\n",
            "smart\n"
          ],
          "name": "stdout"
        }
      ]
    }
  ]
}