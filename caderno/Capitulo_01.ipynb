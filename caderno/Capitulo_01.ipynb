{
  "nbformat": 4,
  "nbformat_minor": 0,
  "metadata": {
    "colab": {
      "provenance": []
    },
    "kernelspec": {
      "name": "python3",
      "display_name": "Python 3"
    },
    "language_info": {
      "name": "python"
    }
  },
  "cells": [
    {
      "cell_type": "code",
      "metadata": {
        "colab": {
          "base_uri": "https://localhost:8080/"
        },
        "id": "PNbuan7TtF0E",
        "outputId": "0c737117-0e52-419e-8546-bd075b76c75b"
      },
      "source": [
        "print(\"Olá, mundo\")\n",
        "a = 10\n",
        "b = 2\n",
        "idade = 18\n",
        "peso = 90\n",
        "nome = \"Luciana {} anos tem {} quilos\"\n",
        "print(a*b)\n",
        "print(nome.format(idade, peso))\n",
        "# comentário\n"
      ],
      "execution_count": null,
      "outputs": [
        {
          "output_type": "stream",
          "text": [
            "Olá, mundo\n",
            "20\n",
            "Luciana 18 anos tem 90 quilos\n"
          ],
          "name": "stdout"
        }
      ]
    },
    {
      "cell_type": "code",
      "metadata": {
        "colab": {
          "base_uri": "https://localhost:8080/"
        },
        "id": "kCRRaovQlhwP",
        "outputId": "d9056d38-19f0-47e1-a519-6a599063fa47"
      },
      "source": [
        "# Recebendo informações no conseole\n",
        "primeiro_nome = input(\"Digite seu primeiro nome: \")\n",
        "sobrenome = input(\"Digite seu sobrenome: \")\n",
        "print(primeiro_nome + \" \" + sobrenome)\n",
        "print(\"O nome conforme o passaporta é: {}, {}.\".format(sobrenome, primeiro_nome))"
      ],
      "execution_count": null,
      "outputs": [
        {
          "output_type": "stream",
          "text": [
            "Digite seu primeiro nome: Li\n",
            "Digite seu sobrenome: Kang\n",
            "Li Kang\n",
            "O nome conforme o passaporta é: Kang, Li.\n"
          ],
          "name": "stdout"
        }
      ]
    },
    {
      "cell_type": "code",
      "metadata": {
        "colab": {
          "base_uri": "https://localhost:8080/"
        },
        "id": "Dmb3NJnCyFOZ",
        "outputId": "97c8818e-f838-48d1-add0-9e9dbbb5dc37"
      },
      "source": [
        "nome = input(\"Digite o primeiro nome: \")\n",
        "sobrenome = input(\"Digite o sobrenome: \")\n",
        "# Capitalize deixa a primeira letra em maiuscula. Digita \"maria\" e vira \"Maria\"\n",
        "#nome.capitalize() tem que fazer dentro do format ou\n",
        "nome = nome.capitalize()\n",
        "sobrenome = sobrenome.capitalize()\n",
        "nome_completo = nome + \" \" + sobrenome\n",
        "#print(\"Nome: {} - Sobrenome {}\".format(nome, sobrenome.capitalize()))\n",
        "print(nome_completo)\n",
        "print(\"Nome completo: {} \".format(nome_completo))\n",
        "#ver tamanho do nome\n",
        "print(len(nome_completo))\n",
        "#separa com split, se tivesse separado por virgula tipo luciana,ramos,nobre seria split(,)\n",
        "print(nome_completo.split())\n",
        "#pegar primeiro nome\n",
        "nome_dividido = nome_completo.split()\n",
        "print(nome_dividido)\n",
        "print(nome_dividido[0])\n"
      ],
      "execution_count": null,
      "outputs": [
        {
          "output_type": "stream",
          "text": [
            "Digite o primeiro nome: Luciana\n",
            "Digite o sobrenome: Ramos Nobre\n",
            "Luciana Ramos nobre\n",
            "Nome completo: Luciana Ramos nobre \n",
            "19\n",
            "['Luciana', 'Ramos', 'nobre']\n",
            "['Luciana', 'Ramos', 'nobre']\n",
            "Luciana\n"
          ],
          "name": "stdout"
        }
      ]
    },
    {
      "cell_type": "code",
      "metadata": {
        "colab": {
          "base_uri": "https://localhost:8080/"
        },
        "id": "CUvghzrn6Nik",
        "outputId": "7e38a156-a0ba-4281-b0ba-29c4b5761d29"
      },
      "source": [
        "nome = \"Joaquim José da Silva Xavier\"\n",
        "#pegar os 6 primeiros digitos\n",
        "nome = nome[0:7] #o 7 nao ta incluso, vai de 0 a 6, pegando somente  os 6 primeiros\n",
        "print(nome)"
      ],
      "execution_count": null,
      "outputs": [
        {
          "output_type": "stream",
          "text": [
            "Joaquim\n"
          ],
          "name": "stdout"
        }
      ]
    },
    {
      "cell_type": "code",
      "metadata": {
        "colab": {
          "base_uri": "https://localhost:8080/"
        },
        "id": "2NZ0bSbo8J98",
        "outputId": "13ca5819-fc13-41e6-8787-383ed4e0be91"
      },
      "source": [
        "nome = input(\"Digite o seu nome: \")\n",
        "print(\"Infelizmente, só posso gravar 10 letras. Será gravado {} \".format(nome[0:10]))\n",
        "primeiro_espaco = nome.index(\" \") #quebra nos espaços\n",
        "print(nome[0:primeiro_espaco])"
      ],
      "execution_count": null,
      "outputs": [
        {
          "output_type": "stream",
          "text": [
            "Digite o seu nome: luciana ramos nobre\n",
            "Infelizmente, só posso gravar 10 letras. Será gravado luciana ra \n",
            "luciana\n"
          ],
          "name": "stdout"
        }
      ]
    },
    {
      "cell_type": "code",
      "metadata": {
        "colab": {
          "base_uri": "https://localhost:8080/"
        },
        "id": "rIjzLFtm9f6T",
        "outputId": "6fda5742-a75c-4cdf-b5ea-bbc3151990d1"
      },
      "source": [
        "frase = \"     Esta é uma frase de testes     \"\n",
        "print(\"*{}*\".format(frase))\n",
        "#como tirar os espaços antes e depois do texto\n",
        "frase = frase.lstrip()\n",
        "print(\"*{}*\".format(frase))\n",
        "frase = frase.rstrip()\n",
        "print(\"*{}*\".format(frase))\n",
        "#tirar os dois de uma vez frase.strip() \n",
        "#para tirar ----Mensagem  frase.strip(-)\n",
        "#tirar espaço e  - frase.strip(-).strip(\" \") /// tira somente do inicio e do fim"
      ],
      "execution_count": null,
      "outputs": [
        {
          "output_type": "stream",
          "text": [
            "*     Esta é uma frase de testes     *\n",
            "*Esta é uma frase de testes     *\n",
            "*Esta é uma frase de testes*\n"
          ],
          "name": "stdout"
        }
      ]
    },
    {
      "cell_type": "code",
      "metadata": {
        "colab": {
          "base_uri": "https://localhost:8080/"
        },
        "id": "wE2CKQ6B-4yd",
        "outputId": "8649a931-57c6-48c6-dcec-3d50d15e0167"
      },
      "source": [
        "idade = \"dezanos\"\n",
        "print(idade.isalpha())\n",
        "#verifica se é alphanumerico. espaço nao é\n",
        "idade = \"10\"\n",
        "print(idade.isdigit())\n",
        "#verifica se é digito\n",
        "idade = \"10.5\"\n",
        "print(idade.isdecimal())\n",
        "#verifica se é decimal, nao funciona com ponto(caractere)\n",
        "idade = idade.split(\".\")\n",
        "print(idade[0].isdigit())\n",
        "print(idade[0].isdecimal())\n",
        "print(idade[1].isdigit())\n",
        "print(idade[1].isdecimal())"
      ],
      "execution_count": null,
      "outputs": [
        {
          "output_type": "stream",
          "text": [
            "True\n",
            "True\n",
            "False\n",
            "True\n",
            "True\n",
            "True\n",
            "True\n"
          ],
          "name": "stdout"
        }
      ]
    },
    {
      "cell_type": "code",
      "metadata": {
        "colab": {
          "base_uri": "https://localhost:8080/"
        },
        "id": "YNEYS7tfAohF",
        "outputId": "941bceae-1ab2-438d-9c8d-289b93af7f2a"
      },
      "source": [
        "idade = 18\n",
        "print(idade) #inteiro\n",
        "peso = 80.9\n",
        "print(peso) #float"
      ],
      "execution_count": null,
      "outputs": [
        {
          "output_type": "stream",
          "text": [
            "18\n",
            "80.9\n"
          ],
          "name": "stdout"
        }
      ]
    },
    {
      "cell_type": "code",
      "metadata": {
        "colab": {
          "base_uri": "https://localhost:8080/"
        },
        "id": "W2lki6beA2Ka",
        "outputId": "333c9760-c706-4b1d-8344-d812416272c9"
      },
      "source": [
        "preco_arroz = 4.99\n",
        "quilos = 10\n",
        "#quilos:float=10 #nao aceita forçar a barra falando q é float\n",
        "print(preco_arroz*quilos)\n",
        "#retorna 49.900000006\n",
        "#verifica o tipo\n",
        "print(type(preco_arroz))\n",
        "print(type(quilos))"
      ],
      "execution_count": null,
      "outputs": [
        {
          "output_type": "stream",
          "text": [
            "49.900000000000006\n",
            "<class 'float'>\n",
            "<class 'int'>\n"
          ],
          "name": "stdout"
        }
      ]
    },
    {
      "cell_type": "code",
      "metadata": {
        "colab": {
          "base_uri": "https://localhost:8080/"
        },
        "id": "mJtv3cr0CYO2",
        "outputId": "5ad30ee5-db77-471e-86e5-7ae755a32394"
      },
      "source": [
        "#primeiro programa\n",
        "#programa para calcular imc \n",
        "# Formula = peso / altura² \n",
        "#peso / (altura**2)\n",
        "peso = input(\"Digite seu peso: \") # input recebe sempre input\n",
        "altura = input(\"Digite sua altura: \")\n",
        "peso = float(peso)\n",
        "altura = float(altura)\n",
        "altura2 = altura**2\n",
        "print(altura2)\n",
        "imc = peso/(altura**2)\n",
        "print(imc)"
      ],
      "execution_count": null,
      "outputs": [
        {
          "output_type": "stream",
          "text": [
            "Digite seu peso: 70.2\n",
            "Digite sua altura: 1.68\n",
            "2.8223999999999996\n",
            "24.87244897959184\n"
          ],
          "name": "stdout"
        }
      ]
    }
  ]
}