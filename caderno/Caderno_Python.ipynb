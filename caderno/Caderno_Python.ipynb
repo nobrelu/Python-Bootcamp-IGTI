{
  "nbformat": 4,
  "nbformat_minor": 0,
  "metadata": {
    "colab": {
      "provenance": []
    },
    "kernelspec": {
      "name": "python3",
      "display_name": "Python 3"
    },
    "language_info": {
      "name": "python"
    }
  },
  "cells": [
    {
      "cell_type": "markdown",
      "metadata": {
        "id": "PvoXNsZ-cEe0"
      },
      "source": []
    },
    {
      "cell_type": "markdown",
      "metadata": {
        "id": "s9ISVWkwcGGL"
      },
      "source": [
        "#Função para criação de Título Adaptável\n"
      ]
    },
    {
      "cell_type": "code",
      "metadata": {
        "colab": {
          "base_uri": "https://localhost:8080/"
        },
        "id": "UD-7ckEnboiE",
        "outputId": "384dd72b-df05-41dd-d91a-b4f67dab65a7"
      },
      "source": [
        "def escreva(msg):\n",
        "  tam = len(msg) + 4\n",
        "  print('-' * tam)\n",
        "  print(f' {msg}')\n",
        "  print('-' * tam)\n",
        "\n",
        "escreva('Menu interativo') \n",
        "escreva('Luciana Nobre') \n",
        "escreva('Inicio')"
      ],
      "execution_count": null,
      "outputs": [
        {
          "output_type": "stream",
          "text": [
            "-------------------\n",
            " Menu interativo\n",
            "-------------------\n",
            "-----------------\n",
            " Luciana Nobre\n",
            "-----------------\n",
            "----------\n",
            " Inicio\n",
            "----------\n"
          ],
          "name": "stdout"
        }
      ]
    },
    {
      "cell_type": "markdown",
      "metadata": {
        "id": "wNLCTTlZdH2q"
      },
      "source": [
        "#Função para Criação de Título 2"
      ]
    },
    {
      "cell_type": "code",
      "metadata": {
        "colab": {
          "base_uri": "https://localhost:8080/"
        },
        "id": "uKDaWRa2dNQj",
        "outputId": "60788e3e-2c1c-415f-9f9d-7f0b791f253f"
      },
      "source": [
        "def linha(tam=42):\n",
        "  return '-' * tam\n",
        "\n",
        "def cabecalho(txt):\n",
        "  print(linha())\n",
        "  print(txt.center(42))\n",
        "  print(linha())\n",
        "\n",
        "cabecalho('Sistema de Banco Conta Corrente')    "
      ],
      "execution_count": null,
      "outputs": [
        {
          "output_type": "stream",
          "text": [
            "------------------------------------------\n",
            "     Sistema de Banco Conta Corrente      \n",
            "------------------------------------------\n"
          ],
          "name": "stdout"
        }
      ]
    },
    {
      "cell_type": "markdown",
      "metadata": {
        "id": "YF03IkYEdmpq"
      },
      "source": [
        "#Criando Menu reaproveitando a função cabecalho"
      ]
    },
    {
      "cell_type": "code",
      "metadata": {
        "colab": {
          "base_uri": "https://localhost:8080/"
        },
        "id": "_GeZmENHdrjK",
        "outputId": "a16f919f-9a4f-4866-bbcc-1cea64d5d0d9"
      },
      "source": [
        "def linha(tam=42):\n",
        "  return '-' * tam\n",
        "\n",
        "def cabecalho(txt):\n",
        "  print(linha())\n",
        "  print(txt.center(42))\n",
        "  print(linha())\n",
        "\n",
        "\n",
        "\n",
        "def menu(lista):\n",
        "  cabecalho('Menu Principal')   \n",
        "  c = 1\n",
        "  for item in lista:\n",
        "    print(f'{c} - {item}')\n",
        "    c += 1\n",
        "\n",
        "menu(['Home', 'Quem Somos', 'Nossa Equipe', 'Contato'])\n"
      ],
      "execution_count": null,
      "outputs": [
        {
          "output_type": "stream",
          "text": [
            "------------------------------------------\n",
            "              Menu Principal              \n",
            "------------------------------------------\n",
            "1 - Home\n",
            "2 - Quem Somos\n",
            "3 - Nossa Equipe\n",
            "4 - Contato\n"
          ],
          "name": "stdout"
        }
      ]
    },
    {
      "cell_type": "markdown",
      "metadata": {
        "id": "GxU9fyxtejzD"
      },
      "source": [
        "https://wiki.python.org.br/ListaDeExercicios\n",
        "\n",
        "https://www.erickfaria.com/python/exercicios\n",
        "\n",
        "https://github.com/erickfaria/fundamentos_em_python\n",
        "\n",
        "\n",
        "https://www.w3schools.com/python/ref_math_pi.asp\n",
        "\n",
        "https://www.datacamp.com/community/tutorials\n",
        "\n",
        "\n",
        "\n",
        "\n",
        "\n",
        "https://rapidapi.com/blog/most-popular-api/?utm_source=google&utm_medium=cpc&utm_campaign=Beta&utm_term=%2Bapi_b&gclid=Cj0KCQjwwLKFBhDPARIsAPzPi-KEiNdTMvPWU7AIZdL_Ad1fbo-0TJCHLV5uX9IZFn8otbbdl3mOGsAaAhygEALw_wcB"
      ]
    },
    {
      "cell_type": "code",
      "metadata": {
        "colab": {
          "base_uri": "https://localhost:8080/"
        },
        "id": "wdXXVh-Uevtl",
        "outputId": "58e7486f-3c3b-47a6-e546-a12538a9ef28"
      },
      "source": [
        "import math\n",
        "from math import sqrt\n",
        "\n",
        "raiz_quadrada = math.sqrt(9)\n",
        "print(raiz_quadrada)"
      ],
      "execution_count": null,
      "outputs": [
        {
          "output_type": "stream",
          "text": [
            "3.0\n"
          ],
          "name": "stdout"
        }
      ]
    },
    {
      "cell_type": "markdown",
      "metadata": {
        "id": "mgvivvF6fFqa"
      },
      "source": [
        "#Pegando a cotação do dólar via API"
      ]
    },
    {
      "cell_type": "code",
      "metadata": {
        "colab": {
          "base_uri": "https://localhost:8080/"
        },
        "id": "tNfUNNWPfEc1",
        "outputId": "2911fbd7-e85c-4272-a06d-fdf65d5ee1e7"
      },
      "source": [
        "import requests\n",
        "import json\n",
        "\n",
        "cotacoes = requests.get('https://economia.awesomeapi.com.br/last/USD-BRL,EUR-BRL,BTC-BRL')\n",
        "cotacoes = cotacoes.json()\n",
        "cotacoes_dolar = cotacoes['USDBRL']['bid']\n",
        "'''print(cotacoes)'''\n",
        "print(cotacoes_dolar)"
      ],
      "execution_count": null,
      "outputs": [
        {
          "output_type": "stream",
          "text": [
            "5.2244\n"
          ],
          "name": "stdout"
        }
      ]
    },
    {
      "cell_type": "markdown",
      "metadata": {
        "id": "7HwAFrFcgHRb"
      },
      "source": [
        "#Integrando API de Busca de CEP"
      ]
    },
    {
      "cell_type": "code",
      "metadata": {
        "colab": {
          "base_uri": "https://localhost:8080/",
          "height": 140
        },
        "id": "tq9EpImfgKNj",
        "outputId": "fe51f86f-b474-4ec3-c9ed-2b0d971806bb"
      },
      "source": [
        "import requests #é uma módulo/biblioteca que se comunica com a API e pega as informações do website\n",
        "import json #é uma módulo/biblioteca que converte as informações recebidas para o formato json\n",
        "\n",
        "\n",
        "path = 'https://cep.awesomeapi.com.br/json/'\n",
        "cep_input = input('Digite seu CEP: ')\n",
        "path_full = path + cep_input\n",
        "\n",
        "cep = requests.get(f'{path_full}')\n",
        "cep = cep.json()\n",
        "\n",
        "print(cep)\n",
        "\n",
        "#print(cep.cep) #como é?\n",
        "print('CEP: ', cep['cep'])\n",
        "print('Endereço: ', cep['address_name'])\n",
        "print(type(cep))\n",
        "\n",
        "'''\n",
        "for key in cep.keys():\n",
        "    if isinstance(cep[key], dict)== False:\n",
        "       print(key, cep[key])\n",
        "\n",
        "'''\n"
      ],
      "execution_count": null,
      "outputs": [
        {
          "output_type": "stream",
          "text": [
            "Digite seu CEP: 22230000\n",
            "{'cep': '22230000', 'address_type': 'Rua', 'address_name': 'Senador Vergueiro', 'address': 'Rua Senador Vergueiro', 'state': 'RJ', 'district': 'Flamengo', 'lat': '-22.93715', 'lng': '-43.17587', 'city': 'Rio de Janeiro', 'city_ibge': '3304557', 'ddd': '21'}\n",
            "CEP:  22230000\n",
            "Endereço:  Senador Vergueiro\n",
            "<class 'dict'>\n"
          ],
          "name": "stdout"
        },
        {
          "output_type": "execute_result",
          "data": {
            "application/vnd.google.colaboratory.intrinsic+json": {
              "type": "string"
            },
            "text/plain": [
              "'\\nfor key in cep.keys():\\n    if isinstance(cep[key], dict)== False:\\n       print(key, cep[key])\\n\\n'"
            ]
          },
          "metadata": {
            "tags": []
          },
          "execution_count": 24
        }
      ]
    },
    {
      "cell_type": "code",
      "metadata": {
        "colab": {
          "base_uri": "https://localhost:8080/"
        },
        "id": "wzdpaJRUp-Dc",
        "outputId": "f369b90c-0685-42d2-ac6f-0864e8508529"
      },
      "source": [
        "list.__dict__"
      ],
      "execution_count": null,
      "outputs": [
        {
          "output_type": "execute_result",
          "data": {
            "text/plain": [
              "mappingproxy({'__add__': <slot wrapper '__add__' of 'list' objects>,\n",
              "              '__contains__': <slot wrapper '__contains__' of 'list' objects>,\n",
              "              '__delitem__': <slot wrapper '__delitem__' of 'list' objects>,\n",
              "              '__doc__': 'Built-in mutable sequence.\\n\\nIf no argument is given, the constructor creates a new empty list.\\nThe argument must be an iterable if specified.',\n",
              "              '__eq__': <slot wrapper '__eq__' of 'list' objects>,\n",
              "              '__ge__': <slot wrapper '__ge__' of 'list' objects>,\n",
              "              '__getattribute__': <slot wrapper '__getattribute__' of 'list' objects>,\n",
              "              '__getitem__': <method '__getitem__' of 'list' objects>,\n",
              "              '__gt__': <slot wrapper '__gt__' of 'list' objects>,\n",
              "              '__hash__': None,\n",
              "              '__iadd__': <slot wrapper '__iadd__' of 'list' objects>,\n",
              "              '__imul__': <slot wrapper '__imul__' of 'list' objects>,\n",
              "              '__init__': <slot wrapper '__init__' of 'list' objects>,\n",
              "              '__iter__': <slot wrapper '__iter__' of 'list' objects>,\n",
              "              '__le__': <slot wrapper '__le__' of 'list' objects>,\n",
              "              '__len__': <slot wrapper '__len__' of 'list' objects>,\n",
              "              '__lt__': <slot wrapper '__lt__' of 'list' objects>,\n",
              "              '__mul__': <slot wrapper '__mul__' of 'list' objects>,\n",
              "              '__ne__': <slot wrapper '__ne__' of 'list' objects>,\n",
              "              '__new__': <function list.__new__>,\n",
              "              '__repr__': <slot wrapper '__repr__' of 'list' objects>,\n",
              "              '__reversed__': <method '__reversed__' of 'list' objects>,\n",
              "              '__rmul__': <slot wrapper '__rmul__' of 'list' objects>,\n",
              "              '__setitem__': <slot wrapper '__setitem__' of 'list' objects>,\n",
              "              '__sizeof__': <method '__sizeof__' of 'list' objects>,\n",
              "              'append': <method 'append' of 'list' objects>,\n",
              "              'clear': <method 'clear' of 'list' objects>,\n",
              "              'copy': <method 'copy' of 'list' objects>,\n",
              "              'count': <method 'count' of 'list' objects>,\n",
              "              'extend': <method 'extend' of 'list' objects>,\n",
              "              'index': <method 'index' of 'list' objects>,\n",
              "              'insert': <method 'insert' of 'list' objects>,\n",
              "              'pop': <method 'pop' of 'list' objects>,\n",
              "              'remove': <method 'remove' of 'list' objects>,\n",
              "              'reverse': <method 'reverse' of 'list' objects>,\n",
              "              'sort': <method 'sort' of 'list' objects>})"
            ]
          },
          "metadata": {
            "tags": []
          },
          "execution_count": 25
        }
      ]
    },
    {
      "cell_type": "code",
      "metadata": {
        "colab": {
          "base_uri": "https://localhost:8080/"
        },
        "id": "m86EhZvOqC8t",
        "outputId": "1d0d0527-e0c1-426f-c4b2-279a23cfa604"
      },
      "source": [
        "tuple.__dict__"
      ],
      "execution_count": null,
      "outputs": [
        {
          "output_type": "execute_result",
          "data": {
            "text/plain": [
              "mappingproxy({'__add__': <slot wrapper '__add__' of 'tuple' objects>,\n",
              "              '__contains__': <slot wrapper '__contains__' of 'tuple' objects>,\n",
              "              '__doc__': \"Built-in immutable sequence.\\n\\nIf no argument is given, the constructor returns an empty tuple.\\nIf iterable is specified the tuple is initialized from iterable's items.\\n\\nIf the argument is a tuple, the return value is the same object.\",\n",
              "              '__eq__': <slot wrapper '__eq__' of 'tuple' objects>,\n",
              "              '__ge__': <slot wrapper '__ge__' of 'tuple' objects>,\n",
              "              '__getattribute__': <slot wrapper '__getattribute__' of 'tuple' objects>,\n",
              "              '__getitem__': <slot wrapper '__getitem__' of 'tuple' objects>,\n",
              "              '__getnewargs__': <method '__getnewargs__' of 'tuple' objects>,\n",
              "              '__gt__': <slot wrapper '__gt__' of 'tuple' objects>,\n",
              "              '__hash__': <slot wrapper '__hash__' of 'tuple' objects>,\n",
              "              '__iter__': <slot wrapper '__iter__' of 'tuple' objects>,\n",
              "              '__le__': <slot wrapper '__le__' of 'tuple' objects>,\n",
              "              '__len__': <slot wrapper '__len__' of 'tuple' objects>,\n",
              "              '__lt__': <slot wrapper '__lt__' of 'tuple' objects>,\n",
              "              '__mul__': <slot wrapper '__mul__' of 'tuple' objects>,\n",
              "              '__ne__': <slot wrapper '__ne__' of 'tuple' objects>,\n",
              "              '__new__': <function tuple.__new__>,\n",
              "              '__repr__': <slot wrapper '__repr__' of 'tuple' objects>,\n",
              "              '__rmul__': <slot wrapper '__rmul__' of 'tuple' objects>,\n",
              "              'count': <method 'count' of 'tuple' objects>,\n",
              "              'index': <method 'index' of 'tuple' objects>})"
            ]
          },
          "metadata": {
            "tags": []
          },
          "execution_count": 26
        }
      ]
    },
    {
      "cell_type": "code",
      "metadata": {
        "colab": {
          "base_uri": "https://localhost:8080/"
        },
        "id": "v8W5ubGhqGlj",
        "outputId": "dd40309c-5f80-4259-e50b-be76150dc500"
      },
      "source": [
        "dict.__dict__"
      ],
      "execution_count": null,
      "outputs": [
        {
          "output_type": "execute_result",
          "data": {
            "text/plain": [
              "mappingproxy({'__contains__': <method '__contains__' of 'dict' objects>,\n",
              "              '__delitem__': <slot wrapper '__delitem__' of 'dict' objects>,\n",
              "              '__doc__': \"dict() -> new empty dictionary\\ndict(mapping) -> new dictionary initialized from a mapping object's\\n    (key, value) pairs\\ndict(iterable) -> new dictionary initialized as if via:\\n    d = {}\\n    for k, v in iterable:\\n        d[k] = v\\ndict(**kwargs) -> new dictionary initialized with the name=value pairs\\n    in the keyword argument list.  For example:  dict(one=1, two=2)\",\n",
              "              '__eq__': <slot wrapper '__eq__' of 'dict' objects>,\n",
              "              '__ge__': <slot wrapper '__ge__' of 'dict' objects>,\n",
              "              '__getattribute__': <slot wrapper '__getattribute__' of 'dict' objects>,\n",
              "              '__getitem__': <method '__getitem__' of 'dict' objects>,\n",
              "              '__gt__': <slot wrapper '__gt__' of 'dict' objects>,\n",
              "              '__hash__': None,\n",
              "              '__init__': <slot wrapper '__init__' of 'dict' objects>,\n",
              "              '__iter__': <slot wrapper '__iter__' of 'dict' objects>,\n",
              "              '__le__': <slot wrapper '__le__' of 'dict' objects>,\n",
              "              '__len__': <slot wrapper '__len__' of 'dict' objects>,\n",
              "              '__lt__': <slot wrapper '__lt__' of 'dict' objects>,\n",
              "              '__ne__': <slot wrapper '__ne__' of 'dict' objects>,\n",
              "              '__new__': <function dict.__new__>,\n",
              "              '__repr__': <slot wrapper '__repr__' of 'dict' objects>,\n",
              "              '__setitem__': <slot wrapper '__setitem__' of 'dict' objects>,\n",
              "              '__sizeof__': <method '__sizeof__' of 'dict' objects>,\n",
              "              'clear': <method 'clear' of 'dict' objects>,\n",
              "              'copy': <method 'copy' of 'dict' objects>,\n",
              "              'fromkeys': <method 'fromkeys' of 'dict' objects>,\n",
              "              'get': <method 'get' of 'dict' objects>,\n",
              "              'items': <method 'items' of 'dict' objects>,\n",
              "              'keys': <method 'keys' of 'dict' objects>,\n",
              "              'pop': <method 'pop' of 'dict' objects>,\n",
              "              'popitem': <method 'popitem' of 'dict' objects>,\n",
              "              'setdefault': <method 'setdefault' of 'dict' objects>,\n",
              "              'update': <method 'update' of 'dict' objects>,\n",
              "              'values': <method 'values' of 'dict' objects>})"
            ]
          },
          "metadata": {
            "tags": []
          },
          "execution_count": 27
        }
      ]
    }
  ]
}