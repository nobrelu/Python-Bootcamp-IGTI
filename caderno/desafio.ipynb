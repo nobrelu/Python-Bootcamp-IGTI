{
  "nbformat": 4,
  "nbformat_minor": 0,
  "metadata": {
    "colab": {
      "provenance": []
    },
    "kernelspec": {
      "name": "python3",
      "display_name": "Python 3"
    },
    "language_info": {
      "name": "python"
    }
  },
  "cells": [
    {
      "cell_type": "code",
      "metadata": {
        "id": "R0ZRVWT14_vh"
      },
      "source": [
        "# DESAFIO MODULO 4 IGTI\n",
        "\n",
        "# PYTHON\n",
        "\n",
        "#USO DE FUNÇÕES, FOR E WHILE, LOGICA BOOLEANA\n",
        "#USO DE LISTAS, TUPLAS E DICIONARIOS\n",
        "\n",
        "#MODULO DE NOTAS FISCAIS\n",
        "\n",
        "#DUAS LISTAS: CLIENTES E PRODUTOS\n",
        "\n",
        "#Exemplo:\n",
        "# clientes={\"Marcelo\", \"Joana\", \"Maria de Fátima\"}\n",
        "# produtos=[{\"nome\": \"computador\",\"preço\":1000.50}, {\"nome\":\"mouse\",\"preço\":120}, {\"nome\": \"monitor\",\"preço\":999.99},]\n",
        "\n",
        "#ATIVIDADES\n",
        "\n",
        "# 1. LER DO USUARIO O NOME DO CLIENTE E PESQUISAR NA LISTA. TEM QUE TER O NOME\n",
        "\n",
        "# 2. PEDIR A LISTA DE PRODUTOS E SUAS QUANTIDADES.\n",
        "\n",
        "# 3. FAZER OS SEGUINTES CALCULOS:\n",
        "\n",
        "      # a. Imposto para cada item de 10% do valor (multiplicado pela quantidade)\n",
        "      # b. Total do item = (item*quantidade) + imposto\n",
        "      # c. Total da Nota Fiscal\n",
        "\n",
        "# 4. IMPRIMIR NOTA FISCAL      "
      ],
      "execution_count": null,
      "outputs": []
    },
    {
      "cell_type": "code",
      "metadata": {
        "id": "cIp_1Ady7qhL"
      },
      "source": [
        " # RASCUNHOS:\n",
        "\n",
        "# Criar funções:\n",
        "\n",
        "# 1. Criar Menu\n",
        "# 2. Criar Lista de Clientes [OK]\n",
        "# 3. Localizar Clientes\n",
        " "
      ],
      "execution_count": null,
      "outputs": []
    },
    {
      "cell_type": "code",
      "metadata": {
        "colab": {
          "base_uri": "https://localhost:8080/",
          "height": 527
        },
        "id": "qaoGVrE5IISE",
        "outputId": "5c6b6e84-4469-491f-e333-01642d8a12c3"
      },
      "source": [
        "def menu():\n",
        "  opcao = input('''\n",
        "        MENU:\n",
        "\n",
        "        [C] - Cadastrar Cliente\n",
        "        [L] - Localizar Cliente\n",
        "        [R] - Ver Resultado\n",
        "        [S] - Sair\n",
        "\n",
        "\n",
        "    ''')\n",
        "  opcao = opcao.upper()\n",
        "  return opcao\n",
        "\n",
        "opcao_escolhida = menu()\n",
        "\n",
        "if opcao_escolhida == 'C':\n",
        "  print('''\n",
        "        ***************************\n",
        "              CADASTRAR CLIENTE\n",
        "        ***************************\n",
        "        ''')\n",
        "elif opcao_escolhida == 'L':\n",
        "  print('''\n",
        "        ***************************\n",
        "              LOCALIZAR CLIENTE\n",
        "        ***************************\n",
        "        ''')  \n",
        "else:\n",
        "  print(\"Opção inválida\")\n",
        "  menu()"
      ],
      "execution_count": null,
      "outputs": [
        {
          "output_type": "error",
          "ename": "KeyboardInterrupt",
          "evalue": "ignored",
          "traceback": [
            "\u001b[0;31m---------------------------------------------------------------------------\u001b[0m",
            "\u001b[0;31mKeyboardInterrupt\u001b[0m                         Traceback (most recent call last)",
            "\u001b[0;32m/usr/local/lib/python3.7/dist-packages/ipykernel/kernelbase.py\u001b[0m in \u001b[0;36m_input_request\u001b[0;34m(self, prompt, ident, parent, password)\u001b[0m\n\u001b[1;32m    728\u001b[0m             \u001b[0;32mtry\u001b[0m\u001b[0;34m:\u001b[0m\u001b[0;34m\u001b[0m\u001b[0;34m\u001b[0m\u001b[0m\n\u001b[0;32m--> 729\u001b[0;31m                 \u001b[0mident\u001b[0m\u001b[0;34m,\u001b[0m \u001b[0mreply\u001b[0m \u001b[0;34m=\u001b[0m \u001b[0mself\u001b[0m\u001b[0;34m.\u001b[0m\u001b[0msession\u001b[0m\u001b[0;34m.\u001b[0m\u001b[0mrecv\u001b[0m\u001b[0;34m(\u001b[0m\u001b[0mself\u001b[0m\u001b[0;34m.\u001b[0m\u001b[0mstdin_socket\u001b[0m\u001b[0;34m,\u001b[0m \u001b[0;36m0\u001b[0m\u001b[0;34m)\u001b[0m\u001b[0;34m\u001b[0m\u001b[0;34m\u001b[0m\u001b[0m\n\u001b[0m\u001b[1;32m    730\u001b[0m             \u001b[0;32mexcept\u001b[0m \u001b[0mException\u001b[0m\u001b[0;34m:\u001b[0m\u001b[0;34m\u001b[0m\u001b[0;34m\u001b[0m\u001b[0m\n",
            "\u001b[0;32m/usr/local/lib/python3.7/dist-packages/jupyter_client/session.py\u001b[0m in \u001b[0;36mrecv\u001b[0;34m(self, socket, mode, content, copy)\u001b[0m\n\u001b[1;32m    802\u001b[0m         \u001b[0;32mtry\u001b[0m\u001b[0;34m:\u001b[0m\u001b[0;34m\u001b[0m\u001b[0;34m\u001b[0m\u001b[0m\n\u001b[0;32m--> 803\u001b[0;31m             \u001b[0mmsg_list\u001b[0m \u001b[0;34m=\u001b[0m \u001b[0msocket\u001b[0m\u001b[0;34m.\u001b[0m\u001b[0mrecv_multipart\u001b[0m\u001b[0;34m(\u001b[0m\u001b[0mmode\u001b[0m\u001b[0;34m,\u001b[0m \u001b[0mcopy\u001b[0m\u001b[0;34m=\u001b[0m\u001b[0mcopy\u001b[0m\u001b[0;34m)\u001b[0m\u001b[0;34m\u001b[0m\u001b[0;34m\u001b[0m\u001b[0m\n\u001b[0m\u001b[1;32m    804\u001b[0m         \u001b[0;32mexcept\u001b[0m \u001b[0mzmq\u001b[0m\u001b[0;34m.\u001b[0m\u001b[0mZMQError\u001b[0m \u001b[0;32mas\u001b[0m \u001b[0me\u001b[0m\u001b[0;34m:\u001b[0m\u001b[0;34m\u001b[0m\u001b[0;34m\u001b[0m\u001b[0m\n",
            "\u001b[0;32m/usr/local/lib/python3.7/dist-packages/zmq/sugar/socket.py\u001b[0m in \u001b[0;36mrecv_multipart\u001b[0;34m(self, flags, copy, track)\u001b[0m\n\u001b[1;32m    582\u001b[0m         \"\"\"\n\u001b[0;32m--> 583\u001b[0;31m         \u001b[0mparts\u001b[0m \u001b[0;34m=\u001b[0m \u001b[0;34m[\u001b[0m\u001b[0mself\u001b[0m\u001b[0;34m.\u001b[0m\u001b[0mrecv\u001b[0m\u001b[0;34m(\u001b[0m\u001b[0mflags\u001b[0m\u001b[0;34m,\u001b[0m \u001b[0mcopy\u001b[0m\u001b[0;34m=\u001b[0m\u001b[0mcopy\u001b[0m\u001b[0;34m,\u001b[0m \u001b[0mtrack\u001b[0m\u001b[0;34m=\u001b[0m\u001b[0mtrack\u001b[0m\u001b[0;34m)\u001b[0m\u001b[0;34m]\u001b[0m\u001b[0;34m\u001b[0m\u001b[0;34m\u001b[0m\u001b[0m\n\u001b[0m\u001b[1;32m    584\u001b[0m         \u001b[0;31m# have first part already, only loop while more to receive\u001b[0m\u001b[0;34m\u001b[0m\u001b[0;34m\u001b[0m\u001b[0;34m\u001b[0m\u001b[0m\n",
            "\u001b[0;32mzmq/backend/cython/socket.pyx\u001b[0m in \u001b[0;36mzmq.backend.cython.socket.Socket.recv\u001b[0;34m()\u001b[0m\n",
            "\u001b[0;32mzmq/backend/cython/socket.pyx\u001b[0m in \u001b[0;36mzmq.backend.cython.socket.Socket.recv\u001b[0;34m()\u001b[0m\n",
            "\u001b[0;32mzmq/backend/cython/socket.pyx\u001b[0m in \u001b[0;36mzmq.backend.cython.socket._recv_copy\u001b[0;34m()\u001b[0m\n",
            "\u001b[0;32m/usr/local/lib/python3.7/dist-packages/zmq/backend/cython/checkrc.pxd\u001b[0m in \u001b[0;36mzmq.backend.cython.checkrc._check_rc\u001b[0;34m()\u001b[0m\n",
            "\u001b[0;31mKeyboardInterrupt\u001b[0m: ",
            "\nDuring handling of the above exception, another exception occurred:\n",
            "\u001b[0;31mKeyboardInterrupt\u001b[0m                         Traceback (most recent call last)",
            "\u001b[0;32m<ipython-input-3-aedc882b9f67>\u001b[0m in \u001b[0;36m<module>\u001b[0;34m()\u001b[0m\n\u001b[1;32m     13\u001b[0m   \u001b[0;32mreturn\u001b[0m \u001b[0mopcao\u001b[0m\u001b[0;34m\u001b[0m\u001b[0;34m\u001b[0m\u001b[0m\n\u001b[1;32m     14\u001b[0m \u001b[0;34m\u001b[0m\u001b[0m\n\u001b[0;32m---> 15\u001b[0;31m \u001b[0mopcao_escolhida\u001b[0m \u001b[0;34m=\u001b[0m \u001b[0mmenu\u001b[0m\u001b[0;34m(\u001b[0m\u001b[0;34m)\u001b[0m\u001b[0;34m\u001b[0m\u001b[0;34m\u001b[0m\u001b[0m\n\u001b[0m\u001b[1;32m     16\u001b[0m \u001b[0;34m\u001b[0m\u001b[0m\n\u001b[1;32m     17\u001b[0m \u001b[0;32mif\u001b[0m \u001b[0mopcao_escolhida\u001b[0m \u001b[0;34m==\u001b[0m \u001b[0;34m'C'\u001b[0m\u001b[0;34m:\u001b[0m\u001b[0;34m\u001b[0m\u001b[0;34m\u001b[0m\u001b[0m\n",
            "\u001b[0;32m<ipython-input-3-aedc882b9f67>\u001b[0m in \u001b[0;36mmenu\u001b[0;34m()\u001b[0m\n\u001b[1;32m      9\u001b[0m \u001b[0;34m\u001b[0m\u001b[0m\n\u001b[1;32m     10\u001b[0m \u001b[0;34m\u001b[0m\u001b[0m\n\u001b[0;32m---> 11\u001b[0;31m     ''')\n\u001b[0m\u001b[1;32m     12\u001b[0m   \u001b[0mopcao\u001b[0m \u001b[0;34m=\u001b[0m \u001b[0mopcao\u001b[0m\u001b[0;34m.\u001b[0m\u001b[0mupper\u001b[0m\u001b[0;34m(\u001b[0m\u001b[0;34m)\u001b[0m\u001b[0;34m\u001b[0m\u001b[0;34m\u001b[0m\u001b[0m\n\u001b[1;32m     13\u001b[0m   \u001b[0;32mreturn\u001b[0m \u001b[0mopcao\u001b[0m\u001b[0;34m\u001b[0m\u001b[0;34m\u001b[0m\u001b[0m\n",
            "\u001b[0;32m/usr/local/lib/python3.7/dist-packages/ipykernel/kernelbase.py\u001b[0m in \u001b[0;36mraw_input\u001b[0;34m(self, prompt)\u001b[0m\n\u001b[1;32m    702\u001b[0m             \u001b[0mself\u001b[0m\u001b[0;34m.\u001b[0m\u001b[0m_parent_ident\u001b[0m\u001b[0;34m,\u001b[0m\u001b[0;34m\u001b[0m\u001b[0;34m\u001b[0m\u001b[0m\n\u001b[1;32m    703\u001b[0m             \u001b[0mself\u001b[0m\u001b[0;34m.\u001b[0m\u001b[0m_parent_header\u001b[0m\u001b[0;34m,\u001b[0m\u001b[0;34m\u001b[0m\u001b[0;34m\u001b[0m\u001b[0m\n\u001b[0;32m--> 704\u001b[0;31m             \u001b[0mpassword\u001b[0m\u001b[0;34m=\u001b[0m\u001b[0;32mFalse\u001b[0m\u001b[0;34m,\u001b[0m\u001b[0;34m\u001b[0m\u001b[0;34m\u001b[0m\u001b[0m\n\u001b[0m\u001b[1;32m    705\u001b[0m         )\n\u001b[1;32m    706\u001b[0m \u001b[0;34m\u001b[0m\u001b[0m\n",
            "\u001b[0;32m/usr/local/lib/python3.7/dist-packages/ipykernel/kernelbase.py\u001b[0m in \u001b[0;36m_input_request\u001b[0;34m(self, prompt, ident, parent, password)\u001b[0m\n\u001b[1;32m    732\u001b[0m             \u001b[0;32mexcept\u001b[0m \u001b[0mKeyboardInterrupt\u001b[0m\u001b[0;34m:\u001b[0m\u001b[0;34m\u001b[0m\u001b[0;34m\u001b[0m\u001b[0m\n\u001b[1;32m    733\u001b[0m                 \u001b[0;31m# re-raise KeyboardInterrupt, to truncate traceback\u001b[0m\u001b[0;34m\u001b[0m\u001b[0;34m\u001b[0m\u001b[0;34m\u001b[0m\u001b[0m\n\u001b[0;32m--> 734\u001b[0;31m                 \u001b[0;32mraise\u001b[0m \u001b[0mKeyboardInterrupt\u001b[0m\u001b[0;34m\u001b[0m\u001b[0;34m\u001b[0m\u001b[0m\n\u001b[0m\u001b[1;32m    735\u001b[0m             \u001b[0;32melse\u001b[0m\u001b[0;34m:\u001b[0m\u001b[0;34m\u001b[0m\u001b[0;34m\u001b[0m\u001b[0m\n\u001b[1;32m    736\u001b[0m                 \u001b[0;32mbreak\u001b[0m\u001b[0;34m\u001b[0m\u001b[0;34m\u001b[0m\u001b[0m\n",
            "\u001b[0;31mKeyboardInterrupt\u001b[0m: "
          ]
        }
      ]
    },
    {
      "cell_type": "code",
      "metadata": {
        "colab": {
          "base_uri": "https://localhost:8080/"
        },
        "id": "b0RJGqkjAT4I",
        "outputId": "a7beb575-35c1-4691-df20-29ef35fc72ee"
      },
      "source": [
        "lista_clientes = [\"Marcelo\", \"Joana\", \"Maria de Fátima\", \"Robson\", \"Luciana\", \"Thiago\", \"Henrique\", \"Afonso\", \"Vanessa\"]\n",
        "\n",
        "def localizar_cliente(busca):\n",
        "  nome = input(\"Digite {} \".format(busca))\n",
        "  #indice = -1\n",
        "  if nome in lista_clientes:\n",
        "    print(\"Cliente recebido\")\n",
        "  indice= \"\"\n",
        "  for i,cliente in enumerate(lista_clientes):\n",
        "    if (nome.upper() in cliente.upper() ):\n",
        "      indice = i\n",
        "      print(cliente)\n",
        "      print(i)\n",
        "      break\n",
        "  else:\n",
        "    print(\"Cliente não encontrado\")  \n",
        "    localizar_cliente(\"nome\")  \n",
        "  return indice, cliente     \n",
        "\n",
        "cliente = localizar_cliente(\"nome\") \n",
        "print(cliente)\n",
        "\n"
      ],
      "execution_count": null,
      "outputs": [
        {
          "output_type": "stream",
          "text": [
            "Digite nome thi\n",
            "Thiago\n",
            "5\n",
            "(5, 'Thiago')\n"
          ],
          "name": "stdout"
        }
      ]
    },
    {
      "cell_type": "code",
      "metadata": {
        "colab": {
          "base_uri": "https://localhost:8080/"
        },
        "id": "RhtE1I7LONWr",
        "outputId": "656a6695-79ed-4b5f-f2f9-55c008418fef"
      },
      "source": [
        "\n",
        "\n",
        "lista_clientes = [\"Marcelo\", \"Joana\", \"Maria\", \"Robson\", \"Luciana\", \"Thiago\", \"Henrique\", \"Afonso\", \"Vanessa\"]\n",
        "\n",
        "def localizar_cliente(busca):\n",
        "  nome = input(\"Digite {} \".format(busca))\n",
        "  #indice = -1\n",
        "  #if nome in lista_clientes:\n",
        "   # print(f\"Cliente {nome} encontrado.\")\n",
        "    \n",
        "  indice= \"\"\n",
        "  for i,cliente in enumerate(lista_clientes):\n",
        "    if (nome.upper() in cliente.upper() ):\n",
        "      indice = i\n",
        "      #print(cliente)\n",
        "      print(f\"Cliente {cliente} encontrado.\")\n",
        "      #print(i)\n",
        "      break\n",
        "  else:\n",
        "    print(\"Cliente não encontrado.\")  \n",
        "    localizar_cliente(\"nome\")  \n",
        "  return indice    \n",
        "\n",
        "\n",
        "def cadastrar_cliente():\n",
        "  novo_cliente = input(\"Digite o nome do novo cliente: \")\n",
        "  lista_clientes.append(novo_cliente)\n",
        "  print(f\"Cliente '{novo_cliente}' cadastrado com sucesso\")\n",
        "  \n",
        "\n",
        "def menu():\n",
        "  opcao = input('''\n",
        "        MENU:\n",
        "\n",
        "        [C] - Cadastrar Cliente\n",
        "        [L] - Localizar Cliente\n",
        "        [V] - Visualizar Clientes\n",
        "        [P] - Criar Pedido para o Cliente\n",
        "        [S] - Sair\n",
        "\n",
        "\n",
        "    ''')\n",
        "  opcao = opcao.upper()\n",
        "  return opcao\n",
        "\n",
        "\n",
        "\n",
        "while True:\n",
        "  opcao_escolhida = menu()\n",
        "  if (opcao_escolhida == 'C'):\n",
        "    print('''\n",
        "          ***************************\n",
        "                CADASTRAR CLIENTE\n",
        "          ***************************\n",
        "          ''')\n",
        "    cadastrar_cliente()\n",
        "    \n",
        "    continue\n",
        "\n",
        "  elif opcao_escolhida == 'L':\n",
        "    print('''\n",
        "          ***************************\n",
        "                LOCALIZAR CLIENTE\n",
        "          ***************************\n",
        "          ''')\n",
        "    cliente = localizar_cliente(\"nome\") \n",
        "    print(cliente)  \n",
        "  \n",
        "\n",
        "  elif opcao_escolhida == 'V':\n",
        "    print('''\n",
        "          ***************************\n",
        "                VISUALIZAR CLIENTES\n",
        "          ***************************\n",
        "          ''')\n",
        "    for i,nome in enumerate(lista_clientes):\n",
        "      print(f'          Indice: {i}  -  Cliente: {nome} ' )\n",
        "    \n",
        "    continue\n",
        "\n",
        "  elif opcao_escolhida == 'P':\n",
        "    print('''\n",
        "          ***************************\n",
        "               CRIAR PEDIDO\n",
        "          ***************************\n",
        "          ''')\n",
        "    cliente = localizar_cliente(\"nome\") \n",
        "    if (cliente):\n",
        "      print(f\"O indice é {cliente} \")\n",
        "\n",
        "    continue\n",
        "\n",
        "\n",
        "\n",
        "\n",
        "  elif opcao_escolhida == 'S':\n",
        "    print('''\n",
        "          ***************************\n",
        "              PROGRAMA FINALIZADO\n",
        "          ***************************\n",
        "          ''')\n",
        "    print('''\n",
        "                  ╲╭━━━━╮╲╲\n",
        "                  ╲┃╭╮╭╮┃╲╲\n",
        "                  ┗┫┏━━┓┣┛╲\n",
        "                  ╲┃╰━━╯┃\n",
        "                  ╲╰┳━━┳╯╲╲\n",
        "          ''')\n",
        "    #quit()\n",
        "    break\n",
        "    #exit() tbm\n",
        "  else:\n",
        "    print(\"Opção inválida\")\n",
        "    menu()"
      ],
      "execution_count": null,
      "outputs": [
        {
          "output_type": "stream",
          "text": [
            "\n",
            "        MENU:\n",
            "\n",
            "        [C] - Cadastrar Cliente\n",
            "        [L] - Localizar Cliente\n",
            "        [V] - Visualizar Clientes\n",
            "        [P] - Criar Pedido para o Cliente\n",
            "        [S] - Sair\n",
            "\n",
            "\n",
            "    S\n",
            "\n",
            "          ***************************\n",
            "              PROGRAMA FINALIZADO\n",
            "          ***************************\n",
            "          \n",
            "\n",
            "                  ╲╭━━━━╮╲╲\n",
            "                  ╲┃╭╮╭╮┃╲╲\n",
            "                  ┗┫┏━━┓┣┛╲\n",
            "                  ╲┃╰━━╯┃\n",
            "                  ╲╰┳━━┳╯╲╲\n",
            "          \n"
          ],
          "name": "stdout"
        }
      ]
    },
    {
      "cell_type": "code",
      "metadata": {
        "colab": {
          "base_uri": "https://localhost:8080/"
        },
        "id": "lXFMI-hy4uZI",
        "outputId": "3bdaba60-320e-488c-888f-651f1638c87e"
      },
      "source": [
        "def procura_cliente():\n",
        "  cliente = input(\"Digite o nome do novo cliente: \")\n",
        "  \n",
        "  return cliente\n",
        "\n",
        "nome = procura_cliente()\n",
        "print(f'O nome do cliente é {nome}')"
      ],
      "execution_count": null,
      "outputs": [
        {
          "output_type": "stream",
          "text": [
            "Digite o nome do novo cliente: Luciana\n",
            "O nome do cliente é Luciana\n"
          ],
          "name": "stdout"
        }
      ]
    },
    {
      "cell_type": "code",
      "metadata": {
        "colab": {
          "base_uri": "https://localhost:8080/"
        },
        "id": "FvsXdjmPt3nI",
        "outputId": "3fed63f9-e374-4ba0-ffd8-ffffc18496a0"
      },
      "source": [
        "cliente = 'Joaquim José'\n",
        "\n",
        "nome_buscado = \"osé\"\n",
        "\n",
        "idade = 18\n",
        "\n",
        " \n",
        "\n",
        "print((nome_buscado in cliente) and (not(idade < 18)))"
      ],
      "execution_count": null,
      "outputs": [
        {
          "output_type": "stream",
          "text": [
            "True\n"
          ],
          "name": "stdout"
        }
      ]
    }
  ]
}