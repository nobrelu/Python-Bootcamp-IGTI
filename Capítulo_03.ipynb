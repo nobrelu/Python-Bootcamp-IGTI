{
  "nbformat": 4,
  "nbformat_minor": 0,
  "metadata": {
    "colab": {
      "provenance": [],
      "authorship_tag": "ABX9TyNTC0mLhZLpGwyoxbx3+pWc",
      "include_colab_link": true
    },
    "kernelspec": {
      "name": "python3",
      "display_name": "Python 3"
    },
    "language_info": {
      "name": "python"
    }
  },
  "cells": [
    {
      "cell_type": "markdown",
      "metadata": {
        "id": "view-in-github",
        "colab_type": "text"
      },
      "source": [
        "<a href=\"https://colab.research.google.com/github/nobrelu/Python-Bootcamp-IGTI/blob/master/Cap%C3%ADtulo_03.ipynb\" target=\"_parent\"><img src=\"https://colab.research.google.com/assets/colab-badge.svg\" alt=\"Open In Colab\"/></a>"
      ]
    },
    {
      "cell_type": "code",
      "metadata": {
        "colab": {
          "base_uri": "https://localhost:8080/"
        },
        "id": "lAljFbFSqiOQ",
        "outputId": "50fe8c69-577c-487f-d2e6-97f2babfe2b3"
      },
      "source": [
        "#pessoa = \"Marcelo\"\n",
        "#endereco = \"Rua das Flores, 74\"\n",
        "#idade = 18\n",
        "\n",
        "\n",
        "\n",
        "#dicionarios\n",
        "\n",
        "pessoa =  {\n",
        "    'nome' : 'Marcelo',\n",
        "    'endereco' : 'Rua das Flores, 74',\n",
        "    'idade' : 18\n",
        "}\n",
        "\n",
        "print(pessoa)\n",
        "print(pessoa['idade'])"
      ],
      "execution_count": null,
      "outputs": [
        {
          "output_type": "stream",
          "text": [
            "{'nome': 'Marcelo', 'endereco': 'Rua das Flores, 74', 'idade': 18}\n",
            "18\n"
          ],
          "name": "stdout"
        }
      ]
    },
    {
      "cell_type": "code",
      "metadata": {
        "colab": {
          "base_uri": "https://localhost:8080/"
        },
        "id": "WeyF_HQVrwpZ",
        "outputId": "e36e010d-84fe-4db8-dc2e-035efc9014aa"
      },
      "source": [
        "#lista \n",
        "lista=['Marcelo', 'Maria', 'José', 'João']\n",
        "print(lista)\n",
        "print(lista[0])\n",
        "print(lista[-1]) #pega o ultimo item\n",
        "print(lista[2:4]) #lembrar q nao pega o ultimo do range\n",
        "print(lista[:2])  #do inicio ate o \"2\" menos 1 sempre\n",
        "\n",
        "lista[0] = 'Rodrigo' #adicionando Rodrigo na posicao 0 SUBSTITUIU A POSICAO ZERO\n",
        "print(lista)\n",
        "\n",
        "#tamanho da lista LEN\n",
        "print(len(lista))"
      ],
      "execution_count": null,
      "outputs": [
        {
          "output_type": "stream",
          "text": [
            "['Marcelo', 'Maria', 'José', 'João']\n",
            "Marcelo\n",
            "João\n",
            "['José', 'João']\n",
            "['Marcelo', 'Maria']\n",
            "['Rodrigo', 'Maria', 'José', 'João']\n",
            "4\n"
          ],
          "name": "stdout"
        }
      ]
    },
    {
      "cell_type": "code",
      "metadata": {
        "colab": {
          "base_uri": "https://localhost:8080/"
        },
        "id": "PrL3F1kgtUoq",
        "outputId": "e6f52520-ccde-43fe-9931-f9cb6eb00de7"
      },
      "source": [
        "#lista \n",
        "lista=['Marcelo', 'Maria', 'José', 'João']\n",
        "#adicionar item na lista // adiciona no final\n",
        "lista.append('Joana')\n",
        "#print(lista)\n",
        "\n",
        "\n",
        "#copiar lista\n",
        "lista_copia = lista.copy()\n",
        "lista_copia[0] = 'Rodrigo'\n",
        "\n",
        "print(lista)\n",
        "print(lista_copia)"
      ],
      "execution_count": null,
      "outputs": [
        {
          "output_type": "stream",
          "text": [
            "['Marcelo', 'Maria', 'José', 'João', 'Joana']\n",
            "['Rodrigo', 'Maria', 'José', 'João', 'Joana']\n"
          ],
          "name": "stdout"
        }
      ]
    },
    {
      "cell_type": "code",
      "metadata": {
        "colab": {
          "base_uri": "https://localhost:8080/"
        },
        "id": "n1yk36wFukMT",
        "outputId": "384ee0c1-ce89-4a2f-e14e-6c937b9b55c3"
      },
      "source": [
        "#lista \n",
        "lista=['Marcelo', 'Maria', 'José', 'João']\n",
        "print(lista)\n",
        "#insert precisa da posicao a ser inserido // insere sem substituir\n",
        "lista.insert(0, 'Joana') \n",
        "lista.insert(2, 'Jonas') \n",
        "print(lista)\n",
        "\n",
        "#como retirar um item\n",
        "lista.remove(\"Maria\") #escolhe o valor a ser retirado\n",
        "print(lista)\n",
        "\n",
        "#como retirar pela posicao\n",
        "nome_retirado = lista.pop(2) #retira o nome da posicao do array ( 0  até len-1)\n",
        "\n",
        "print(nome_retirado)\n",
        "print(lista)\n",
        "lista.insert(0, 'Maria') \n",
        "lista.insert(2, 'Maria') \n",
        "print(lista)\n",
        "lista.remove(\"Maria\") #so remove a primeira maria encontrada\n",
        "print(lista)"
      ],
      "execution_count": null,
      "outputs": [
        {
          "output_type": "stream",
          "text": [
            "['Marcelo', 'Maria', 'José', 'João']\n",
            "['Joana', 'Marcelo', 'Jonas', 'Maria', 'José', 'João']\n",
            "['Joana', 'Marcelo', 'Jonas', 'José', 'João']\n",
            "Jonas\n",
            "['Joana', 'Marcelo', 'José', 'João']\n",
            "['Maria', 'Joana', 'Maria', 'Marcelo', 'José', 'João']\n",
            "['Joana', 'Maria', 'Marcelo', 'José', 'João']\n"
          ],
          "name": "stdout"
        }
      ]
    },
    {
      "cell_type": "code",
      "metadata": {
        "colab": {
          "base_uri": "https://localhost:8080/"
        },
        "id": "neDTIz1ZwGRL",
        "outputId": "b674fd61-9833-48a7-8ab1-228b6399a71c"
      },
      "source": [
        "lista=['Maria', 'Marcelo', 'Maria', 'José', 'João']\n",
        "\n",
        "#localizar um nome na lista\n",
        "if ('Marcelo' in lista):\n",
        "  print('Marcelo está na lista')"
      ],
      "execution_count": null,
      "outputs": [
        {
          "output_type": "stream",
          "text": [
            "Marcelo está na lista\n"
          ],
          "name": "stdout"
        }
      ]
    },
    {
      "cell_type": "code",
      "metadata": {
        "colab": {
          "base_uri": "https://localhost:8080/"
        },
        "id": "HWC1WapxwbWC",
        "outputId": "38ea5cd9-572b-4c96-f10e-48653e1f4ed1"
      },
      "source": [
        "#TUPLA\n",
        "#listas e tuplas sao mto parecidas\n",
        "#lista usa []\n",
        "#tupla usa ()\n",
        "\n",
        "tupla=('Maria', 'Marcelo', 'Maria', 'José', 'João')\n",
        "#tupla nao tem append\n",
        "#tupla nao é modificavel. nao da pra mudar nada\n",
        "print(tupla)\n",
        "print('Marcelo' in tupla)\n",
        "\n"
      ],
      "execution_count": null,
      "outputs": [
        {
          "output_type": "stream",
          "text": [
            "('Maria', 'Marcelo', 'Maria', 'José', 'João')\n",
            "True\n"
          ],
          "name": "stdout"
        }
      ]
    },
    {
      "cell_type": "code",
      "metadata": {
        "colab": {
          "base_uri": "https://localhost:8080/"
        },
        "id": "R7QcPqu0zhAz",
        "outputId": "456266c8-b244-484d-f484-7b38175c26ed"
      },
      "source": [
        "#Lista de Pessoas\n",
        "#ou lista de dicionarios\n",
        "lista_pessoas = []\n",
        "lista_pessoas.append({\n",
        "    'nome' : 'Marcelo',\n",
        "    'endereco' : 'Rua das Flores, 74',\n",
        "    'idade' : 18\n",
        "})\n",
        "print(lista_pessoas)\n",
        "lista_pessoas.append({\n",
        "    'nome' : 'Marcelo',\n",
        "    'endereco' : 'Rua das Canárias, 20',\n",
        "    'idade' : 50\n",
        "})\n",
        "lista_pessoas.append({\n",
        "    'nome' : 'Sandra',\n",
        "    'endereco' : 'Rua das Pedras, 500',\n",
        "    'idade' : 30\n",
        "})\n",
        "print(lista_pessoas)\n",
        "print(lista_pessoas[1])"
      ],
      "execution_count": null,
      "outputs": [
        {
          "output_type": "stream",
          "text": [
            "[{'nome': 'Marcelo', 'endereco': 'Rua das Flores, 74', 'idade': 18}]\n",
            "[{'nome': 'Marcelo', 'endereco': 'Rua das Flores, 74', 'idade': 18}, {'nome': 'Marcelo', 'endereco': 'Rua das Canárias, 20', 'idade': 50}, {'nome': 'Sandra', 'endereco': 'Rua das Pedras, 500', 'idade': 30}]\n",
            "{'nome': 'Marcelo', 'endereco': 'Rua das Canárias, 20', 'idade': 50}\n"
          ],
          "name": "stdout"
        }
      ]
    },
    {
      "cell_type": "code",
      "metadata": {
        "colab": {
          "base_uri": "https://localhost:8080/"
        },
        "id": "QII1w_it0kB2",
        "outputId": "288bbf35-3b8d-4edc-ced1-1082cc7adff6"
      },
      "source": [
        "#aula de laços\n",
        "\n",
        "#laço while\n",
        "\n",
        "senha_correta = False\n",
        "tentativas=3\n",
        "\n",
        "while (not senha_correta)and(tentativas>0):\n",
        "  print(\"Tentativas restantes: {}\".format(tentativas))\n",
        "  print('Tentativas restantes: ' + str(tentativas)) #transforma em string para poder printar de boa1\n",
        "  senha = input('Digite sua senha: ')\n",
        "  senha_correta = senha == 'secreto'\n",
        " \n",
        "  if(not senha_correta):\n",
        "    print('Senha incorreta')\n",
        "    #tentativas -= 1\n",
        "    tentativas = tentativas - 1\n",
        "    \n",
        "if tentativas > 0:\n",
        "  print('Você acertou a senha')  \n",
        "else:\n",
        "  print('Acesso bloqueado')  \n",
        "\n",
        "\n"
      ],
      "execution_count": null,
      "outputs": [
        {
          "output_type": "stream",
          "text": [
            "Tentativas restantes: 3\n",
            "Tentativas restantes: 3\n",
            "Digite sua senha: 54\n",
            "Senha incorreta\n",
            "Tentativas restantes: 2\n",
            "Tentativas restantes: 2\n",
            "Digite sua senha: 514\n",
            "Senha incorreta\n",
            "Tentativas restantes: 1\n",
            "Tentativas restantes: 1\n",
            "Digite sua senha: 51\n",
            "Senha incorreta\n",
            "Acesso bloqueado\n"
          ],
          "name": "stdout"
        }
      ]
    },
    {
      "cell_type": "code",
      "metadata": {
        "colab": {
          "base_uri": "https://localhost:8080/"
        },
        "id": "zHqRPYjimUx_",
        "outputId": "77863992-2229-4973-9254-6e34e8711581"
      },
      "source": [
        "#Lista de Pessoas\n",
        "#ou lista de dicionarios\n",
        "lista_pessoas = []\n",
        "lista_pessoas.append({\n",
        "    'id': 1,\n",
        "    'nome' : 'Marcelo',\n",
        "    'endereco' : 'Rua das Flores, 74',\n",
        "    'idade' : 18,\n",
        "    'salario': 1000.00\n",
        "})\n",
        "#print(lista_pessoas)\n",
        "lista_pessoas.append({\n",
        "    'id': 2,\n",
        "    'nome' : 'Marcelo',\n",
        "    'endereco' : 'Rua das Canárias, 20',\n",
        "    'idade' : 50,\n",
        "    'salario': 10000.00\n",
        "})\n",
        "lista_pessoas.append({\n",
        "    'id': 3,\n",
        "    'nome' : 'Sandra',\n",
        "    'endereco' : 'Rua das Pedras, 500',\n",
        "    'idade' : 30,\n",
        "    'salario': 5000.20\n",
        "})\n",
        "#print(lista_pessoas)\n",
        "\n",
        "for pessoa in lista_pessoas:\n",
        "  print('A pessoa de id {} tem o nome de {}'.format(pessoa['id'], pessoa['nome']))\n",
        "\n",
        "print('Mostrando pessoas com salário acima de 1000 reais:')\n",
        "\n",
        "for pessoa in lista_pessoas:\n",
        "  if (pessoa['salario'] > 1000):\n",
        "    print('A pessoa de id {} tem o nome de {}'.format(pessoa['id'], pessoa['nome']))\n",
        "\n"
      ],
      "execution_count": null,
      "outputs": [
        {
          "output_type": "stream",
          "text": [
            "A pessoa de id 1 tem o nome de Marcelo\n",
            "A pessoa de id 2 tem o nome de Marcelo\n",
            "A pessoa de id 3 tem o nome de Sandra\n",
            "Mostrando pessoas com salário acima de 1000 reais:\n",
            "A pessoa de id 2 tem o nome de Marcelo\n",
            "A pessoa de id 3 tem o nome de Sandra\n"
          ],
          "name": "stdout"
        }
      ]
    },
    {
      "cell_type": "code",
      "metadata": {
        "colab": {
          "base_uri": "https://localhost:8080/"
        },
        "id": "cz26_Yg_6SUQ",
        "outputId": "0f5dfc60-e470-43b2-cbd1-5ec45efc6d39"
      },
      "source": [
        "#mostra os numeros de 1 a 10 - pares\n",
        "for numero in range(1,11):\n",
        "  if (numero % 2 == 0):\n",
        "    print(numero)\n",
        "\n",
        "for numero in range(1, 11, 3): #de 3 em 3, começa no 1 até 10. pulando de 3 em 3\n",
        " \n",
        "    print(numero)    "
      ],
      "execution_count": null,
      "outputs": [
        {
          "output_type": "stream",
          "text": [
            "2\n",
            "4\n",
            "6\n",
            "8\n",
            "10\n",
            "1\n",
            "4\n",
            "7\n",
            "10\n"
          ],
          "name": "stdout"
        }
      ]
    },
    {
      "cell_type": "code",
      "metadata": {
        "colab": {
          "base_uri": "https://localhost:8080/"
        },
        "id": "7HV8mk6P7l-q",
        "outputId": "c6ce79a9-1331-47e2-d44e-195de13494a5"
      },
      "source": [
        "from getpass import getpass\n",
        "from getpass import getuser\n",
        "senha = getpass('Digite sua senha')\n",
        "usuario = getuser()\n",
        "print(usuario)\n"
      ],
      "execution_count": null,
      "outputs": [
        {
          "output_type": "stream",
          "text": [
            "Digite sua senha··········\n",
            "root\n"
          ],
          "name": "stdout"
        }
      ]
    },
    {
      "cell_type": "code",
      "metadata": {
        "colab": {
          "base_uri": "https://localhost:8080/"
        },
        "id": "6OvDFSVhtanI",
        "outputId": "66367840-5da0-422d-d3a1-5cb774414d4c"
      },
      "source": [
        "#digitar o item compra e quantidade\n",
        "#verificar o valor total\n",
        "#quando encerrar a compra dou o valor total \n",
        "produtos = ['Hamburger', 'Batatas Fritas', 'Combo n.1', 'Refrigerante']\n",
        "cprecos = [15, 10.5, 20, 5]\n",
        "itens_comprados = []\n",
        "qtd_comprados = []\n",
        "valor_compra = 0\n",
        "item_compra = int(input('Qual o identificador do item da compra?'))\n",
        "\n",
        "informacao = input(\"Qual quantidade consumida?\")\n",
        "while (not informacao.isdigit()):\n",
        "  informacao = input('A quantidade deve ser um número. Digite novamente')\n",
        "quantidade = int(informacao)\n",
        "itens_comprados.append(produtos[item_compra])\n",
        "qtd_comprados.append(informacao)\n",
        "#item_compra = int(input('Qual o identificador do item da compra?'))\n",
        "#52quantidade = int(input('Qual quantidade consumida?'))\n",
        "\n",
        "\n",
        "while item_compra != -1:\n",
        "  valor_compra += (precos[item_compra]*quantidade)\n",
        "  item_compra = int(input('Qual o identificador do item da compra?'))\n",
        "  \n",
        "  if(item_compra==-1):\n",
        "    break\n",
        "  itens_comprados.append(produtos[item_compra])\n",
        "  informacao = input(\"Qual quantidade consumida?\")\n",
        "  while (not informacao.isdigit()):\n",
        "    informacao = input('A quantidade deve ser um número. Digite novamente')\n",
        "  quantidade = int(informacao)\n",
        "print('O total da compra {}'.format(valor_compra))  \n",
        "print('****')\n",
        "for item in itens_comprados:\n",
        "  print('Comprado: {}'.format(item))\n",
        "  \n"
      ],
      "execution_count": null,
      "outputs": [
        {
          "output_type": "stream",
          "text": [
            "Qual o identificador do item da compra?1\n",
            "Qual quantidade consumida?1\n",
            "Qual o identificador do item da compra?-1\n",
            "O total da compra 10.5\n",
            "****\n",
            "Comprado: Batatas Fritas\n"
          ],
          "name": "stdout"
        }
      ]
    }
  ]
}